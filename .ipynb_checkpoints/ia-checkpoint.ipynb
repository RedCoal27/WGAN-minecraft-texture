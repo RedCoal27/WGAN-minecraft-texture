{
 "cells": [
  {
   "cell_type": "code",
   "execution_count": 1,
   "metadata": {
    "id": "dFCYpZCEtZk6"
   },
   "outputs": [],
   "source": [
    "# !pip install cloud-tpu-client==0.10 torch==2.0.0  torchvision==0.15.1 https://storage.googleapis.com/tpu-pytorch/wheels/cuda/117/torch_xla-2.0-cp39-cp39-linux_x86_64.whl --force-reinstall"
   ]
  },
  {
   "cell_type": "code",
   "execution_count": 2,
   "metadata": {},
   "outputs": [
    {
     "name": "stdout",
     "output_type": "stream",
     "text": [
      "3.8.5 (default, Sep  4 2020, 07:30:14) \n",
      "[GCC 7.3.0]\n"
     ]
    }
   ],
   "source": [
    "import sys\n",
    "print(sys.version)\n",
    "\n"
   ]
  },
  {
   "cell_type": "code",
   "execution_count": 3,
   "metadata": {
    "scrolled": true
   },
   "outputs": [
    {
     "name": "stdout",
     "output_type": "stream",
     "text": [
      "Tue Feb 13 15:18:49 2024       \n",
      "+-----------------------------------------------------------------------------+\n",
      "| NVIDIA-SMI 460.32.03    Driver Version: 460.32.03    CUDA Version: 11.2     |\n",
      "|-------------------------------+----------------------+----------------------+\n",
      "| GPU  Name        Persistence-M| Bus-Id        Disp.A | Volatile Uncorr. ECC |\n",
      "| Fan  Temp  Perf  Pwr:Usage/Cap|         Memory-Usage | GPU-Util  Compute M. |\n",
      "|                               |                      |               MIG M. |\n",
      "|===============================+======================+======================|\n",
      "|   0  Tesla V100-SXM2...  Off  | 00000000:18:00.0 Off |                    0 |\n",
      "| N/A   53C    P0    58W / 300W |      0MiB / 32510MiB |      0%      Default |\n",
      "|                               |                      |                  N/A |\n",
      "+-------------------------------+----------------------+----------------------+\n",
      "|   1  Tesla V100-SXM2...  Off  | 00000000:3B:00.0 Off |                    0 |\n",
      "| N/A   34C    P0    54W / 300W |      0MiB / 32510MiB |      0%      Default |\n",
      "|                               |                      |                  N/A |\n",
      "+-------------------------------+----------------------+----------------------+\n",
      "|   2  Tesla V100-SXM2...  Off  | 00000000:86:00.0 Off |                    0 |\n",
      "| N/A   34C    P0    52W / 300W |      0MiB / 32510MiB |      0%      Default |\n",
      "|                               |                      |                  N/A |\n",
      "+-------------------------------+----------------------+----------------------+\n",
      "|   3  Tesla V100-SXM2...  Off  | 00000000:AF:00.0 Off |                    0 |\n",
      "| N/A   38C    P0    53W / 300W |      0MiB / 32510MiB |      0%      Default |\n",
      "|                               |                      |                  N/A |\n",
      "+-------------------------------+----------------------+----------------------+\n",
      "                                                                               \n",
      "+-----------------------------------------------------------------------------+\n",
      "| Processes:                                                                  |\n",
      "|  GPU   GI   CI        PID   Type   Process name                  GPU Memory |\n",
      "|        ID   ID                                                   Usage      |\n",
      "|=============================================================================|\n",
      "|  No running processes found                                                 |\n",
      "+-----------------------------------------------------------------------------+\n"
     ]
    }
   ],
   "source": [
    "!nvidia-smi"
   ]
  },
  {
   "cell_type": "code",
   "execution_count": 4,
   "metadata": {
    "id": "BlUatQQME_uo",
    "scrolled": true
   },
   "outputs": [],
   "source": [
    "import os\n",
    "import PIL\n",
    "from PIL import Image\n",
    "import random\n",
    "import matplotlib.pyplot as plt\n",
    "import torch\n",
    "import torch.nn as nn\n",
    "import torch.optim as optim\n",
    "from torch.utils.data import DataLoader, Dataset\n",
    "from torchvision import transforms\n",
    "import numpy as np\n",
    "import time\n",
    "# import torch_xla\n",
    "# import torch_xla.core.xla_model as xm\n",
    "\n",
    "torch.backends.cudnn.benchmark = True\n",
    "\n"
   ]
  },
  {
   "cell_type": "code",
   "execution_count": 5,
   "metadata": {
    "colab": {
     "base_uri": "https://localhost:8080/"
    },
    "id": "5m0RB5lWfoEN",
    "outputId": "6c353061-e730-4c68-db64-c4a590289478"
   },
   "outputs": [
    {
     "name": "stdout",
     "output_type": "stream",
     "text": [
      "cuda\n",
      "Nombre total de GPU disponibles : 2\n",
      "GPU 0: Tesla V100-SXM2-32GB\n",
      "GPU 1: Tesla V100-SXM2-32GB\n"
     ]
    }
   ],
   "source": [
    "# Utiliser CUDA si disponible\n",
    "device = torch.device(\"cuda\" if torch.cuda.is_available() else \"cpu\")\n",
    "print(device)\n",
    "\n",
    "num_gpus = torch.cuda.device_count()\n",
    "print(f\"Nombre total de GPU disponibles : {num_gpus}\")\n",
    "\n",
    "# Affiche le nom de chaque GPU\n",
    "for i in range(num_gpus):\n",
    "    print(f\"GPU {i}: {torch.cuda.get_device_name(i)}\")\n",
    "\n"
   ]
  },
  {
   "cell_type": "code",
   "execution_count": 6,
   "metadata": {
    "colab": {
     "base_uri": "https://localhost:8080/",
     "height": 183
    },
    "id": "_fVFLt97foEN",
    "outputId": "67377ecc-7865-4fec-a199-b02cf808e2e1"
   },
   "outputs": [
    {
     "data": {
      "image/png": "[encoded data removed]",
      "text/plain": [
       "<Figure size 1080x216 with 5 Axes>"
      ]
     },
     "metadata": {
      "needs_background": "light"
     },
     "output_type": "display_data"
    }
   ],
   "source": [
    "import pickle\n",
    "\n",
    "# Charger le dataset\n",
    "with open('only_clock.pkl', 'rb') as f:\n",
    "    dataset = pickle.load(f)\n",
    "\n",
    "\n",
    "def wrap_label(label, max_width=20):\n",
    "    \"\"\"\n",
    "    Divise un label en plusieurs lignes si sa longueur dépasse max_width.\n",
    "    \"\"\"\n",
    "    words = label.split()\n",
    "    wrapped_label = \"\"\n",
    "    line = \"\"\n",
    "    for word in words:\n",
    "        if len(line) + len(word) <= max_width:\n",
    "            line += word + \" \"\n",
    "        else:\n",
    "            wrapped_label += line.strip() + \"\\n\"\n",
    "            line = word + \" \"\n",
    "    wrapped_label += line.strip()\n",
    "    return wrapped_label\n",
    "\n",
    "# Example: print 5 random images on the same plot\n",
    "fig, axes = plt.subplots(1, 5, figsize=(15, 3))  # Adjust the figsize to change the overall plot size\n",
    "for i, (image, label) in enumerate(random.sample(dataset, 5)):\n",
    "    axes[i].imshow(image)\n",
    "    axes[i].set_title(wrap_label(label), fontsize=10)  # Utilisez wrap_label pour diviser le label\n",
    "    axes[i].axis('off')  # Remove the axis labels\n",
    "\n",
    "# Adjust the spacing between the images\n",
    "plt.subplots_adjust(wspace=0.3, hspace=0.6)  # Increase hspace to accommodate wrapped labels\n",
    "\n",
    "# Show the plot\n",
    "plt.show()"
   ]
  },
  {
   "cell_type": "code",
   "execution_count": 7,
   "metadata": {
    "colab": {
     "base_uri": "https://localhost:8080/",
     "height": 529,
     "referenced_widgets": [
      "535abda3a1c748a2a3c8f14170c5e09c",
      "525e7c8a7eba4af7b3f64eaeb26e8a97",
      "00e59dcdaeaa4ab2ba5fbec0b6bf395f",
      "3764cc3b6f8f4bc091b919fa49276fc4",
      "3d0ee1b9ce07444ebc9a2f70b6480e65",
      "fca5b5e4105743888a2470e62695d165",
      "e86ec2dbb5f145e8ab14f84d869c75d2",
      "bc028c0b5ef84087b05ab751e8188a0d",
      "f86633529182492db15151fceb37bccb",
      "fc261bc3ba1d413b8f8efd5adcac71e6",
      "daf5d4f525ef465b9c1d26a31aa59c02",
      "ee68495ed71440478744b5453bbf7b93",
      "fb1fef198809455ba9d10a48292b7097",
      "3f5285ca2efe40a69e07f5e31cc2c3c1",
      "cb436f75037b45a6a6095a5c3bd7944f",
      "c4f93c3b085146ebb376c77a39081681",
      "5ad407489dcd488e9a3e93d47c2d739d",
      "c11231aa7a664131b2add66822a566c7",
      "bffa6404a251479fb63915002a9e3ded",
      "eb53ba5a6f7449f4b49f70531ac399ae",
      "99b134f8bba841298bb8d66a9235b09f",
      "7fb5ddb7c7024b42971aa0c304621621",
      "9f8298fe35db4599a5182a2ff4e7fada",
      "9a8df78f5ec6407ebb100dbc4572ddcc",
      "875b125909124befacf3be402b2a6a91",
      "8a7ed5c893644e599ced9a34d2fe1c94",
      "43bd0de55e2a4a418034f19d7dbbaf7b",
      "c4c1e887d18e4e70afdc9f26b772e9aa",
      "9d0cb452db844f35b471024bc6daf9ed",
      "73fde457d05e450baa516d5730a64d0f",
      "ee74395ec2e44cd3ae653c3a066963fe",
      "95b7ca3165c7462195b714cc54993411",
      "bb015c7c8f224109b5f3e28524dd6e05",
      "bc1945333a2540c9b1f86322f36cdea8",
      "3501c0bde1954079b6ad6556668187ca",
      "28233c6c11184cff9a1d90202feedd88",
      "5ce4f464eb094b16bf79eeeb3a4956e4",
      "7c369fa2802345408265b856264319de",
      "c5ffe37ba08d44e0881dd625ee4b683d",
      "9157ae62362e47cabadc6f614ed2695a",
      "80ec974da8b5452cbfe7c7b0bf3a03ac",
      "ec3adfcfa00a40e98e98ada23b9f8c79",
      "49f02285c9ba45f5917058bee1045415",
      "092c74935e7a4ac9a185535d709cd9ad"
     ]
    },
    "id": "VpA-dwCIE_ut",
    "outputId": "588b3293-bc46-40bf-ab28-6cdafd1e3ca1"
   },
   "outputs": [
    {
     "name": "stdout",
     "output_type": "stream",
     "text": [
      "Label: clock 59 vanilla\n",
      "Embedding: torch.Size([1, 12, 40])\n",
      "\n",
      "Label: clock 19 vibrant\n",
      "Embedding: torch.Size([1, 12, 40])\n",
      "\n",
      "Label: clock 29 cozy\n",
      "Embedding: torch.Size([1, 12, 40])\n",
      "\n",
      "Label: clock 27 vanilla\n",
      "Embedding: torch.Size([1, 12, 40])\n",
      "\n",
      "Label: clock 52 detailed\n",
      "Embedding: torch.Size([1, 12, 40])\n",
      "\n"
     ]
    }
   ],
   "source": [
    "import torch\n",
    "import torch.nn as nn\n",
    "from transformers import AutoTokenizer\n",
    "\n",
    "class TextEmbedder(nn.Module):\n",
    "    def __init__(self, embedding_dim, max_length):\n",
    "        super(TextEmbedder, self).__init__()\n",
    "        self.tokenizer = AutoTokenizer.from_pretrained(\"distilbert-base-uncased\")\n",
    "        self.embedding = nn.Embedding(self.tokenizer.vocab_size, embedding_dim)\n",
    "        self.max_length = max_length\n",
    "\n",
    "    def forward(self, text_list):\n",
    "        # Tokenize et Tronquer/Rembourrer\n",
    "        encoded_input = self.tokenizer(text_list, padding='max_length', truncation=True, max_length=self.max_length, return_tensors=\"pt\")\n",
    "        token_ids = encoded_input['input_ids']\n",
    "\n",
    "        # Embedding\n",
    "        return self.embedding(token_ids)\n",
    "\n",
    "# Créez une instance de la classe\n",
    "embedding_dim = 40  # Dimension de l'espace d'embedding\n",
    "max_length = 12     # Longueur maximale fixe (correspondant au max de mots dans le dataset)\n",
    "text_embedder = TextEmbedder(embedding_dim, max_length)\n",
    "\n",
    "# text_embedder.to(device)\n",
    "\n",
    "for i, (image, label) in enumerate(random.sample(dataset, 5)):\n",
    "    print(f\"Label: {label}\")\n",
    "    print(f\"Embedding: {text_embedder([label]).shape}\")\n",
    "    print()\n"
   ]
  },
  {
   "cell_type": "code",
   "execution_count": 8,
   "metadata": {
    "colab": {
     "base_uri": "https://localhost:8080/"
    },
    "id": "Z94EjzvRE_uu",
    "outputId": "ee58ec11-884e-49cf-eef2-ddc5aabf0b2f"
   },
   "outputs": [
    {
     "name": "stdout",
     "output_type": "stream",
     "text": [
      "362\n"
     ]
    }
   ],
   "source": [
    "from torch.utils.data import Dataset, DataLoader\n",
    "from torchvision import transforms\n",
    "import numpy as np\n",
    "\n",
    "class CustomDataset(Dataset):\n",
    "    def __init__(self, dataset, text_embedder):\n",
    "        self.transform = transforms.Compose([\n",
    "            transforms.ToTensor(),\n",
    "            transforms.Normalize(mean=[0.5, 0.5, 0.5, 0.5], std=[0.5, 0.5, 0.5, 0.5])\n",
    "        ])\n",
    "        self.text_embedder = text_embedder\n",
    "\n",
    "        self.transformed_images = []\n",
    "        self.label_embeddings = []\n",
    "\n",
    "        for image, label in dataset:\n",
    "            self.transformed_images.append(self.transform(image))\n",
    "            with torch.no_grad():\n",
    "                embedded_label = self.text_embedder([label]).squeeze(0)\n",
    "            self.label_embeddings.append(embedded_label.detach())\n",
    "\n",
    "    def __len__(self):\n",
    "        return len(self.transformed_images)\n",
    "\n",
    "    def __getitem__(self, idx):\n",
    "        return self.transformed_images[idx], self.label_embeddings[idx]\n",
    "\n",
    "custom_dataset = CustomDataset(dataset, text_embedder)\n",
    "dataloader = DataLoader(custom_dataset, batch_size=8, shuffle=True)\n",
    "\n",
    "print(len(dataloader))\n"
   ]
  },
  {
   "cell_type": "code",
   "execution_count": 9,
   "metadata": {
    "colab": {
     "base_uri": "https://localhost:8080/"
    },
    "id": "mQCC3beGGktE",
    "outputId": "582beab3-d7a1-4d3e-e712-d106adf4dc96"
   },
   "outputs": [
    {
     "data": {
      "text/plain": [
       "DataParallel(\n",
       "  (module): Generator(\n",
       "    (net): Sequential(\n",
       "      (0): Linear(in_features=530, out_features=16384, bias=True)\n",
       "      (1): Unflatten(dim=1, unflattened_size=(1024, 4, 4))\n",
       "      (2): InstanceNorm2d(1024, eps=1e-05, momentum=0.1, affine=False, track_running_stats=False)\n",
       "      (3): LeakyReLU(negative_slope=0.01)\n",
       "      (4): ConvTranspose2d(1024, 512, kernel_size=(5, 5), stride=(2, 2), padding=(2, 2), output_padding=(1, 1), bias=False)\n",
       "      (5): BatchNorm2d(512, eps=1e-05, momentum=0.1, affine=True, track_running_stats=True)\n",
       "      (6): LeakyReLU(negative_slope=0.01)\n",
       "      (7): ConvTranspose2d(512, 256, kernel_size=(5, 5), stride=(2, 2), padding=(2, 2), output_padding=(1, 1), bias=False)\n",
       "      (8): BatchNorm2d(256, eps=1e-05, momentum=0.1, affine=True, track_running_stats=True)\n",
       "      (9): LeakyReLU(negative_slope=0.01)\n",
       "      (10): ConvTranspose2d(256, 256, kernel_size=(3, 3), stride=(1, 1), padding=(1, 1), bias=False)\n",
       "      (11): BatchNorm2d(256, eps=1e-05, momentum=0.1, affine=True, track_running_stats=True)\n",
       "      (12): LeakyReLU(negative_slope=0.01)\n",
       "      (13): ConvTranspose2d(256, 4, kernel_size=(5, 5), stride=(1, 1), padding=(2, 2), bias=False)\n",
       "      (14): Tanh()\n",
       "    )\n",
       "  )\n",
       ")"
      ]
     },
     "execution_count": 9,
     "metadata": {},
     "output_type": "execute_result"
    }
   ],
   "source": [
    "class Generator(nn.Module):\n",
    "    def __init__(self, label_dim, img_channels, N_dim):\n",
    "        super(Generator, self).__init__()\n",
    "        self.net = nn.Sequential(\n",
    "            nn.Linear(label_dim + N_dim, 4 * 4 * 1024),\n",
    "            nn.Unflatten(1, (1024, 4, 4)),\n",
    "\n",
    "            nn.InstanceNorm2d(1024, affine=False),\n",
    "            nn.LeakyReLU(),\n",
    "\n",
    "            nn.ConvTranspose2d(1024, 512, kernel_size=5, stride=2, padding=2, output_padding=1, bias=False),\n",
    "            nn.BatchNorm2d(512),\n",
    "            nn.LeakyReLU(),\n",
    "\n",
    "            # Bloc retiré\n",
    "\n",
    "            nn.ConvTranspose2d(512, 256, kernel_size=5, stride=2, padding=2, output_padding=1, bias=False),\n",
    "            nn.BatchNorm2d(256),\n",
    "            nn.LeakyReLU(),\n",
    "\n",
    "            nn.ConvTranspose2d(256, 256, kernel_size=3, stride=1, padding=1, bias=False),\n",
    "            nn.BatchNorm2d(256),\n",
    "            nn.LeakyReLU(),\n",
    "\n",
    "            nn.ConvTranspose2d(256, img_channels, kernel_size=5, stride=1, padding=2, bias=False),\n",
    "            nn.Tanh()\n",
    "        )\n",
    "\n",
    "    def forward(self, label):\n",
    "        batch_size = label.size(0)\n",
    "        # Génération du vecteur de bruit directement dans le forward\n",
    "        noise = torch.randn(batch_size, N_dim, device=label.device)\n",
    "        # Concaténation de l'étiquette et du bruit\n",
    "        x = torch.cat((label, noise), dim=1)\n",
    "        x = x.view(x.size(0), -1)\n",
    "        return self.net(x)\n",
    "\n",
    "class Discriminator(nn.Module):\n",
    "    def __init__(self, label_dim, img_channels):\n",
    "        super(Discriminator, self).__init__()\n",
    "        self.image_part = nn.Sequential(\n",
    "            nn.Conv2d(img_channels, 64, kernel_size=5, stride=2, padding=2),\n",
    "            nn.LeakyReLU(0.2),\n",
    "            nn.Dropout(0.3),\n",
    "\n",
    "            nn.Conv2d(64, 128, kernel_size=5, stride=2, padding=2),\n",
    "            nn.LeakyReLU(0.2),\n",
    "            nn.Dropout(0.4),\n",
    "\n",
    "            nn.Flatten(),\n",
    "\n",
    "            # Nouvelles couches après l'aplatissement\n",
    "            nn.Linear(128 * 4 * 4, 512),\n",
    "            nn.LeakyReLU(0.2),\n",
    "            nn.Dropout(0.4),\n",
    "\n",
    "            nn.Linear(512, 128 * 4 * 4),\n",
    "            nn.LeakyReLU(0.2),\n",
    "            nn.Dropout(0.4),\n",
    "        )\n",
    "        self.label_part = nn.Linear(label_dim, 1024)\n",
    "        self.combined_part = nn.Sequential(\n",
    "            nn.Linear(128 * 4 * 4 + 1024, 1),\n",
    "        )\n",
    "\n",
    "    def forward(self, image, label_embedding):\n",
    "        image_features = self.image_part(image)\n",
    "        label_features = self.label_part(label_embedding.view(label_embedding.size(0), -1))\n",
    "        combined = torch.cat([image_features, label_features], dim=1)\n",
    "        return self.combined_part(combined)\n",
    "\n",
    "# Initialisation des réseaux\n",
    "label_dim = embedding_dim * max_length\n",
    "img_channels = 4  # RGBA\n",
    "N_dim = 50\n",
    "\n",
    "\n",
    "generator = Generator(label_dim, img_channels, N_dim)\n",
    "discriminator = Discriminator(label_dim, img_channels)\n",
    "\n",
    "generator = nn.DataParallel(generator, device_ids=[0]) # Assurez-vous que ces IDs correspondent à vos GPU\n",
    "discriminator = nn.DataParallel(discriminator, device_ids=[0])\n",
    "\n",
    "discriminator.to(device)\n",
    "generator.to(device)\n"
   ]
  },
  {
   "cell_type": "markdown",
   "metadata": {
    "id": "VIvQF6OHrNGx"
   },
   "source": [
    "## learning rate\n"
   ]
  },
  {
   "cell_type": "code",
   "execution_count": 15,
   "metadata": {
    "id": "QmyQ12b9emvm"
   },
   "outputs": [],
   "source": [
    "# Utiliser RMSProp au lieu de Adam\n",
    "optimizer_G = torch.optim.RMSprop(generator.parameters(), lr=0.0002)\n",
    "optimizer_D = torch.optim.RMSprop(discriminator.parameters(), lr=0.00025)\n",
    "\n",
    "# Clipper les poids\n",
    "def weights_clipper(m):\n",
    "    if isinstance(m, nn.Conv2d) or isinstance(m, nn.ConvTranspose2d) or isinstance(m, nn.Linear):\n",
    "        m.weight.data.clamp_(-0.01, 0.01)\n"
   ]
  },
  {
   "cell_type": "code",
   "execution_count": 16,
   "metadata": {
    "colab": {
     "base_uri": "https://localhost:8080/"
    },
    "id": "3yTVaR4OY9zO",
    "outputId": "54c91da4-7de7-4db5-dae3-c27b96a3b440"
   },
   "outputs": [
    {
     "data": {
      "text/plain": [
       "DataParallel(\n",
       "  (module): Discriminator(\n",
       "    (image_part): Sequential(\n",
       "      (0): Conv2d(4, 64, kernel_size=(5, 5), stride=(2, 2), padding=(2, 2))\n",
       "      (1): LeakyReLU(negative_slope=0.2)\n",
       "      (2): Dropout(p=0.3, inplace=False)\n",
       "      (3): Conv2d(64, 128, kernel_size=(5, 5), stride=(2, 2), padding=(2, 2))\n",
       "      (4): LeakyReLU(negative_slope=0.2)\n",
       "      (5): Dropout(p=0.4, inplace=False)\n",
       "      (6): Flatten(start_dim=1, end_dim=-1)\n",
       "      (7): Linear(in_features=2048, out_features=512, bias=True)\n",
       "      (8): LeakyReLU(negative_slope=0.2)\n",
       "      (9): Dropout(p=0.4, inplace=False)\n",
       "      (10): Linear(in_features=512, out_features=2048, bias=True)\n",
       "      (11): LeakyReLU(negative_slope=0.2)\n",
       "      (12): Dropout(p=0.4, inplace=False)\n",
       "    )\n",
       "    (label_part): Linear(in_features=480, out_features=1024, bias=True)\n",
       "    (combined_part): Sequential(\n",
       "      (0): Linear(in_features=3072, out_features=1, bias=True)\n",
       "    )\n",
       "  )\n",
       ")"
      ]
     },
     "execution_count": 16,
     "metadata": {},
     "output_type": "execute_result"
    }
   ],
   "source": [
    "# Fonction pour générer une image à partir d'un label\n",
    "def generate_image(label, text_embedder, generator, device, noise_std=0.0001):\n",
    "    # Transformer le label en embedding\n",
    "    label_embedding = text_embedder([label]).squeeze(0).to(device)\n",
    "    label_embedding = label_embedding.view(1, -1)\n",
    "\n",
    "#     # Ajouter du bruit gaussien à l'embedding\n",
    "#     noise = torch.randn_like(label_embedding) * noise_std\n",
    "#     noisy_embedding = label_embedding + noise\n",
    "\n",
    "    # Générer l'image\n",
    "    with torch.no_grad():  # Pas besoin de calculer les gradients\n",
    "        fake_image = generator(label_embedding).squeeze(0)\n",
    "\n",
    "    return fake_image\n",
    "\n",
    "def weights_init_normal(m):\n",
    "    if isinstance(m, nn.Conv2d) or isinstance(m, nn.ConvTranspose2d) or isinstance(m, nn.Linear):\n",
    "        torch.nn.init.normal_(m.weight.data, 0.0, 0.02)\n",
    "    elif isinstance(m, nn.BatchNorm2d):\n",
    "        torch.nn.init.normal_(m.weight.data, 1.0, 0.02)\n",
    "        torch.nn.init.constant_(m.bias.data, 0)\n",
    "\n",
    "# # Appliquer l'initialisation\n",
    "generator.apply(weights_init_normal)\n",
    "discriminator.apply(weights_init_normal)\n",
    "\n",
    "\n",
    "# # load le modèle complet\n",
    "# generator = torch.load('/content/drive/MyDrive/Colab Notebooks/deep learning/generator_model5.pth')\n",
    "# discriminator = torch.load('/content/drive/MyDrive/Colab Notebooks/deep learning/discriminator_model5.pth')\n",
    "\n"
   ]
  },
  {
   "cell_type": "code",
   "execution_count": 17,
   "metadata": {
    "colab": {
     "base_uri": "https://localhost:8080/"
    },
    "id": "Z3_qg_MIVwTb",
    "outputId": "d4e67568-450f-4506-b9bd-c40bb923936e"
   },
   "outputs": [
    {
     "name": "stdout",
     "output_type": "stream",
     "text": [
      "clock 07 vanilla\n",
      "clock 42 vanilla\n",
      "clock 17 vanilla\n",
      "clock 47 colorful\n",
      "clock 62 pixel\n"
     ]
    },
    {
     "data": {
      "image/png": "[encoded data removed]",
      "text/plain": [
       "<Figure size 1080x216 with 5 Axes>"
      ]
     },
     "metadata": {
      "needs_background": "light"
     },
     "output_type": "display_data"
    }
   ],
   "source": [
    "\n",
    "# import time\n",
    "# time.sleep(10)\n",
    "\n",
    "\n",
    "test_sample = random.sample(dataset, 5)\n",
    "\n",
    "for image, label in test_sample:\n",
    "  print(label)\n",
    "\n",
    "# Example: print 5 random images on the same plot\n",
    "fig, axes = plt.subplots(1, 5, figsize=(15, 3))  # Adjust the figsize to change the overall plot size\n",
    "for i, (image, label) in enumerate(test_sample):\n",
    "    axes[i].imshow(image)\n",
    "    axes[i].set_title(wrap_label(label), fontsize=10)  # Utilisez wrap_label pour diviser le label\n",
    "    axes[i].axis('off')  # Remove the axis labels\n",
    "\n",
    "# Adjust the spacing between the images\n",
    "plt.subplots_adjust(wspace=0.3, hspace=0.6)  # Increase hspace to accommodate wrapped labels\n",
    "\n",
    "# Show the plot\n",
    "plt.show()"
   ]
  },
  {
   "cell_type": "code",
   "execution_count": null,
   "metadata": {
    "colab": {
     "base_uri": "https://localhost:8080/",
     "height": 172
    },
    "id": "SL3tD8XA1RYV",
    "outputId": "825b1bd0-e418-42e1-8344-d061c7fd9ca8"
   },
   "outputs": [],
   "source": []
  },
  {
   "cell_type": "code",
   "execution_count": 18,
   "metadata": {
    "id": "igoHbq59K3Mk"
   },
   "outputs": [],
   "source": [
    "# Initialisation des listes pour enregistrer les pertes\n",
    "d_losses = []\n",
    "g_losses = []\n",
    "\n"
   ]
  },
  {
   "cell_type": "code",
   "execution_count": 19,
   "metadata": {
    "colab": {
     "base_uri": "https://localhost:8080/",
     "height": 1000
    },
    "id": "Z3GXdlNeE_uu",
    "outputId": "a60fb484-5546-43cc-f5c7-585ccbfa462f",
    "scrolled": true
   },
   "outputs": [
    {
     "name": "stdout",
     "output_type": "stream",
     "text": [
      "Epoch 0\n",
      "MSE entre images consécutives: 0.14864683151245117\n",
      "MSE entre images consécutives: 0.11370491236448288\n",
      "MSE entre images consécutives: 0.18057216703891754\n",
      "MSE entre images consécutives: 0.2019994705915451\n"
     ]
    },
    {
     "data": {
      "image/png": "[encoded data removed]",
      "text/plain": [
       "<Figure size 1080x216 with 5 Axes>"
      ]
     },
     "metadata": {
      "needs_background": "light"
     },
     "output_type": "display_data"
    },
    {
     "data": {
      "image/png": "[encoded data removed]",
      "text/plain": [
       "<Figure size 720x360 with 1 Axes>"
      ]
     },
     "metadata": {
      "needs_background": "light"
     },
     "output_type": "display_data"
    },
    {
     "name": "stdout",
     "output_type": "stream",
     "text": [
      "Epoch 10\n",
      "MSE entre images consécutives: 8.92366879270412e-05\n",
      "MSE entre images consécutives: 5.002602483727969e-05\n",
      "MSE entre images consécutives: 0.0001266009930986911\n",
      "MSE entre images consécutives: 7.533479947596788e-05\n"
     ]
    },
    {
     "data": {
      "image/png": "[encoded data removed]",
      "text/plain": [
       "<Figure size 1080x216 with 5 Axes>"
      ]
     },
     "metadata": {
      "needs_background": "light"
     },
     "output_type": "display_data"
    },
    {
     "data": {
      "image/png": "[encoded data removed]",
      "text/plain": [
       "<Figure size 720x360 with 1 Axes>"
      ]
     },
     "metadata": {
      "needs_background": "light"
     },
     "output_type": "display_data"
    },
    {
     "name": "stdout",
     "output_type": "stream",
     "text": [
      "Epoch 20\n",
      "MSE entre images consécutives: 6.789836334064603e-05\n",
      "MSE entre images consécutives: 0.00011181228910572827\n",
      "MSE entre images consécutives: 8.579068526159972e-05\n",
      "MSE entre images consécutives: 0.0001693173253443092\n"
     ]
    },
    {
     "data": {
      "image/png": "[encoded data removed]",
      "text/plain": [
       "<Figure size 1080x216 with 5 Axes>"
      ]
     },
     "metadata": {
      "needs_background": "light"
     },
     "output_type": "display_data"
    },
    {
     "data": {
      "image/png": "[encoded data removed]",
      "text/plain": [
       "<Figure size 720x360 with 1 Axes>"
      ]
     },
     "metadata": {
      "needs_background": "light"
     },
     "output_type": "display_data"
    },
    {
     "name": "stdout",
     "output_type": "stream",
     "text": [
      "Epoch 30\n",
      "MSE entre images consécutives: 0.0003057168796658516\n",
      "MSE entre images consécutives: 0.0001858788455137983\n",
      "MSE entre images consécutives: 0.00017446372658014297\n",
      "MSE entre images consécutives: 0.00011495905346237123\n"
     ]
    },
    {
     "data": {
      "image/png": "[encoded data removed]",
      "text/plain": [
       "<Figure size 1080x216 with 5 Axes>"
      ]
     },
     "metadata": {
      "needs_background": "light"
     },
     "output_type": "display_data"
    },
    {
     "data": {
      "image/png": "[encoded data removed]",
      "text/plain": [
       "<Figure size 720x360 with 1 Axes>"
      ]
     },
     "metadata": {
      "needs_background": "light"
     },
     "output_type": "display_data"
    },
    {
     "name": "stdout",
     "output_type": "stream",
     "text": [
      "Epoch 40\n",
      "MSE entre images consécutives: 6.751395994797349e-05\n",
      "MSE entre images consécutives: 9.03183245100081e-05\n",
      "MSE entre images consécutives: 0.00016189564485102892\n",
      "MSE entre images consécutives: 0.00018787628505378962\n"
     ]
    },
    {
     "data": {
      "image/png": "[encoded data removed]",
      "text/plain": [
       "<Figure size 1080x216 with 5 Axes>"
      ]
     },
     "metadata": {
      "needs_background": "light"
     },
     "output_type": "display_data"
    },
    {
     "data": {
      "image/png": "[encoded data removed]",
      "text/plain": [
       "<Figure size 720x360 with 1 Axes>"
      ]
     },
     "metadata": {
      "needs_background": "light"
     },
     "output_type": "display_data"
    },
    {
     "name": "stdout",
     "output_type": "stream",
     "text": [
      "Epoch 50\n",
      "MSE entre images consécutives: 0.00010234910587314516\n",
      "MSE entre images consécutives: 0.00011217693099752069\n",
      "MSE entre images consécutives: 0.00023156669340096414\n",
      "MSE entre images consécutives: 0.0002268702955916524\n"
     ]
    },
    {
     "data": {
      "image/png": "[encoded data removed]",
      "text/plain": [
       "<Figure size 1080x216 with 5 Axes>"
      ]
     },
     "metadata": {
      "needs_background": "light"
     },
     "output_type": "display_data"
    },
    {
     "data": {
      "image/png": "[encoded data removed]",
      "text/plain": [
       "<Figure size 720x360 with 1 Axes>"
      ]
     },
     "metadata": {
      "needs_background": "light"
     },
     "output_type": "display_data"
    },
    {
     "name": "stdout",
     "output_type": "stream",
     "text": [
      "Epoch 60\n",
      "MSE entre images consécutives: 2.809955731208902e-05\n",
      "MSE entre images consécutives: 0.00018276870832778513\n",
      "MSE entre images consécutives: 0.0003553617571014911\n",
      "MSE entre images consécutives: 0.00025838756118901074\n"
     ]
    },
    {
     "data": {
      "image/png": "[encoded data removed]",
      "text/plain": [
       "<Figure size 1080x216 with 5 Axes>"
      ]
     },
     "metadata": {
      "needs_background": "light"
     },
     "output_type": "display_data"
    },
    {
     "data": {
      "image/png": "[encoded data removed]",
      "text/plain": [
       "<Figure size 720x360 with 1 Axes>"
      ]
     },
     "metadata": {
      "needs_background": "light"
     },
     "output_type": "display_data"
    },
    {
     "ename": "KeyboardInterrupt",
     "evalue": "",
     "output_type": "error",
     "traceback": [
      "\u001b[0;31m---------------------------------------------------------------------------\u001b[0m",
      "\u001b[0;31mKeyboardInterrupt\u001b[0m                         Traceback (most recent call last)",
      "\u001b[0;32m<ipython-input-19-e00575b25ac7>\u001b[0m in \u001b[0;36m<module>\u001b[0;34m\u001b[0m\n\u001b[1;32m     77\u001b[0m             \u001b[0md_loss\u001b[0m \u001b[0;34m=\u001b[0m \u001b[0moutputs_fake\u001b[0m \u001b[0;34m-\u001b[0m \u001b[0moutputs_real\u001b[0m\u001b[0;34m\u001b[0m\u001b[0;34m\u001b[0m\u001b[0m\n\u001b[1;32m     78\u001b[0m             \u001b[0md_loss\u001b[0m\u001b[0;34m.\u001b[0m\u001b[0mbackward\u001b[0m\u001b[0;34m(\u001b[0m\u001b[0;34m)\u001b[0m\u001b[0;34m\u001b[0m\u001b[0;34m\u001b[0m\u001b[0m\n\u001b[0;32m---> 79\u001b[0;31m             \u001b[0moptimizer_D\u001b[0m\u001b[0;34m.\u001b[0m\u001b[0mstep\u001b[0m\u001b[0;34m(\u001b[0m\u001b[0;34m)\u001b[0m\u001b[0;34m\u001b[0m\u001b[0;34m\u001b[0m\u001b[0m\n\u001b[0m\u001b[1;32m     80\u001b[0m \u001b[0;34m\u001b[0m\u001b[0m\n\u001b[1;32m     81\u001b[0m             \u001b[0;31m# Clipper les poids du discriminateur\u001b[0m\u001b[0;34m\u001b[0m\u001b[0;34m\u001b[0m\u001b[0;34m\u001b[0m\u001b[0m\n",
      "\u001b[0;32m~/.local/lib/python3.8/site-packages/torch/optim/optimizer.py\u001b[0m in \u001b[0;36mwrapper\u001b[0;34m(*args, **kwargs)\u001b[0m\n\u001b[1;32m     86\u001b[0m                 \u001b[0mprofile_name\u001b[0m \u001b[0;34m=\u001b[0m \u001b[0;34m\"Optimizer.step#{}.step\"\u001b[0m\u001b[0;34m.\u001b[0m\u001b[0mformat\u001b[0m\u001b[0;34m(\u001b[0m\u001b[0mobj\u001b[0m\u001b[0;34m.\u001b[0m\u001b[0m__class__\u001b[0m\u001b[0;34m.\u001b[0m\u001b[0m__name__\u001b[0m\u001b[0;34m)\u001b[0m\u001b[0;34m\u001b[0m\u001b[0;34m\u001b[0m\u001b[0m\n\u001b[1;32m     87\u001b[0m                 \u001b[0;32mwith\u001b[0m \u001b[0mtorch\u001b[0m\u001b[0;34m.\u001b[0m\u001b[0mautograd\u001b[0m\u001b[0;34m.\u001b[0m\u001b[0mprofiler\u001b[0m\u001b[0;34m.\u001b[0m\u001b[0mrecord_function\u001b[0m\u001b[0;34m(\u001b[0m\u001b[0mprofile_name\u001b[0m\u001b[0;34m)\u001b[0m\u001b[0;34m:\u001b[0m\u001b[0;34m\u001b[0m\u001b[0;34m\u001b[0m\u001b[0m\n\u001b[0;32m---> 88\u001b[0;31m                     \u001b[0;32mreturn\u001b[0m \u001b[0mfunc\u001b[0m\u001b[0;34m(\u001b[0m\u001b[0;34m*\u001b[0m\u001b[0margs\u001b[0m\u001b[0;34m,\u001b[0m \u001b[0;34m**\u001b[0m\u001b[0mkwargs\u001b[0m\u001b[0;34m)\u001b[0m\u001b[0;34m\u001b[0m\u001b[0;34m\u001b[0m\u001b[0m\n\u001b[0m\u001b[1;32m     89\u001b[0m             \u001b[0;32mreturn\u001b[0m \u001b[0mwrapper\u001b[0m\u001b[0;34m\u001b[0m\u001b[0;34m\u001b[0m\u001b[0m\n\u001b[1;32m     90\u001b[0m \u001b[0;34m\u001b[0m\u001b[0m\n",
      "\u001b[0;32m~/.local/lib/python3.8/site-packages/torch/autograd/grad_mode.py\u001b[0m in \u001b[0;36mdecorate_context\u001b[0;34m(*args, **kwargs)\u001b[0m\n\u001b[1;32m     26\u001b[0m         \u001b[0;32mdef\u001b[0m \u001b[0mdecorate_context\u001b[0m\u001b[0;34m(\u001b[0m\u001b[0;34m*\u001b[0m\u001b[0margs\u001b[0m\u001b[0;34m,\u001b[0m \u001b[0;34m**\u001b[0m\u001b[0mkwargs\u001b[0m\u001b[0;34m)\u001b[0m\u001b[0;34m:\u001b[0m\u001b[0;34m\u001b[0m\u001b[0;34m\u001b[0m\u001b[0m\n\u001b[1;32m     27\u001b[0m             \u001b[0;32mwith\u001b[0m \u001b[0mself\u001b[0m\u001b[0;34m.\u001b[0m\u001b[0m__class__\u001b[0m\u001b[0;34m(\u001b[0m\u001b[0;34m)\u001b[0m\u001b[0;34m:\u001b[0m\u001b[0;34m\u001b[0m\u001b[0;34m\u001b[0m\u001b[0m\n\u001b[0;32m---> 28\u001b[0;31m                 \u001b[0;32mreturn\u001b[0m \u001b[0mfunc\u001b[0m\u001b[0;34m(\u001b[0m\u001b[0;34m*\u001b[0m\u001b[0margs\u001b[0m\u001b[0;34m,\u001b[0m \u001b[0;34m**\u001b[0m\u001b[0mkwargs\u001b[0m\u001b[0;34m)\u001b[0m\u001b[0;34m\u001b[0m\u001b[0;34m\u001b[0m\u001b[0m\n\u001b[0m\u001b[1;32m     29\u001b[0m         \u001b[0;32mreturn\u001b[0m \u001b[0mcast\u001b[0m\u001b[0;34m(\u001b[0m\u001b[0mF\u001b[0m\u001b[0;34m,\u001b[0m \u001b[0mdecorate_context\u001b[0m\u001b[0;34m)\u001b[0m\u001b[0;34m\u001b[0m\u001b[0;34m\u001b[0m\u001b[0m\n\u001b[1;32m     30\u001b[0m \u001b[0;34m\u001b[0m\u001b[0m\n",
      "\u001b[0;32m~/.local/lib/python3.8/site-packages/torch/optim/rmsprop.py\u001b[0m in \u001b[0;36mstep\u001b[0;34m(self, closure)\u001b[0m\n\u001b[1;32m    133\u001b[0m \u001b[0;34m\u001b[0m\u001b[0m\n\u001b[1;32m    134\u001b[0m \u001b[0;34m\u001b[0m\u001b[0m\n\u001b[0;32m--> 135\u001b[0;31m             F.rmsprop(params_with_grad,\n\u001b[0m\u001b[1;32m    136\u001b[0m                       \u001b[0mgrads\u001b[0m\u001b[0;34m,\u001b[0m\u001b[0;34m\u001b[0m\u001b[0;34m\u001b[0m\u001b[0m\n\u001b[1;32m    137\u001b[0m                       \u001b[0msquare_avgs\u001b[0m\u001b[0;34m,\u001b[0m\u001b[0;34m\u001b[0m\u001b[0;34m\u001b[0m\u001b[0m\n",
      "\u001b[0;32m~/.local/lib/python3.8/site-packages/torch/optim/_functional.py\u001b[0m in \u001b[0;36mrmsprop\u001b[0;34m(params, grads, square_avgs, grad_avgs, momentum_buffer_list, lr, alpha, eps, weight_decay, momentum, centered)\u001b[0m\n\u001b[1;32m    230\u001b[0m             \u001b[0mgrad\u001b[0m \u001b[0;34m=\u001b[0m \u001b[0mgrad\u001b[0m\u001b[0;34m.\u001b[0m\u001b[0madd\u001b[0m\u001b[0;34m(\u001b[0m\u001b[0mparam\u001b[0m\u001b[0;34m,\u001b[0m \u001b[0malpha\u001b[0m\u001b[0;34m=\u001b[0m\u001b[0mweight_decay\u001b[0m\u001b[0;34m)\u001b[0m\u001b[0;34m\u001b[0m\u001b[0;34m\u001b[0m\u001b[0m\n\u001b[1;32m    231\u001b[0m \u001b[0;34m\u001b[0m\u001b[0m\n\u001b[0;32m--> 232\u001b[0;31m         \u001b[0msquare_avg\u001b[0m\u001b[0;34m.\u001b[0m\u001b[0mmul_\u001b[0m\u001b[0;34m(\u001b[0m\u001b[0malpha\u001b[0m\u001b[0;34m)\u001b[0m\u001b[0;34m.\u001b[0m\u001b[0maddcmul_\u001b[0m\u001b[0;34m(\u001b[0m\u001b[0mgrad\u001b[0m\u001b[0;34m,\u001b[0m \u001b[0mgrad\u001b[0m\u001b[0;34m,\u001b[0m \u001b[0mvalue\u001b[0m\u001b[0;34m=\u001b[0m\u001b[0;36m1\u001b[0m \u001b[0;34m-\u001b[0m \u001b[0malpha\u001b[0m\u001b[0;34m)\u001b[0m\u001b[0;34m\u001b[0m\u001b[0;34m\u001b[0m\u001b[0m\n\u001b[0m\u001b[1;32m    233\u001b[0m \u001b[0;34m\u001b[0m\u001b[0m\n\u001b[1;32m    234\u001b[0m         \u001b[0;32mif\u001b[0m \u001b[0mcentered\u001b[0m\u001b[0;34m:\u001b[0m\u001b[0;34m\u001b[0m\u001b[0;34m\u001b[0m\u001b[0m\n",
      "\u001b[0;31mKeyboardInterrupt\u001b[0m: "
     ]
    }
   ],
   "source": [
    "import time\n",
    "from torch.nn.functional import mse_loss\n",
    "\n",
    "\n",
    "\n",
    "# Boucle d'entraînement\n",
    "num_epochs = 500\n",
    "num_saves = 5\n",
    "\n",
    "update_generator_every_n_steps = 5  # Met à jour le discriminateur une fois sur deux\n",
    "\n",
    "\n",
    "def add_gaussian_noise(vector, sigma=0.0001):\n",
    "    \"\"\"\n",
    "    Ajoute un bruit gaussien aux vecteur.\n",
    "    :param vector: Un batch de vecteur d'image ou de label.\n",
    "    :param sigma: Écart-type du bruit gaussien.\n",
    "    :return: Images bruitées.\n",
    "    \"\"\"\n",
    "    noise = torch.randn_like(vector) * sigma\n",
    "    return vector + noise\n",
    "\n",
    "\n",
    "\n",
    "for num_save in range(num_saves):\n",
    "    for epoch in range(num_epochs):\n",
    "        start_time = time.time()  # Début du chronométrage pour cette époque\n",
    "        d_loss_epoch = 0\n",
    "        g_loss_epoch = 0\n",
    "        num_batches = 0\n",
    "\n",
    "        if epoch % 10 == 0:\n",
    "            print(f\"Epoch {epoch}\")\n",
    "            fig, axes = plt.subplots(1, 5, figsize=(15, 3))\n",
    "            previous_image = None\n",
    "            for i, (image, label) in enumerate(test_sample):\n",
    "                generated_image = generate_image(label, text_embedder, generator, device)\n",
    "\n",
    "                # Calcul de la MSE si ce n'est pas la première image\n",
    "                if previous_image is not None:\n",
    "                    mse_value = mse_loss(generated_image, previous_image)\n",
    "                    print(f\"MSE entre images consécutives: {mse_value.item()}\")\n",
    "\n",
    "                # Stocker l'image actuelle pour la comparer à la suivante\n",
    "                previous_image = generated_image\n",
    "\n",
    "                mean = torch.tensor([0.5, 0.5, 0.5, 0.5]).view(4, 1, 1).to(device)\n",
    "                std = torch.tensor([0.5, 0.5, 0.5, 0.5]).view(4, 1, 1).to(device)\n",
    "                generated_image = generated_image * std + mean\n",
    "                generated_image = generated_image.permute(1, 2, 0).cpu().numpy()\n",
    "                axes[i].imshow(generated_image[..., :4], alpha=generated_image[..., 3])\n",
    "                axes[i].set_title(wrap_label(label), fontsize=10)\n",
    "                axes[i].axis('off')\n",
    "\n",
    "\n",
    "            plt.subplots_adjust(wspace=0.3, hspace=0.6)\n",
    "            plt.show()\n",
    "\n",
    "        \n",
    "        for i, (images, labels) in enumerate(dataloader):\n",
    "            # Mise à jour du discriminateur\n",
    "            optimizer_D.zero_grad()\n",
    "\n",
    "            # Entraînement avec de vraies images\n",
    "            real_images = images.to(device)\n",
    "            real_labels = labels.to(device).view(labels.size(0), -1)\n",
    "#             print(real_labels.shape)\n",
    "#             real_labels = add_gaussian_noise(real_labels)\n",
    "            \n",
    "            outputs_real = discriminator(real_images, real_labels).mean()\n",
    "\n",
    "            # Entraînement avec de fausses images\n",
    "            fake_images = generator(real_labels).detach()\n",
    "            outputs_fake = discriminator(fake_images, real_labels).mean()\n",
    "\n",
    "            # Calculer la perte du discriminateur et mise à jour\n",
    "            d_loss = outputs_fake - outputs_real\n",
    "            d_loss.backward()\n",
    "            optimizer_D.step()\n",
    "\n",
    "            # Clipper les poids du discriminateur\n",
    "            discriminator.apply(weights_clipper)\n",
    "\n",
    "            # Mise à jour du générateur toutes les N étapes\n",
    "            if i % update_generator_every_n_steps == 0:\n",
    "                optimizer_G.zero_grad()\n",
    "\n",
    "                # Générer des fausses images\n",
    "                fake_images = generator(real_labels)\n",
    "                outputs = discriminator(fake_images, real_labels).mean()\n",
    "\n",
    "                # Calculer la perte du générateur et mise à jour\n",
    "                g_loss = -outputs\n",
    "                g_loss.backward()\n",
    "                optimizer_G.step()\n",
    "\n",
    "            d_loss_epoch += d_loss.item()\n",
    "            g_loss_epoch += g_loss.item()\n",
    "            num_batches += 1\n",
    "            \n",
    "            \n",
    "#             if (i+1) % 100 == 0:\n",
    "#                 print(f'Epoch [{num_save}:{epoch+1}/{num_epochs}], Step [{i+1}/{len(dataloader)}], d_loss: {d_loss.item():.4f}, g_loss: {g_loss.item():.4f}')\n",
    "\n",
    "        d_losses.append(d_loss_epoch / num_batches)\n",
    "        g_losses.append(g_loss_epoch / num_batches)\n",
    "\n",
    "        if epoch % 10 == 0:\n",
    "            # Affichage des courbes de perte sur un seul graphique\n",
    "            plt.figure(figsize=(10, 5))\n",
    "            plt.plot(d_losses, label='Perte du Discriminateur', color='blue')\n",
    "            plt.plot(g_losses, label='Perte du Générateur', color='red')\n",
    "            plt.title('Perte du Discriminateur et du Générateur')\n",
    "            plt.xlabel('Époque')\n",
    "            plt.ylabel('Perte')\n",
    "            plt.axhline(y=0, color='gray', linestyle='--')\n",
    "            plt.legend()\n",
    "            plt.show()\n",
    "\n",
    "        epoch_duration = time.time() - start_time\n",
    "#         print(f\"Durée de l'époque {num_save}:{epoch + 1}: {epoch_duration:.2f} secondes\")\n",
    "\n",
    "    # Enregistrer le modèle complet\n",
    "    torch.save(generator, f'models_step/generator_model_2_{num_save}.pth')\n",
    "    torch.save(discriminator, f'models_step/discriminator_model_2_{num_save}.pth')\n",
    "\n",
    "print('Entraînement terminé.')"
   ]
  },
  {
   "cell_type": "code",
   "execution_count": null,
   "metadata": {
    "id": "TduSv2_dnaXF"
   },
   "outputs": [],
   "source": [
    "# Enregistrer le modèle complet\n",
    "torch.save(generator, '/content/drive/MyDrive/Colab Notebooks/deep learning/generator_model6.pth')\n",
    "torch.save(discriminator, '/content/drive/MyDrive/Colab Notebooks/deep learning/discriminator_model6.pth')\n"
   ]
  },
  {
   "cell_type": "code",
   "execution_count": null,
   "metadata": {
    "id": "DrdEXkI1aegT"
   },
   "outputs": [],
   "source": [
    "import torch\n",
    "import matplotlib.pyplot as plt\n",
    "\n",
    "# Création d'une grille de 5x5 pour les sous-graphiques\n",
    "fig, axes = plt.subplots(1, 1, figsize=(15, 15))  # Ajustez figsize selon vos besoins\n",
    "axes = axes.flatten()  # Aplatir le tableau d'axes pour un accès facile dans la boucle\n",
    "\n",
    "for i in range(1):\n",
    "    label = f\"vanilla minecraft grass block\"\n",
    "    # Génération d'une image\n",
    "    generated_image = generate_image(label, text_token_embedder, generator, device)\n",
    "\n",
    "    # Dénormalisation et préparation pour l'affichage\n",
    "    mean = torch.tensor([0.5, 0.5, 0.5, 0.5]).view(4, 1, 1).to(device)\n",
    "    std = torch.tensor([0.5, 0.5, 0.5, 0.5]).view(4, 1, 1).to(device)\n",
    "    generated_image = generated_image * std + mean\n",
    "    generated_image = generated_image.permute(1, 2, 0).cpu().numpy()\n",
    "\n",
    "    # Affichage de l'image\n",
    "    axes[i].imshow(generated_image[..., :3], alpha=generated_image[..., 3])\n",
    "    axes[i].set_title(label)\n",
    "    axes[i].axis('off')  # Supprimer les étiquettes des axes\n",
    "\n",
    "# Ajustement de l'espacement entre les images\n",
    "plt.subplots_adjust(wspace=0.3, hspace=0.3)  # Ajustez ces valeurs pour modifier l'espacement\n",
    "\n",
    "plt.show()"
   ]
  }
 ],
 "metadata": {
  "accelerator": "GPU",
  "colab": {
   "gpuType": "V100",
   "provenance": []
  },
  "kernelspec": {
   "display_name": "python-3.10",
   "language": "python",
   "name": "python-3.10"
  },
  "language_info": {
   "codemirror_mode": {
    "name": "ipython",
    "version": 3
   },
   "file_extension": ".py",
   "mimetype": "text/x-python",
   "name": "python",
   "nbconvert_exporter": "python",
   "pygments_lexer": "ipython3",
   "version": "3.8.5"
  },
  "widgets": {
   "application/vnd.jupyter.widget-state+json": {
    "00e59dcdaeaa4ab2ba5fbec0b6bf395f": {
     "model_module": "@jupyter-widgets/controls",
     "model_module_version": "1.5.0",
     "model_name": "FloatProgressModel",
     "state": {
      "_dom_classes": [],
      "_model_module": "@jupyter-widgets/controls",
      "_model_module_version": "1.5.0",
      "_model_name": "FloatProgressModel",
      "_view_count": null,
      "_view_module": "@jupyter-widgets/controls",
      "_view_module_version": "1.5.0",
      "_view_name": "ProgressView",
      "bar_style": "success",
      "description": "",
      "description_tooltip": null,
      "layout": "IPY_MODEL_bc028c0b5ef84087b05ab751e8188a0d",
      "max": 28,
      "min": 0,
      "orientation": "horizontal",
      "style": "IPY_MODEL_f86633529182492db15151fceb37bccb",
      "value": 28
     }
    },
    "092c74935e7a4ac9a185535d709cd9ad": {
     "model_module": "@jupyter-widgets/controls",
     "model_module_version": "1.5.0",
     "model_name": "DescriptionStyleModel",
     "state": {
      "_model_module": "@jupyter-widgets/controls",
      "_model_module_version": "1.5.0",
      "_model_name": "DescriptionStyleModel",
      "_view_count": null,
      "_view_module": "@jupyter-widgets/base",
      "_view_module_version": "1.2.0",
      "_view_name": "StyleView",
      "description_width": ""
     }
    },
    "28233c6c11184cff9a1d90202feedd88": {
     "model_module": "@jupyter-widgets/controls",
     "model_module_version": "1.5.0",
     "model_name": "FloatProgressModel",
     "state": {
      "_dom_classes": [],
      "_model_module": "@jupyter-widgets/controls",
      "_model_module_version": "1.5.0",
      "_model_name": "FloatProgressModel",
      "_view_count": null,
      "_view_module": "@jupyter-widgets/controls",
      "_view_module_version": "1.5.0",
      "_view_name": "ProgressView",
      "bar_style": "success",
      "description": "",
      "description_tooltip": null,
      "layout": "IPY_MODEL_80ec974da8b5452cbfe7c7b0bf3a03ac",
      "max": 466062,
      "min": 0,
      "orientation": "horizontal",
      "style": "IPY_MODEL_ec3adfcfa00a40e98e98ada23b9f8c79",
      "value": 466062
     }
    },
    "3501c0bde1954079b6ad6556668187ca": {
     "model_module": "@jupyter-widgets/controls",
     "model_module_version": "1.5.0",
     "model_name": "HTMLModel",
     "state": {
      "_dom_classes": [],
      "_model_module": "@jupyter-widgets/controls",
      "_model_module_version": "1.5.0",
      "_model_name": "HTMLModel",
      "_view_count": null,
      "_view_module": "@jupyter-widgets/controls",
      "_view_module_version": "1.5.0",
      "_view_name": "HTMLView",
      "description": "",
      "description_tooltip": null,
      "layout": "IPY_MODEL_c5ffe37ba08d44e0881dd625ee4b683d",
      "placeholder": "​",
      "style": "IPY_MODEL_9157ae62362e47cabadc6f614ed2695a",
      "value": "tokenizer.json: 100%"
     }
    },
    "3764cc3b6f8f4bc091b919fa49276fc4": {
     "model_module": "@jupyter-widgets/controls",
     "model_module_version": "1.5.0",
     "model_name": "HTMLModel",
     "state": {
      "_dom_classes": [],
      "_model_module": "@jupyter-widgets/controls",
      "_model_module_version": "1.5.0",
      "_model_name": "HTMLModel",
      "_view_count": null,
      "_view_module": "@jupyter-widgets/controls",
      "_view_module_version": "1.5.0",
      "_view_name": "HTMLView",
      "description": "",
      "description_tooltip": null,
      "layout": "IPY_MODEL_fc261bc3ba1d413b8f8efd5adcac71e6",
      "placeholder": "​",
      "style": "IPY_MODEL_daf5d4f525ef465b9c1d26a31aa59c02",
      "value": " 28.0/28.0 [00:00&lt;00:00, 1.90kB/s]"
     }
    },
    "3d0ee1b9ce07444ebc9a2f70b6480e65": {
     "model_module": "@jupyter-widgets/base",
     "model_module_version": "1.2.0",
     "model_name": "LayoutModel",
     "state": {
      "_model_module": "@jupyter-widgets/base",
      "_model_module_version": "1.2.0",
      "_model_name": "LayoutModel",
      "_view_count": null,
      "_view_module": "@jupyter-widgets/base",
      "_view_module_version": "1.2.0",
      "_view_name": "LayoutView",
      "align_content": null,
      "align_items": null,
      "align_self": null,
      "border": null,
      "bottom": null,
      "display": null,
      "flex": null,
      "flex_flow": null,
      "grid_area": null,
      "grid_auto_columns": null,
      "grid_auto_flow": null,
      "grid_auto_rows": null,
      "grid_column": null,
      "grid_gap": null,
      "grid_row": null,
      "grid_template_areas": null,
      "grid_template_columns": null,
      "grid_template_rows": null,
      "height": null,
      "justify_content": null,
      "justify_items": null,
      "left": null,
      "margin": null,
      "max_height": null,
      "max_width": null,
      "min_height": null,
      "min_width": null,
      "object_fit": null,
      "object_position": null,
      "order": null,
      "overflow": null,
      "overflow_x": null,
      "overflow_y": null,
      "padding": null,
      "right": null,
      "top": null,
      "visibility": null,
      "width": null
     }
    },
    "3f5285ca2efe40a69e07f5e31cc2c3c1": {
     "model_module": "@jupyter-widgets/controls",
     "model_module_version": "1.5.0",
     "model_name": "FloatProgressModel",
     "state": {
      "_dom_classes": [],
      "_model_module": "@jupyter-widgets/controls",
      "_model_module_version": "1.5.0",
      "_model_name": "FloatProgressModel",
      "_view_count": null,
      "_view_module": "@jupyter-widgets/controls",
      "_view_module_version": "1.5.0",
      "_view_name": "ProgressView",
      "bar_style": "success",
      "description": "",
      "description_tooltip": null,
      "layout": "IPY_MODEL_bffa6404a251479fb63915002a9e3ded",
      "max": 483,
      "min": 0,
      "orientation": "horizontal",
      "style": "IPY_MODEL_eb53ba5a6f7449f4b49f70531ac399ae",
      "value": 483
     }
    },
    "43bd0de55e2a4a418034f19d7dbbaf7b": {
     "model_module": "@jupyter-widgets/base",
     "model_module_version": "1.2.0",
     "model_name": "LayoutModel",
     "state": {
      "_model_module": "@jupyter-widgets/base",
      "_model_module_version": "1.2.0",
      "_model_name": "LayoutModel",
      "_view_count": null,
      "_view_module": "@jupyter-widgets/base",
      "_view_module_version": "1.2.0",
      "_view_name": "LayoutView",
      "align_content": null,
      "align_items": null,
      "align_self": null,
      "border": null,
      "bottom": null,
      "display": null,
      "flex": null,
      "flex_flow": null,
      "grid_area": null,
      "grid_auto_columns": null,
      "grid_auto_flow": null,
      "grid_auto_rows": null,
      "grid_column": null,
      "grid_gap": null,
      "grid_row": null,
      "grid_template_areas": null,
      "grid_template_columns": null,
      "grid_template_rows": null,
      "height": null,
      "justify_content": null,
      "justify_items": null,
      "left": null,
      "margin": null,
      "max_height": null,
      "max_width": null,
      "min_height": null,
      "min_width": null,
      "object_fit": null,
      "object_position": null,
      "order": null,
      "overflow": null,
      "overflow_x": null,
      "overflow_y": null,
      "padding": null,
      "right": null,
      "top": null,
      "visibility": null,
      "width": null
     }
    },
    "49f02285c9ba45f5917058bee1045415": {
     "model_module": "@jupyter-widgets/base",
     "model_module_version": "1.2.0",
     "model_name": "LayoutModel",
     "state": {
      "_model_module": "@jupyter-widgets/base",
      "_model_module_version": "1.2.0",
      "_model_name": "LayoutModel",
      "_view_count": null,
      "_view_module": "@jupyter-widgets/base",
      "_view_module_version": "1.2.0",
      "_view_name": "LayoutView",
      "align_content": null,
      "align_items": null,
      "align_self": null,
      "border": null,
      "bottom": null,
      "display": null,
      "flex": null,
      "flex_flow": null,
      "grid_area": null,
      "grid_auto_columns": null,
      "grid_auto_flow": null,
      "grid_auto_rows": null,
      "grid_column": null,
      "grid_gap": null,
      "grid_row": null,
      "grid_template_areas": null,
      "grid_template_columns": null,
      "grid_template_rows": null,
      "height": null,
      "justify_content": null,
      "justify_items": null,
      "left": null,
      "margin": null,
      "max_height": null,
      "max_width": null,
      "min_height": null,
      "min_width": null,
      "object_fit": null,
      "object_position": null,
      "order": null,
      "overflow": null,
      "overflow_x": null,
      "overflow_y": null,
      "padding": null,
      "right": null,
      "top": null,
      "visibility": null,
      "width": null
     }
    },
    "525e7c8a7eba4af7b3f64eaeb26e8a97": {
     "model_module": "@jupyter-widgets/controls",
     "model_module_version": "1.5.0",
     "model_name": "HTMLModel",
     "state": {
      "_dom_classes": [],
      "_model_module": "@jupyter-widgets/controls",
      "_model_module_version": "1.5.0",
      "_model_name": "HTMLModel",
      "_view_count": null,
      "_view_module": "@jupyter-widgets/controls",
      "_view_module_version": "1.5.0",
      "_view_name": "HTMLView",
      "description": "",
      "description_tooltip": null,
      "layout": "IPY_MODEL_fca5b5e4105743888a2470e62695d165",
      "placeholder": "​",
      "style": "IPY_MODEL_e86ec2dbb5f145e8ab14f84d869c75d2",
      "value": "tokenizer_config.json: 100%"
     }
    },
    "535abda3a1c748a2a3c8f14170c5e09c": {
     "model_module": "@jupyter-widgets/controls",
     "model_module_version": "1.5.0",
     "model_name": "HBoxModel",
     "state": {
      "_dom_classes": [],
      "_model_module": "@jupyter-widgets/controls",
      "_model_module_version": "1.5.0",
      "_model_name": "HBoxModel",
      "_view_count": null,
      "_view_module": "@jupyter-widgets/controls",
      "_view_module_version": "1.5.0",
      "_view_name": "HBoxView",
      "box_style": "",
      "children": [
       "IPY_MODEL_525e7c8a7eba4af7b3f64eaeb26e8a97",
       "IPY_MODEL_00e59dcdaeaa4ab2ba5fbec0b6bf395f",
       "IPY_MODEL_3764cc3b6f8f4bc091b919fa49276fc4"
      ],
      "layout": "IPY_MODEL_3d0ee1b9ce07444ebc9a2f70b6480e65"
     }
    },
    "5ad407489dcd488e9a3e93d47c2d739d": {
     "model_module": "@jupyter-widgets/base",
     "model_module_version": "1.2.0",
     "model_name": "LayoutModel",
     "state": {
      "_model_module": "@jupyter-widgets/base",
      "_model_module_version": "1.2.0",
      "_model_name": "LayoutModel",
      "_view_count": null,
      "_view_module": "@jupyter-widgets/base",
      "_view_module_version": "1.2.0",
      "_view_name": "LayoutView",
      "align_content": null,
      "align_items": null,
      "align_self": null,
      "border": null,
      "bottom": null,
      "display": null,
      "flex": null,
      "flex_flow": null,
      "grid_area": null,
      "grid_auto_columns": null,
      "grid_auto_flow": null,
      "grid_auto_rows": null,
      "grid_column": null,
      "grid_gap": null,
      "grid_row": null,
      "grid_template_areas": null,
      "grid_template_columns": null,
      "grid_template_rows": null,
      "height": null,
      "justify_content": null,
      "justify_items": null,
      "left": null,
      "margin": null,
      "max_height": null,
      "max_width": null,
      "min_height": null,
      "min_width": null,
      "object_fit": null,
      "object_position": null,
      "order": null,
      "overflow": null,
      "overflow_x": null,
      "overflow_y": null,
      "padding": null,
      "right": null,
      "top": null,
      "visibility": null,
      "width": null
     }
    },
    "5ce4f464eb094b16bf79eeeb3a4956e4": {
     "model_module": "@jupyter-widgets/controls",
     "model_module_version": "1.5.0",
     "model_name": "HTMLModel",
     "state": {
      "_dom_classes": [],
      "_model_module": "@jupyter-widgets/controls",
      "_model_module_version": "1.5.0",
      "_model_name": "HTMLModel",
      "_view_count": null,
      "_view_module": "@jupyter-widgets/controls",
      "_view_module_version": "1.5.0",
      "_view_name": "HTMLView",
      "description": "",
      "description_tooltip": null,
      "layout": "IPY_MODEL_49f02285c9ba45f5917058bee1045415",
      "placeholder": "​",
      "style": "IPY_MODEL_092c74935e7a4ac9a185535d709cd9ad",
      "value": " 466k/466k [00:00&lt;00:00, 17.6MB/s]"
     }
    },
    "73fde457d05e450baa516d5730a64d0f": {
     "model_module": "@jupyter-widgets/base",
     "model_module_version": "1.2.0",
     "model_name": "LayoutModel",
     "state": {
      "_model_module": "@jupyter-widgets/base",
      "_model_module_version": "1.2.0",
      "_model_name": "LayoutModel",
      "_view_count": null,
      "_view_module": "@jupyter-widgets/base",
      "_view_module_version": "1.2.0",
      "_view_name": "LayoutView",
      "align_content": null,
      "align_items": null,
      "align_self": null,
      "border": null,
      "bottom": null,
      "display": null,
      "flex": null,
      "flex_flow": null,
      "grid_area": null,
      "grid_auto_columns": null,
      "grid_auto_flow": null,
      "grid_auto_rows": null,
      "grid_column": null,
      "grid_gap": null,
      "grid_row": null,
      "grid_template_areas": null,
      "grid_template_columns": null,
      "grid_template_rows": null,
      "height": null,
      "justify_content": null,
      "justify_items": null,
      "left": null,
      "margin": null,
      "max_height": null,
      "max_width": null,
      "min_height": null,
      "min_width": null,
      "object_fit": null,
      "object_position": null,
      "order": null,
      "overflow": null,
      "overflow_x": null,
      "overflow_y": null,
      "padding": null,
      "right": null,
      "top": null,
      "visibility": null,
      "width": null
     }
    },
    "7c369fa2802345408265b856264319de": {
     "model_module": "@jupyter-widgets/base",
     "model_module_version": "1.2.0",
     "model_name": "LayoutModel",
     "state": {
      "_model_module": "@jupyter-widgets/base",
      "_model_module_version": "1.2.0",
      "_model_name": "LayoutModel",
      "_view_count": null,
      "_view_module": "@jupyter-widgets/base",
      "_view_module_version": "1.2.0",
      "_view_name": "LayoutView",
      "align_content": null,
      "align_items": null,
      "align_self": null,
      "border": null,
      "bottom": null,
      "display": null,
      "flex": null,
      "flex_flow": null,
      "grid_area": null,
      "grid_auto_columns": null,
      "grid_auto_flow": null,
      "grid_auto_rows": null,
      "grid_column": null,
      "grid_gap": null,
      "grid_row": null,
      "grid_template_areas": null,
      "grid_template_columns": null,
      "grid_template_rows": null,
      "height": null,
      "justify_content": null,
      "justify_items": null,
      "left": null,
      "margin": null,
      "max_height": null,
      "max_width": null,
      "min_height": null,
      "min_width": null,
      "object_fit": null,
      "object_position": null,
      "order": null,
      "overflow": null,
      "overflow_x": null,
      "overflow_y": null,
      "padding": null,
      "right": null,
      "top": null,
      "visibility": null,
      "width": null
     }
    },
    "7fb5ddb7c7024b42971aa0c304621621": {
     "model_module": "@jupyter-widgets/controls",
     "model_module_version": "1.5.0",
     "model_name": "DescriptionStyleModel",
     "state": {
      "_model_module": "@jupyter-widgets/controls",
      "_model_module_version": "1.5.0",
      "_model_name": "DescriptionStyleModel",
      "_view_count": null,
      "_view_module": "@jupyter-widgets/base",
      "_view_module_version": "1.2.0",
      "_view_name": "StyleView",
      "description_width": ""
     }
    },
    "80ec974da8b5452cbfe7c7b0bf3a03ac": {
     "model_module": "@jupyter-widgets/base",
     "model_module_version": "1.2.0",
     "model_name": "LayoutModel",
     "state": {
      "_model_module": "@jupyter-widgets/base",
      "_model_module_version": "1.2.0",
      "_model_name": "LayoutModel",
      "_view_count": null,
      "_view_module": "@jupyter-widgets/base",
      "_view_module_version": "1.2.0",
      "_view_name": "LayoutView",
      "align_content": null,
      "align_items": null,
      "align_self": null,
      "border": null,
      "bottom": null,
      "display": null,
      "flex": null,
      "flex_flow": null,
      "grid_area": null,
      "grid_auto_columns": null,
      "grid_auto_flow": null,
      "grid_auto_rows": null,
      "grid_column": null,
      "grid_gap": null,
      "grid_row": null,
      "grid_template_areas": null,
      "grid_template_columns": null,
      "grid_template_rows": null,
      "height": null,
      "justify_content": null,
      "justify_items": null,
      "left": null,
      "margin": null,
      "max_height": null,
      "max_width": null,
      "min_height": null,
      "min_width": null,
      "object_fit": null,
      "object_position": null,
      "order": null,
      "overflow": null,
      "overflow_x": null,
      "overflow_y": null,
      "padding": null,
      "right": null,
      "top": null,
      "visibility": null,
      "width": null
     }
    },
    "875b125909124befacf3be402b2a6a91": {
     "model_module": "@jupyter-widgets/controls",
     "model_module_version": "1.5.0",
     "model_name": "FloatProgressModel",
     "state": {
      "_dom_classes": [],
      "_model_module": "@jupyter-widgets/controls",
      "_model_module_version": "1.5.0",
      "_model_name": "FloatProgressModel",
      "_view_count": null,
      "_view_module": "@jupyter-widgets/controls",
      "_view_module_version": "1.5.0",
      "_view_name": "ProgressView",
      "bar_style": "success",
      "description": "",
      "description_tooltip": null,
      "layout": "IPY_MODEL_73fde457d05e450baa516d5730a64d0f",
      "max": 231508,
      "min": 0,
      "orientation": "horizontal",
      "style": "IPY_MODEL_ee74395ec2e44cd3ae653c3a066963fe",
      "value": 231508
     }
    },
    "8a7ed5c893644e599ced9a34d2fe1c94": {
     "model_module": "@jupyter-widgets/controls",
     "model_module_version": "1.5.0",
     "model_name": "HTMLModel",
     "state": {
      "_dom_classes": [],
      "_model_module": "@jupyter-widgets/controls",
      "_model_module_version": "1.5.0",
      "_model_name": "HTMLModel",
      "_view_count": null,
      "_view_module": "@jupyter-widgets/controls",
      "_view_module_version": "1.5.0",
      "_view_name": "HTMLView",
      "description": "",
      "description_tooltip": null,
      "layout": "IPY_MODEL_95b7ca3165c7462195b714cc54993411",
      "placeholder": "​",
      "style": "IPY_MODEL_bb015c7c8f224109b5f3e28524dd6e05",
      "value": " 232k/232k [00:00&lt;00:00, 5.62MB/s]"
     }
    },
    "9157ae62362e47cabadc6f614ed2695a": {
     "model_module": "@jupyter-widgets/controls",
     "model_module_version": "1.5.0",
     "model_name": "DescriptionStyleModel",
     "state": {
      "_model_module": "@jupyter-widgets/controls",
      "_model_module_version": "1.5.0",
      "_model_name": "DescriptionStyleModel",
      "_view_count": null,
      "_view_module": "@jupyter-widgets/base",
      "_view_module_version": "1.2.0",
      "_view_name": "StyleView",
      "description_width": ""
     }
    },
    "95b7ca3165c7462195b714cc54993411": {
     "model_module": "@jupyter-widgets/base",
     "model_module_version": "1.2.0",
     "model_name": "LayoutModel",
     "state": {
      "_model_module": "@jupyter-widgets/base",
      "_model_module_version": "1.2.0",
      "_model_name": "LayoutModel",
      "_view_count": null,
      "_view_module": "@jupyter-widgets/base",
      "_view_module_version": "1.2.0",
      "_view_name": "LayoutView",
      "align_content": null,
      "align_items": null,
      "align_self": null,
      "border": null,
      "bottom": null,
      "display": null,
      "flex": null,
      "flex_flow": null,
      "grid_area": null,
      "grid_auto_columns": null,
      "grid_auto_flow": null,
      "grid_auto_rows": null,
      "grid_column": null,
      "grid_gap": null,
      "grid_row": null,
      "grid_template_areas": null,
      "grid_template_columns": null,
      "grid_template_rows": null,
      "height": null,
      "justify_content": null,
      "justify_items": null,
      "left": null,
      "margin": null,
      "max_height": null,
      "max_width": null,
      "min_height": null,
      "min_width": null,
      "object_fit": null,
      "object_position": null,
      "order": null,
      "overflow": null,
      "overflow_x": null,
      "overflow_y": null,
      "padding": null,
      "right": null,
      "top": null,
      "visibility": null,
      "width": null
     }
    },
    "99b134f8bba841298bb8d66a9235b09f": {
     "model_module": "@jupyter-widgets/base",
     "model_module_version": "1.2.0",
     "model_name": "LayoutModel",
     "state": {
      "_model_module": "@jupyter-widgets/base",
      "_model_module_version": "1.2.0",
      "_model_name": "LayoutModel",
      "_view_count": null,
      "_view_module": "@jupyter-widgets/base",
      "_view_module_version": "1.2.0",
      "_view_name": "LayoutView",
      "align_content": null,
      "align_items": null,
      "align_self": null,
      "border": null,
      "bottom": null,
      "display": null,
      "flex": null,
      "flex_flow": null,
      "grid_area": null,
      "grid_auto_columns": null,
      "grid_auto_flow": null,
      "grid_auto_rows": null,
      "grid_column": null,
      "grid_gap": null,
      "grid_row": null,
      "grid_template_areas": null,
      "grid_template_columns": null,
      "grid_template_rows": null,
      "height": null,
      "justify_content": null,
      "justify_items": null,
      "left": null,
      "margin": null,
      "max_height": null,
      "max_width": null,
      "min_height": null,
      "min_width": null,
      "object_fit": null,
      "object_position": null,
      "order": null,
      "overflow": null,
      "overflow_x": null,
      "overflow_y": null,
      "padding": null,
      "right": null,
      "top": null,
      "visibility": null,
      "width": null
     }
    },
    "9a8df78f5ec6407ebb100dbc4572ddcc": {
     "model_module": "@jupyter-widgets/controls",
     "model_module_version": "1.5.0",
     "model_name": "HTMLModel",
     "state": {
      "_dom_classes": [],
      "_model_module": "@jupyter-widgets/controls",
      "_model_module_version": "1.5.0",
      "_model_name": "HTMLModel",
      "_view_count": null,
      "_view_module": "@jupyter-widgets/controls",
      "_view_module_version": "1.5.0",
      "_view_name": "HTMLView",
      "description": "",
      "description_tooltip": null,
      "layout": "IPY_MODEL_c4c1e887d18e4e70afdc9f26b772e9aa",
      "placeholder": "​",
      "style": "IPY_MODEL_9d0cb452db844f35b471024bc6daf9ed",
      "value": "vocab.txt: 100%"
     }
    },
    "9d0cb452db844f35b471024bc6daf9ed": {
     "model_module": "@jupyter-widgets/controls",
     "model_module_version": "1.5.0",
     "model_name": "DescriptionStyleModel",
     "state": {
      "_model_module": "@jupyter-widgets/controls",
      "_model_module_version": "1.5.0",
      "_model_name": "DescriptionStyleModel",
      "_view_count": null,
      "_view_module": "@jupyter-widgets/base",
      "_view_module_version": "1.2.0",
      "_view_name": "StyleView",
      "description_width": ""
     }
    },
    "9f8298fe35db4599a5182a2ff4e7fada": {
     "model_module": "@jupyter-widgets/controls",
     "model_module_version": "1.5.0",
     "model_name": "HBoxModel",
     "state": {
      "_dom_classes": [],
      "_model_module": "@jupyter-widgets/controls",
      "_model_module_version": "1.5.0",
      "_model_name": "HBoxModel",
      "_view_count": null,
      "_view_module": "@jupyter-widgets/controls",
      "_view_module_version": "1.5.0",
      "_view_name": "HBoxView",
      "box_style": "",
      "children": [
       "IPY_MODEL_9a8df78f5ec6407ebb100dbc4572ddcc",
       "IPY_MODEL_875b125909124befacf3be402b2a6a91",
       "IPY_MODEL_8a7ed5c893644e599ced9a34d2fe1c94"
      ],
      "layout": "IPY_MODEL_43bd0de55e2a4a418034f19d7dbbaf7b"
     }
    },
    "bb015c7c8f224109b5f3e28524dd6e05": {
     "model_module": "@jupyter-widgets/controls",
     "model_module_version": "1.5.0",
     "model_name": "DescriptionStyleModel",
     "state": {
      "_model_module": "@jupyter-widgets/controls",
      "_model_module_version": "1.5.0",
      "_model_name": "DescriptionStyleModel",
      "_view_count": null,
      "_view_module": "@jupyter-widgets/base",
      "_view_module_version": "1.2.0",
      "_view_name": "StyleView",
      "description_width": ""
     }
    },
    "bc028c0b5ef84087b05ab751e8188a0d": {
     "model_module": "@jupyter-widgets/base",
     "model_module_version": "1.2.0",
     "model_name": "LayoutModel",
     "state": {
      "_model_module": "@jupyter-widgets/base",
      "_model_module_version": "1.2.0",
      "_model_name": "LayoutModel",
      "_view_count": null,
      "_view_module": "@jupyter-widgets/base",
      "_view_module_version": "1.2.0",
      "_view_name": "LayoutView",
      "align_content": null,
      "align_items": null,
      "align_self": null,
      "border": null,
      "bottom": null,
      "display": null,
      "flex": null,
      "flex_flow": null,
      "grid_area": null,
      "grid_auto_columns": null,
      "grid_auto_flow": null,
      "grid_auto_rows": null,
      "grid_column": null,
      "grid_gap": null,
      "grid_row": null,
      "grid_template_areas": null,
      "grid_template_columns": null,
      "grid_template_rows": null,
      "height": null,
      "justify_content": null,
      "justify_items": null,
      "left": null,
      "margin": null,
      "max_height": null,
      "max_width": null,
      "min_height": null,
      "min_width": null,
      "object_fit": null,
      "object_position": null,
      "order": null,
      "overflow": null,
      "overflow_x": null,
      "overflow_y": null,
      "padding": null,
      "right": null,
      "top": null,
      "visibility": null,
      "width": null
     }
    },
    "bc1945333a2540c9b1f86322f36cdea8": {
     "model_module": "@jupyter-widgets/controls",
     "model_module_version": "1.5.0",
     "model_name": "HBoxModel",
     "state": {
      "_dom_classes": [],
      "_model_module": "@jupyter-widgets/controls",
      "_model_module_version": "1.5.0",
      "_model_name": "HBoxModel",
      "_view_count": null,
      "_view_module": "@jupyter-widgets/controls",
      "_view_module_version": "1.5.0",
      "_view_name": "HBoxView",
      "box_style": "",
      "children": [
       "IPY_MODEL_3501c0bde1954079b6ad6556668187ca",
       "IPY_MODEL_28233c6c11184cff9a1d90202feedd88",
       "IPY_MODEL_5ce4f464eb094b16bf79eeeb3a4956e4"
      ],
      "layout": "IPY_MODEL_7c369fa2802345408265b856264319de"
     }
    },
    "bffa6404a251479fb63915002a9e3ded": {
     "model_module": "@jupyter-widgets/base",
     "model_module_version": "1.2.0",
     "model_name": "LayoutModel",
     "state": {
      "_model_module": "@jupyter-widgets/base",
      "_model_module_version": "1.2.0",
      "_model_name": "LayoutModel",
      "_view_count": null,
      "_view_module": "@jupyter-widgets/base",
      "_view_module_version": "1.2.0",
      "_view_name": "LayoutView",
      "align_content": null,
      "align_items": null,
      "align_self": null,
      "border": null,
      "bottom": null,
      "display": null,
      "flex": null,
      "flex_flow": null,
      "grid_area": null,
      "grid_auto_columns": null,
      "grid_auto_flow": null,
      "grid_auto_rows": null,
      "grid_column": null,
      "grid_gap": null,
      "grid_row": null,
      "grid_template_areas": null,
      "grid_template_columns": null,
      "grid_template_rows": null,
      "height": null,
      "justify_content": null,
      "justify_items": null,
      "left": null,
      "margin": null,
      "max_height": null,
      "max_width": null,
      "min_height": null,
      "min_width": null,
      "object_fit": null,
      "object_position": null,
      "order": null,
      "overflow": null,
      "overflow_x": null,
      "overflow_y": null,
      "padding": null,
      "right": null,
      "top": null,
      "visibility": null,
      "width": null
     }
    },
    "c11231aa7a664131b2add66822a566c7": {
     "model_module": "@jupyter-widgets/controls",
     "model_module_version": "1.5.0",
     "model_name": "DescriptionStyleModel",
     "state": {
      "_model_module": "@jupyter-widgets/controls",
      "_model_module_version": "1.5.0",
      "_model_name": "DescriptionStyleModel",
      "_view_count": null,
      "_view_module": "@jupyter-widgets/base",
      "_view_module_version": "1.2.0",
      "_view_name": "StyleView",
      "description_width": ""
     }
    },
    "c4c1e887d18e4e70afdc9f26b772e9aa": {
     "model_module": "@jupyter-widgets/base",
     "model_module_version": "1.2.0",
     "model_name": "LayoutModel",
     "state": {
      "_model_module": "@jupyter-widgets/base",
      "_model_module_version": "1.2.0",
      "_model_name": "LayoutModel",
      "_view_count": null,
      "_view_module": "@jupyter-widgets/base",
      "_view_module_version": "1.2.0",
      "_view_name": "LayoutView",
      "align_content": null,
      "align_items": null,
      "align_self": null,
      "border": null,
      "bottom": null,
      "display": null,
      "flex": null,
      "flex_flow": null,
      "grid_area": null,
      "grid_auto_columns": null,
      "grid_auto_flow": null,
      "grid_auto_rows": null,
      "grid_column": null,
      "grid_gap": null,
      "grid_row": null,
      "grid_template_areas": null,
      "grid_template_columns": null,
      "grid_template_rows": null,
      "height": null,
      "justify_content": null,
      "justify_items": null,
      "left": null,
      "margin": null,
      "max_height": null,
      "max_width": null,
      "min_height": null,
      "min_width": null,
      "object_fit": null,
      "object_position": null,
      "order": null,
      "overflow": null,
      "overflow_x": null,
      "overflow_y": null,
      "padding": null,
      "right": null,
      "top": null,
      "visibility": null,
      "width": null
     }
    },
    "c4f93c3b085146ebb376c77a39081681": {
     "model_module": "@jupyter-widgets/base",
     "model_module_version": "1.2.0",
     "model_name": "LayoutModel",
     "state": {
      "_model_module": "@jupyter-widgets/base",
      "_model_module_version": "1.2.0",
      "_model_name": "LayoutModel",
      "_view_count": null,
      "_view_module": "@jupyter-widgets/base",
      "_view_module_version": "1.2.0",
      "_view_name": "LayoutView",
      "align_content": null,
      "align_items": null,
      "align_self": null,
      "border": null,
      "bottom": null,
      "display": null,
      "flex": null,
      "flex_flow": null,
      "grid_area": null,
      "grid_auto_columns": null,
      "grid_auto_flow": null,
      "grid_auto_rows": null,
      "grid_column": null,
      "grid_gap": null,
      "grid_row": null,
      "grid_template_areas": null,
      "grid_template_columns": null,
      "grid_template_rows": null,
      "height": null,
      "justify_content": null,
      "justify_items": null,
      "left": null,
      "margin": null,
      "max_height": null,
      "max_width": null,
      "min_height": null,
      "min_width": null,
      "object_fit": null,
      "object_position": null,
      "order": null,
      "overflow": null,
      "overflow_x": null,
      "overflow_y": null,
      "padding": null,
      "right": null,
      "top": null,
      "visibility": null,
      "width": null
     }
    },
    "c5ffe37ba08d44e0881dd625ee4b683d": {
     "model_module": "@jupyter-widgets/base",
     "model_module_version": "1.2.0",
     "model_name": "LayoutModel",
     "state": {
      "_model_module": "@jupyter-widgets/base",
      "_model_module_version": "1.2.0",
      "_model_name": "LayoutModel",
      "_view_count": null,
      "_view_module": "@jupyter-widgets/base",
      "_view_module_version": "1.2.0",
      "_view_name": "LayoutView",
      "align_content": null,
      "align_items": null,
      "align_self": null,
      "border": null,
      "bottom": null,
      "display": null,
      "flex": null,
      "flex_flow": null,
      "grid_area": null,
      "grid_auto_columns": null,
      "grid_auto_flow": null,
      "grid_auto_rows": null,
      "grid_column": null,
      "grid_gap": null,
      "grid_row": null,
      "grid_template_areas": null,
      "grid_template_columns": null,
      "grid_template_rows": null,
      "height": null,
      "justify_content": null,
      "justify_items": null,
      "left": null,
      "margin": null,
      "max_height": null,
      "max_width": null,
      "min_height": null,
      "min_width": null,
      "object_fit": null,
      "object_position": null,
      "order": null,
      "overflow": null,
      "overflow_x": null,
      "overflow_y": null,
      "padding": null,
      "right": null,
      "top": null,
      "visibility": null,
      "width": null
     }
    },
    "cb436f75037b45a6a6095a5c3bd7944f": {
     "model_module": "@jupyter-widgets/controls",
     "model_module_version": "1.5.0",
     "model_name": "HTMLModel",
     "state": {
      "_dom_classes": [],
      "_model_module": "@jupyter-widgets/controls",
      "_model_module_version": "1.5.0",
      "_model_name": "HTMLModel",
      "_view_count": null,
      "_view_module": "@jupyter-widgets/controls",
      "_view_module_version": "1.5.0",
      "_view_name": "HTMLView",
      "description": "",
      "description_tooltip": null,
      "layout": "IPY_MODEL_99b134f8bba841298bb8d66a9235b09f",
      "placeholder": "​",
      "style": "IPY_MODEL_7fb5ddb7c7024b42971aa0c304621621",
      "value": " 483/483 [00:00&lt;00:00, 29.9kB/s]"
     }
    },
    "daf5d4f525ef465b9c1d26a31aa59c02": {
     "model_module": "@jupyter-widgets/controls",
     "model_module_version": "1.5.0",
     "model_name": "DescriptionStyleModel",
     "state": {
      "_model_module": "@jupyter-widgets/controls",
      "_model_module_version": "1.5.0",
      "_model_name": "DescriptionStyleModel",
      "_view_count": null,
      "_view_module": "@jupyter-widgets/base",
      "_view_module_version": "1.2.0",
      "_view_name": "StyleView",
      "description_width": ""
     }
    },
    "e86ec2dbb5f145e8ab14f84d869c75d2": {
     "model_module": "@jupyter-widgets/controls",
     "model_module_version": "1.5.0",
     "model_name": "DescriptionStyleModel",
     "state": {
      "_model_module": "@jupyter-widgets/controls",
      "_model_module_version": "1.5.0",
      "_model_name": "DescriptionStyleModel",
      "_view_count": null,
      "_view_module": "@jupyter-widgets/base",
      "_view_module_version": "1.2.0",
      "_view_name": "StyleView",
      "description_width": ""
     }
    },
    "eb53ba5a6f7449f4b49f70531ac399ae": {
     "model_module": "@jupyter-widgets/controls",
     "model_module_version": "1.5.0",
     "model_name": "ProgressStyleModel",
     "state": {
      "_model_module": "@jupyter-widgets/controls",
      "_model_module_version": "1.5.0",
      "_model_name": "ProgressStyleModel",
      "_view_count": null,
      "_view_module": "@jupyter-widgets/base",
      "_view_module_version": "1.2.0",
      "_view_name": "StyleView",
      "bar_color": null,
      "description_width": ""
     }
    },
    "ec3adfcfa00a40e98e98ada23b9f8c79": {
     "model_module": "@jupyter-widgets/controls",
     "model_module_version": "1.5.0",
     "model_name": "ProgressStyleModel",
     "state": {
      "_model_module": "@jupyter-widgets/controls",
      "_model_module_version": "1.5.0",
      "_model_name": "ProgressStyleModel",
      "_view_count": null,
      "_view_module": "@jupyter-widgets/base",
      "_view_module_version": "1.2.0",
      "_view_name": "StyleView",
      "bar_color": null,
      "description_width": ""
     }
    },
    "ee68495ed71440478744b5453bbf7b93": {
     "model_module": "@jupyter-widgets/controls",
     "model_module_version": "1.5.0",
     "model_name": "HBoxModel",
     "state": {
      "_dom_classes": [],
      "_model_module": "@jupyter-widgets/controls",
      "_model_module_version": "1.5.0",
      "_model_name": "HBoxModel",
      "_view_count": null,
      "_view_module": "@jupyter-widgets/controls",
      "_view_module_version": "1.5.0",
      "_view_name": "HBoxView",
      "box_style": "",
      "children": [
       "IPY_MODEL_fb1fef198809455ba9d10a48292b7097",
       "IPY_MODEL_3f5285ca2efe40a69e07f5e31cc2c3c1",
       "IPY_MODEL_cb436f75037b45a6a6095a5c3bd7944f"
      ],
      "layout": "IPY_MODEL_c4f93c3b085146ebb376c77a39081681"
     }
    },
    "ee74395ec2e44cd3ae653c3a066963fe": {
     "model_module": "@jupyter-widgets/controls",
     "model_module_version": "1.5.0",
     "model_name": "ProgressStyleModel",
     "state": {
      "_model_module": "@jupyter-widgets/controls",
      "_model_module_version": "1.5.0",
      "_model_name": "ProgressStyleModel",
      "_view_count": null,
      "_view_module": "@jupyter-widgets/base",
      "_view_module_version": "1.2.0",
      "_view_name": "StyleView",
      "bar_color": null,
      "description_width": ""
     }
    },
    "f86633529182492db15151fceb37bccb": {
     "model_module": "@jupyter-widgets/controls",
     "model_module_version": "1.5.0",
     "model_name": "ProgressStyleModel",
     "state": {
      "_model_module": "@jupyter-widgets/controls",
      "_model_module_version": "1.5.0",
      "_model_name": "ProgressStyleModel",
      "_view_count": null,
      "_view_module": "@jupyter-widgets/base",
      "_view_module_version": "1.2.0",
      "_view_name": "StyleView",
      "bar_color": null,
      "description_width": ""
     }
    },
    "fb1fef198809455ba9d10a48292b7097": {
     "model_module": "@jupyter-widgets/controls",
     "model_module_version": "1.5.0",
     "model_name": "HTMLModel",
     "state": {
      "_dom_classes": [],
      "_model_module": "@jupyter-widgets/controls",
      "_model_module_version": "1.5.0",
      "_model_name": "HTMLModel",
      "_view_count": null,
      "_view_module": "@jupyter-widgets/controls",
      "_view_module_version": "1.5.0",
      "_view_name": "HTMLView",
      "description": "",
      "description_tooltip": null,
      "layout": "IPY_MODEL_5ad407489dcd488e9a3e93d47c2d739d",
      "placeholder": "​",
      "style": "IPY_MODEL_c11231aa7a664131b2add66822a566c7",
      "value": "config.json: 100%"
     }
    },
    "fc261bc3ba1d413b8f8efd5adcac71e6": {
     "model_module": "@jupyter-widgets/base",
     "model_module_version": "1.2.0",
     "model_name": "LayoutModel",
     "state": {
      "_model_module": "@jupyter-widgets/base",
      "_model_module_version": "1.2.0",
      "_model_name": "LayoutModel",
      "_view_count": null,
      "_view_module": "@jupyter-widgets/base",
      "_view_module_version": "1.2.0",
      "_view_name": "LayoutView",
      "align_content": null,
      "align_items": null,
      "align_self": null,
      "border": null,
      "bottom": null,
      "display": null,
      "flex": null,
      "flex_flow": null,
      "grid_area": null,
      "grid_auto_columns": null,
      "grid_auto_flow": null,
      "grid_auto_rows": null,
      "grid_column": null,
      "grid_gap": null,
      "grid_row": null,
      "grid_template_areas": null,
      "grid_template_columns": null,
      "grid_template_rows": null,
      "height": null,
      "justify_content": null,
      "justify_items": null,
      "left": null,
      "margin": null,
      "max_height": null,
      "max_width": null,
      "min_height": null,
      "min_width": null,
      "object_fit": null,
      "object_position": null,
      "order": null,
      "overflow": null,
      "overflow_x": null,
      "overflow_y": null,
      "padding": null,
      "right": null,
      "top": null,
      "visibility": null,
      "width": null
     }
    },
    "fca5b5e4105743888a2470e62695d165": {
     "model_module": "@jupyter-widgets/base",
     "model_module_version": "1.2.0",
     "model_name": "LayoutModel",
     "state": {
      "_model_module": "@jupyter-widgets/base",
      "_model_module_version": "1.2.0",
      "_model_name": "LayoutModel",
      "_view_count": null,
      "_view_module": "@jupyter-widgets/base",
      "_view_module_version": "1.2.0",
      "_view_name": "LayoutView",
      "align_content": null,
      "align_items": null,
      "align_self": null,
      "border": null,
      "bottom": null,
      "display": null,
      "flex": null,
      "flex_flow": null,
      "grid_area": null,
      "grid_auto_columns": null,
      "grid_auto_flow": null,
      "grid_auto_rows": null,
      "grid_column": null,
      "grid_gap": null,
      "grid_row": null,
      "grid_template_areas": null,
      "grid_template_columns": null,
      "grid_template_rows": null,
      "height": null,
      "justify_content": null,
      "justify_items": null,
      "left": null,
      "margin": null,
      "max_height": null,
      "max_width": null,
      "min_height": null,
      "min_width": null,
      "object_fit": null,
      "object_position": null,
      "order": null,
      "overflow": null,
      "overflow_x": null,
      "overflow_y": null,
      "padding": null,
      "right": null,
      "top": null,
      "visibility": null,
      "width": null
     }
    }
   }
  }
 },
 "nbformat": 4,
 "nbformat_minor": 1
}
