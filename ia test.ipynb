{
 "cells": [
  {
   "cell_type": "code",
   "execution_count": 1,
   "metadata": {
    "id": "dFCYpZCEtZk6"
   },
   "outputs": [],
   "source": [
    "# !install torch torchvision torchaudio --index-url https://download.pytorch.org/whl/cu118"
   ]
  },
  {
   "cell_type": "code",
   "execution_count": 1,
   "metadata": {},
   "outputs": [
    {
     "name": "stdout",
     "output_type": "stream",
     "text": [
      "3.8.5 (default, Sep  4 2020, 07:30:14) \n",
      "[GCC 7.3.0]\n"
     ]
    }
   ],
   "source": [
    "import sys\n",
    "print(sys.version)\n",
    "\n"
   ]
  },
  {
   "cell_type": "code",
   "execution_count": 2,
   "metadata": {
    "scrolled": true
   },
   "outputs": [
    {
     "name": "stdout",
     "output_type": "stream",
     "text": [
      "Wed Feb 21 23:25:51 2024       \n",
      "+-----------------------------------------------------------------------------+\n",
      "| NVIDIA-SMI 460.32.03    Driver Version: 460.32.03    CUDA Version: 11.2     |\n",
      "|-------------------------------+----------------------+----------------------+\n",
      "| GPU  Name        Persistence-M| Bus-Id        Disp.A | Volatile Uncorr. ECC |\n",
      "| Fan  Temp  Perf  Pwr:Usage/Cap|         Memory-Usage | GPU-Util  Compute M. |\n",
      "|                               |                      |               MIG M. |\n",
      "|===============================+======================+======================|\n",
      "|   0  Tesla V100-SXM2...  Off  | 00000000:18:00.0 Off |                    0 |\n",
      "| N/A   34C    P0    40W / 300W |      0MiB / 32510MiB |      0%      Default |\n",
      "|                               |                      |                  N/A |\n",
      "+-------------------------------+----------------------+----------------------+\n",
      "|   1  Tesla V100-SXM2...  Off  | 00000000:3B:00.0 Off |                    0 |\n",
      "| N/A   31C    P0    39W / 300W |      0MiB / 32510MiB |      0%      Default |\n",
      "|                               |                      |                  N/A |\n",
      "+-------------------------------+----------------------+----------------------+\n",
      "|   2  Tesla V100-SXM2...  Off  | 00000000:86:00.0 Off |                    0 |\n",
      "| N/A   56C    P0   209W / 300W |  32026MiB / 32510MiB |     99%      Default |\n",
      "|                               |                      |                  N/A |\n",
      "+-------------------------------+----------------------+----------------------+\n",
      "|   3  Tesla V100-SXM2...  Off  | 00000000:AF:00.0 Off |                    0 |\n",
      "| N/A   66C    P0   243W / 300W |  31262MiB / 32510MiB |     99%      Default |\n",
      "|                               |                      |                  N/A |\n",
      "+-------------------------------+----------------------+----------------------+\n",
      "                                                                               \n",
      "+-----------------------------------------------------------------------------+\n",
      "| Processes:                                                                  |\n",
      "|  GPU   GI   CI        PID   Type   Process name                  GPU Memory |\n",
      "|        ID   ID                                                   Usage      |\n",
      "|=============================================================================|\n",
      "|    2   N/A  N/A     10122      C   python                          32017MiB |\n",
      "|    3   N/A  N/A      3442      C   python                          31253MiB |\n",
      "+-----------------------------------------------------------------------------+\n"
     ]
    }
   ],
   "source": [
    "!nvidia-smi"
   ]
  },
  {
   "cell_type": "code",
   "execution_count": 3,
   "metadata": {
    "id": "BlUatQQME_uo",
    "scrolled": true
   },
   "outputs": [
    {
     "name": "stderr",
     "output_type": "stream",
     "text": [
      "/home/amaillet/.local/lib/python3.8/site-packages/transformers/utils/generic.py:441: UserWarning: torch.utils._pytree._register_pytree_node is deprecated. Please use torch.utils._pytree.register_pytree_node instead.\n",
      "  _torch_pytree._register_pytree_node(\n",
      "/home/amaillet/.local/lib/python3.8/site-packages/torchvision/io/image.py:11: UserWarning: Failed to load image Python extension: libtorch_cuda_cu.so: cannot open shared object file: No such file or directory\n",
      "  warn(f\"Failed to load image Python extension: {e}\")\n"
     ]
    }
   ],
   "source": [
    "import time\n",
    "time.sleep(1)\n",
    "\n",
    "import os\n",
    "import PIL\n",
    "from PIL import Image\n",
    "import random\n",
    "import matplotlib.pyplot as plt\n",
    "import torch\n",
    "import torch.nn as nn\n",
    "import torch.optim as optim\n",
    "from torch.utils.data import DataLoader, Dataset\n",
    "from torchvision import transforms\n",
    "import numpy as np\n",
    "import time\n",
    "# import torch_xla\n",
    "# import torch_xla.core.xla_model as xm\n",
    "\n",
    "torch.backends.cudnn.benchmark = True\n",
    "\n"
   ]
  },
  {
   "cell_type": "code",
   "execution_count": 4,
   "metadata": {
    "colab": {
     "base_uri": "https://localhost:8080/",
     "height": 183
    },
    "id": "_fVFLt97foEN",
    "outputId": "67377ecc-7865-4fec-a199-b02cf808e2e1"
   },
   "outputs": [
    {
     "data": {
      "image/png": "[encoded data removed]",
      "text/plain": [
       "<Figure size 1080x216 with 5 Axes>"
      ]
     },
     "metadata": {
      "needs_background": "light"
     },
     "output_type": "display_data"
    }
   ],
   "source": [
    "import pickle\n",
    "\n",
    "# Charger le dataset initial\n",
    "with open('dataset/only_clock_and_compass.pkl', 'rb') as f:\n",
    "    dataset = pickle.load(f)\n",
    "\n",
    "# Initialiser une nouvelle liste pour le dataset converti\n",
    "dataset_rgb = []\n",
    "\n",
    "\n",
    "\n",
    "\n",
    "for image, label in dataset:\n",
    "    # Créer une image de fond blanc\n",
    "    background = Image.new(\"RGB\", image.size, (255, 255, 255))\n",
    "    # Assurer que l'image est en mode RGBA pour avoir un canal alpha\n",
    "    if image.mode == 'RGBA':\n",
    "        # Coller l'image originale sur le fond blanc en utilisant la transparence comme masque\n",
    "        background.paste(image, mask=image.split()[3])  # Le canal alpha est le 4ème canal dans 'RGBA'\n",
    "        image_rgb = background\n",
    "    else:\n",
    "        # Si l'image n'est pas en mode RGBA, elle est déjà en RGB ou dans un autre mode sans transparence\n",
    "        image_rgb = image\n",
    "\n",
    "    # Ajouter l'image convertie et le label à la nouvelle liste du dataset\n",
    "    dataset_rgb.append((np.array(image_rgb), label))\n",
    "\n",
    "dataset = dataset_rgb\n",
    "    \n",
    "    \n",
    "\n",
    "def wrap_label(label, max_width=20):\n",
    "    \"\"\"\n",
    "    Divise un label en plusieurs lignes si sa longueur dépasse max_width.\n",
    "    \"\"\"\n",
    "    words = label.split()\n",
    "    wrapped_label = \"\"\n",
    "    line = \"\"\n",
    "    for word in words:\n",
    "        if len(line) + len(word) <= max_width:\n",
    "            line += word + \" \"\n",
    "        else:\n",
    "            wrapped_label += line.strip() + \"\\n\"\n",
    "            line = word + \" \"\n",
    "    wrapped_label += line.strip()\n",
    "    return wrapped_label\n",
    "\n",
    "# Example: print 5 random images on the same plot\n",
    "fig, axes = plt.subplots(1, 5, figsize=(15, 3))  # Adjust the figsize to change the overall plot size\n",
    "for i, (image, label) in enumerate(random.sample(dataset, 5)):\n",
    "    axes[i].imshow(image)\n",
    "    axes[i].set_title(wrap_label(label), fontsize=10)  # Utilisez wrap_label pour diviser le label\n",
    "    axes[i].axis('off')  # Remove the axis labels\n",
    "\n",
    "# Adjust the spacing between the images\n",
    "plt.subplots_adjust(wspace=0.3, hspace=0.6)  # Increase hspace to accommodate wrapped labels\n",
    "\n",
    "# Show the plot\n",
    "plt.show()"
   ]
  },
  {
   "cell_type": "code",
   "execution_count": 5,
   "metadata": {
    "colab": {
     "base_uri": "https://localhost:8080/"
    },
    "id": "5m0RB5lWfoEN",
    "outputId": "6c353061-e730-4c68-db64-c4a590289478"
   },
   "outputs": [
    {
     "name": "stdout",
     "output_type": "stream",
     "text": [
      "cuda\n",
      "Nombre total de GPU disponibles : 2\n",
      "GPU 0: Tesla V100-SXM2-32GB\n",
      "GPU 1: Tesla V100-SXM2-32GB\n"
     ]
    }
   ],
   "source": [
    "# Utiliser CUDA si disponible\n",
    "device = torch.device(\"cuda\" if torch.cuda.is_available() else \"cpu\")\n",
    "print(device)\n",
    "\n",
    "num_gpus = torch.cuda.device_count()\n",
    "print(f\"Nombre total de GPU disponibles : {num_gpus}\")\n",
    "\n",
    "# Affiche le nom de chaque GPU\n",
    "for i in range(num_gpus):\n",
    "    print(f\"GPU {i}: {torch.cuda.get_device_name(i)}\")\n",
    "\n"
   ]
  },
  {
   "cell_type": "code",
   "execution_count": 6,
   "metadata": {
    "colab": {
     "base_uri": "https://localhost:8080/",
     "height": 529,
     "referenced_widgets": [
      "535abda3a1c748a2a3c8f14170c5e09c",
      "525e7c8a7eba4af7b3f64eaeb26e8a97",
      "00e59dcdaeaa4ab2ba5fbec0b6bf395f",
      "3764cc3b6f8f4bc091b919fa49276fc4",
      "3d0ee1b9ce07444ebc9a2f70b6480e65",
      "fca5b5e4105743888a2470e62695d165",
      "e86ec2dbb5f145e8ab14f84d869c75d2",
      "bc028c0b5ef84087b05ab751e8188a0d",
      "f86633529182492db15151fceb37bccb",
      "fc261bc3ba1d413b8f8efd5adcac71e6",
      "daf5d4f525ef465b9c1d26a31aa59c02",
      "ee68495ed71440478744b5453bbf7b93",
      "fb1fef198809455ba9d10a48292b7097",
      "3f5285ca2efe40a69e07f5e31cc2c3c1",
      "cb436f75037b45a6a6095a5c3bd7944f",
      "c4f93c3b085146ebb376c77a39081681",
      "5ad407489dcd488e9a3e93d47c2d739d",
      "c11231aa7a664131b2add66822a566c7",
      "bffa6404a251479fb63915002a9e3ded",
      "eb53ba5a6f7449f4b49f70531ac399ae",
      "99b134f8bba841298bb8d66a9235b09f",
      "7fb5ddb7c7024b42971aa0c304621621",
      "9f8298fe35db4599a5182a2ff4e7fada",
      "9a8df78f5ec6407ebb100dbc4572ddcc",
      "875b125909124befacf3be402b2a6a91",
      "8a7ed5c893644e599ced9a34d2fe1c94",
      "43bd0de55e2a4a418034f19d7dbbaf7b",
      "c4c1e887d18e4e70afdc9f26b772e9aa",
      "9d0cb452db844f35b471024bc6daf9ed",
      "73fde457d05e450baa516d5730a64d0f",
      "ee74395ec2e44cd3ae653c3a066963fe",
      "95b7ca3165c7462195b714cc54993411",
      "bb015c7c8f224109b5f3e28524dd6e05",
      "bc1945333a2540c9b1f86322f36cdea8",
      "3501c0bde1954079b6ad6556668187ca",
      "28233c6c11184cff9a1d90202feedd88",
      "5ce4f464eb094b16bf79eeeb3a4956e4",
      "7c369fa2802345408265b856264319de",
      "c5ffe37ba08d44e0881dd625ee4b683d",
      "9157ae62362e47cabadc6f614ed2695a",
      "80ec974da8b5452cbfe7c7b0bf3a03ac",
      "ec3adfcfa00a40e98e98ada23b9f8c79",
      "49f02285c9ba45f5917058bee1045415",
      "092c74935e7a4ac9a185535d709cd9ad"
     ]
    },
    "id": "VpA-dwCIE_ut",
    "outputId": "588b3293-bc46-40bf-ab28-6cdafd1e3ca1"
   },
   "outputs": [
    {
     "name": "stderr",
     "output_type": "stream",
     "text": [
      "/home/amaillet/.local/lib/python3.8/site-packages/transformers/utils/generic.py:309: UserWarning: torch.utils._pytree._register_pytree_node is deprecated. Please use torch.utils._pytree.register_pytree_node instead.\n",
      "  _torch_pytree._register_pytree_node(\n"
     ]
    },
    {
     "name": "stdout",
     "output_type": "stream",
     "text": [
      "Label: clock 13 detailed\n",
      "Embedding: torch.Size([1, 768])\n",
      "\n",
      "Label: clock 59 vanilla\n",
      "Embedding: torch.Size([1, 768])\n",
      "\n",
      "Label: clock 14 faithful\n",
      "Embedding: torch.Size([1, 768])\n",
      "\n",
      "Label: compass 28 pixel\n",
      "Embedding: torch.Size([1, 768])\n",
      "\n",
      "Label: compass 10 vanilla\n",
      "Embedding: torch.Size([1, 768])\n",
      "\n"
     ]
    }
   ],
   "source": [
    "import torch\n",
    "import torch.nn as nn\n",
    "import torch.nn.functional as F\n",
    "from transformers import DistilBertModel, DistilBertTokenizer\n",
    "\n",
    "class TextEmbedder(nn.Module):\n",
    "    def __init__(self, max_length):\n",
    "        super(TextEmbedder, self).__init__()\n",
    "        self.tokenizer = DistilBertTokenizer.from_pretrained('distilbert-base-uncased')\n",
    "        self.model = DistilBertModel.from_pretrained('distilbert-base-uncased')\n",
    "        self.max_length = max_length\n",
    "\n",
    "    def forward(self, text_list):\n",
    "        # Tokenize et Tronquer/Rembourrer\n",
    "        encoded_input = self.tokenizer(text_list, padding='max_length', truncation=True, max_length=self.max_length, return_tensors='pt')\n",
    "        encoded_input = encoded_input.to(device)\n",
    "#         print(encoded_input.input_ids)\n",
    "        # Obtenir les embeddings contextuels\n",
    "        with torch.no_grad():  # Pas besoin de calculer les gradients ici\n",
    "            output = self.model(**encoded_input)\n",
    "        \n",
    "        # Les embeddings contextuels sont dans `output.last_hidden_state`\n",
    "        # Vous pouvez choisir de renvoyer l'embedding moyen de la phrase, par exemple\n",
    "        embeddings = output.last_hidden_state.mean(dim=1)  # Moyenne sur la dimension de la séquence\n",
    "        \n",
    "        return embeddings\n",
    "\n",
    "# Créez une instance de la classe\n",
    "max_length = 3   # Longueur maximale fixe (correspondant au max de mots dans le dataset)\n",
    "text_embedder = TextEmbedder(max_length)\n",
    "text_embedder.to(device)\n",
    "\n",
    "\n",
    "\n",
    "    \n",
    "for i, (image, label) in enumerate(random.sample(dataset, 5)):\n",
    "    print(f\"Label: {label}\")\n",
    "    print(f\"Embedding: {text_embedder([label]).shape}\")\n",
    "    print()\n",
    "    \n",
    "    \n"
   ]
  },
  {
   "cell_type": "code",
   "execution_count": 7,
   "metadata": {},
   "outputs": [
    {
     "name": "stdout",
     "output_type": "stream",
     "text": [
      "Cosine similarity: 0.9157065749168396\n"
     ]
    }
   ],
   "source": [
    "import torch\n",
    "from scipy.spatial.distance import cosine\n",
    "\n",
    "def calculate_cosine_similarity(embedding1, embedding2):\n",
    "    # Calculer la similarité cosinus entre deux embeddings\n",
    "    similarity = 1 - cosine(embedding1.cpu().numpy(), embedding2.cpu().numpy())\n",
    "    return similarity\n",
    "\n",
    "# Encodez deux chaînes de caractères pour obtenir leurs embeddings\n",
    "text1 = \"clock 10 vanilla\"\n",
    "text2 = \"compass 9 vanilla\"\n",
    "\n",
    "embedding1 = text_embedder([text1])\n",
    "embedding2 = text_embedder([text2])\n",
    "\n",
    "\n",
    "# Calculer et afficher la similarité cosinus\n",
    "similarity = calculate_cosine_similarity(embedding1, embedding2)\n",
    "print(f\"Cosine similarity: {similarity}\")\n"
   ]
  },
  {
   "cell_type": "code",
   "execution_count": 8,
   "metadata": {
    "colab": {
     "base_uri": "https://localhost:8080/"
    },
    "id": "Z94EjzvRE_uu",
    "outputId": "ee58ec11-884e-49cf-eef2-ddc5aabf0b2f"
   },
   "outputs": [
    {
     "name": "stdout",
     "output_type": "stream",
     "text": [
      "Chargement: 100.00%\n",
      "220\n"
     ]
    }
   ],
   "source": [
    "from torch.utils.data import Dataset, DataLoader\n",
    "from torchvision import transforms\n",
    "import numpy as np\n",
    "\n",
    "class CustomDataset(Dataset):\n",
    "    def __init__(self, dataset, text_embedder):\n",
    "        self.transform = transforms.Compose([\n",
    "            transforms.ToTensor(),\n",
    "            transforms.Normalize(mean=[0.5, 0.5, 0.5], std=[0.5, 0.5, 0.5])\n",
    "        ])\n",
    "        self.text_embedder = text_embedder\n",
    "\n",
    "        self.transformed_images = []\n",
    "        self.label_embeddings = []\n",
    "\n",
    "        total_items = len(dataset)\n",
    "        for index, (image, label) in enumerate(dataset):\n",
    "            self.transformed_images.append(self.transform(image))\n",
    "            with torch.no_grad():\n",
    "                embedded_label = self.text_embedder([label]).squeeze(0)\n",
    "            self.label_embeddings.append(embedded_label.detach())\n",
    "\n",
    "            # Calcul et affichage du pourcentage de chargement\n",
    "            percent_complete = (index + 1) / total_items * 100\n",
    "            print(f'\\rChargement: {percent_complete:.2f}%', end='')\n",
    "        print('')\n",
    "\n",
    "    def __len__(self):\n",
    "        return len(self.transformed_images)\n",
    "\n",
    "    def __getitem__(self, idx):\n",
    "        return self.transformed_images[idx], self.label_embeddings[idx]\n",
    "\n",
    "custom_dataset = CustomDataset(dataset, text_embedder)\n",
    "dataloader = DataLoader(custom_dataset, batch_size=16, shuffle=True)\n",
    "\n",
    "print(len(dataloader))\n",
    "\n"
   ]
  },
  {
   "cell_type": "code",
   "execution_count": 37,
   "metadata": {
    "colab": {
     "base_uri": "https://localhost:8080/"
    },
    "id": "mQCC3beGGktE",
    "outputId": "582beab3-d7a1-4d3e-e712-d106adf4dc96"
   },
   "outputs": [],
   "source": [
    "class Generator(nn.Module):\n",
    "    def __init__(self, label_dim, img_channels):\n",
    "        super(Generator, self).__init__()\n",
    "        self.z_dim = 50\n",
    "        self.label_dim = label_dim\n",
    "        self.img_channels = img_channels\n",
    "        \n",
    "        self.model = nn.Sequential(\n",
    "            # Z latent vector + label\n",
    "            nn.ConvTranspose2d(in_channels=label_dim + self.z_dim, out_channels=1024, kernel_size=4, stride=1, padding=0),\n",
    "            nn.BatchNorm2d(1024),\n",
    "            nn.ReLU(True),\n",
    "\n",
    "            # State Size: 1024 x 4 x 4\n",
    "            nn.ConvTranspose2d(1024, 512, kernel_size=4, stride=2, padding=1),\n",
    "            nn.BatchNorm2d(512),\n",
    "            nn.ReLU(True),\n",
    "\n",
    "\n",
    "            # State Size: 512 x 8 x 8\n",
    "            nn.ConvTranspose2d(512, 256, kernel_size=4, stride=2, padding=1),\n",
    "            nn.BatchNorm2d(256),\n",
    "            nn.ReLU(True),\n",
    "            # Ajustement ici pour assurer 16x16\n",
    "            nn.ConvTranspose2d(256, img_channels, kernel_size=4, stride=2, padding=1),\n",
    "            # La couche ci-dessus devrait maintenant correctement produire img_channels x 16 x 16\n",
    "        )\n",
    "\n",
    "        self.output_layer = nn.Sequential(\n",
    "            nn.Conv2d(in_channels=self.img_channels, out_channels=self.img_channels, kernel_size=3, stride=2, padding=1),\n",
    "            nn.Tanh()\n",
    "        )\n",
    "\n",
    "    def forward(self, labels):\n",
    "        # Générer du bruit blanc gaussien avec la même forme que labels\n",
    "#         noise = torch.randn_like(labels) * 0.00001  # Ajustez 0.01 pour modifier l'intensité du bruit\n",
    "\n",
    "        # Ajouter le bruit aux labels\n",
    "#         noisy_labels = labels + noise\n",
    "    \n",
    "        noise = torch.randn(labels.size(0), self.z_dim, device=labels.device)\n",
    "        labels = labels.view(labels.size(0),self.label_dim)\n",
    "\n",
    "\n",
    "        combined_input = torch.cat([noise, labels], dim=1)\n",
    "        combined_input = combined_input.view(labels.size(0), self.z_dim + self.label_dim, 1, 1)\n",
    "    \n",
    "        x = self.model(combined_input)\n",
    "        output = self.output_layer(x)\n",
    "        \n",
    "        return output\n",
    "\n",
    "# fonction de debug\n",
    "class PrintLayer(nn.Module):\n",
    "    def __init__(self):\n",
    "        super(PrintLayer, self).__init__()\n",
    "        \n",
    "    def forward(self, x):\n",
    "        print(x.shape)\n",
    "        return x\n",
    "    \n",
    "class Discriminator(nn.Module):\n",
    "    def __init__(self, label_dim, img_channels):\n",
    "        super(Discriminator, self).__init__()\n",
    "        self.label_dim = label_dim\n",
    "\n",
    "        # Partie traitement de l'image\n",
    "        self.image_model = nn.Sequential(\n",
    "            # Image (Cx16x16)\n",
    "            nn.Conv2d(in_channels=img_channels, out_channels=128, kernel_size=3, stride=1, padding=1),\n",
    "            nn.BatchNorm2d(num_features=128),\n",
    "            nn.LeakyReLU(0.2, inplace=True),\n",
    "\n",
    "            # State (128x16x16)\n",
    "            nn.Conv2d(in_channels=128, out_channels=256, kernel_size=3, stride=2, padding=1),\n",
    "            nn.BatchNorm2d(num_features=256),\n",
    "            nn.LeakyReLU(0.2, inplace=True),\n",
    "\n",
    "            # State (256x8x8)\n",
    "            nn.Conv2d(in_channels=256, out_channels=512, kernel_size=3, stride=2, padding=1),\n",
    "            nn.BatchNorm2d(num_features=512),\n",
    "            nn.LeakyReLU(0.2, inplace=True),\n",
    "            # output of main module --> State (512x4x4)\n",
    "            \n",
    "            nn.Conv2d(in_channels=512, out_channels=64, kernel_size=4, stride=1, padding=0),\n",
    "        )\n",
    "\n",
    "        \n",
    "        self.label_model = nn.Sequential(\n",
    "            nn.Linear(label_dim, 1024),  # Taille à ajuster selon le besoin\n",
    "            nn.LeakyReLU(0.2, inplace=True),\n",
    "        )\n",
    "        \n",
    "        # Couche de décision finale, après fusion des représentations\n",
    "        self.decision_layer = nn.Sequential(\n",
    "            nn.Linear(self.label_dim + 64, 1024),  # Augmentation de la capacité\n",
    "            nn.LeakyReLU(0.2),\n",
    "            nn.Dropout(0.3),  # Ajout d'un dropout pour la régularisation\n",
    "            nn.Linear(1024, 512),  # Maintien d'une capacité élevée\n",
    "            nn.LeakyReLU(0.2),\n",
    "            nn.Dropout(0.3),  # Ajout d'un dropout pour la régularisation\n",
    "            nn.Linear(512, 1),\n",
    "            # nn.Sigmoid()  # Décommentez si vous n'utilisez pas BCEWithLogitsLoss\n",
    "        )\n",
    "\n",
    "    def forward(self, img, labels):\n",
    "        img_features = self.image_model(img)\n",
    "        img_features = img_features.view(img_features.size(0), -1)  # Flatten les caractéristiques de l'image\n",
    "        \n",
    "        \n",
    "#         labels = labels.view(labels.size(0), -1)\n",
    "#         label_features = self.label_model(labels)\n",
    "\n",
    "        # Fusion des caractéristiques de l'image et des labels\n",
    "        combined_features = torch.cat((img_features, labels), dim=1)\n",
    "        \n",
    "        # Décision basée sur les caractéristiques combinées\n",
    "        decision = self.decision_layer(combined_features)\n",
    "        return decision\n",
    "    \n",
    "\n",
    "    \n"
   ]
  },
  {
   "cell_type": "code",
   "execution_count": 43,
   "metadata": {
    "scrolled": true
   },
   "outputs": [
    {
     "name": "stdout",
     "output_type": "stream",
     "text": [
      "loaded\n"
     ]
    }
   ],
   "source": [
    "import torch\n",
    "import torch.nn as nn\n",
    "from torch.autograd import Variable\n",
    "import time as t\n",
    "import matplotlib.pyplot as plt\n",
    "import os\n",
    "from torchvision import utils\n",
    "\n",
    "# Initialisation des réseaux\n",
    "label_dim = 768\n",
    "img_channels = 3  # RGBA\n",
    "SAVE_PER_TIMES = 500\n",
    "\n",
    "\n",
    "class WGAN_CP(object):\n",
    "    def __init__(self, generator_iters, save_name):\n",
    "        print(\"WGAN_CP init model.\")\n",
    "        self.G = Generator(label_dim, img_channels)\n",
    "        self.D = Discriminator(label_dim,img_channels)\n",
    "        \n",
    "        self.G = nn.DataParallel(self.G, device_ids=[0]) # Assurez-vous que ces IDs correspondent à vos GPU\n",
    "        self.D = nn.DataParallel(self.D, device_ids=[0]) # Assurez-vous que ces IDs correspondent à vos GPU\n",
    "\n",
    "        self.G.to(device)\n",
    "        self.D.to(device)\n",
    "\n",
    "        self.dataset = dataset\n",
    "        self.dataloader = dataloader\n",
    "\n",
    "        # WGAN values from paper\n",
    "        self.learning_rate = 0.00005\n",
    "\n",
    "        self.batch_size = 16\n",
    "        self.weight_cliping_limit = 0.01\n",
    "\n",
    "        # WGAN with gradient clipping uses RMSprop instead of ADAM\n",
    "        self.d_optimizer = torch.optim.RMSprop(self.D.parameters(), lr=self.learning_rate)\n",
    "        self.g_optimizer = torch.optim.RMSprop(self.G.parameters(), lr=self.learning_rate)\n",
    "\n",
    "\n",
    "        self.generator_iters = generator_iters\n",
    "        self.critic_iter = 8\n",
    "        \n",
    "        self.save_name = save_name\n",
    "\n",
    "    def train(self, train_loader):\n",
    "        test_sample = random.sample(self.dataset, 5)\n",
    "        \n",
    "        self.t_begin = t.time()\n",
    "        #self.file = open(\"inception_score_graph.txt\", \"w\")\n",
    "\n",
    "        # Now batches are callable self.data.next()\n",
    "        self.data = self.get_infinite_batches(train_loader)\n",
    "\n",
    "        one = torch.ones([1],device=device)\n",
    "        mone = one * -1\n",
    "\n",
    "        for g_iter in range(self.generator_iters):\n",
    "\n",
    "            # Requires grad, Generator requires_grad = False\n",
    "            for p in self.D.parameters():\n",
    "                p.requires_grad = True\n",
    "\n",
    "            # Train Dicriminator forward-loss-backward-update self.critic_iter times while 1 Generator forward-loss-backward-update\n",
    "            for d_iter in range(self.critic_iter):\n",
    "                self.D.zero_grad()\n",
    "\n",
    "                # Clamp parameters to a range [-c, c], c=self.weight_cliping_limit\n",
    "                for p in self.D.parameters():\n",
    "                    p.data.clamp_(-self.weight_cliping_limit, self.weight_cliping_limit)\n",
    "\n",
    "                images, labels = self.data.__next__()\n",
    "                # Check for batch to have full batch_size\n",
    "                if (images.size()[0] != self.batch_size):\n",
    "                    continue\n",
    "\n",
    "                images.to(device)\n",
    "                labels.to(device)\n",
    "\n",
    "\n",
    "                # Train discriminator\n",
    "                # WGAN - Training discriminator more iterations than generator\n",
    "                # Train with real images\n",
    "                d_loss_real = self.D(images,labels)\n",
    "                d_loss_real = d_loss_real.mean(0).view(1)\n",
    "                d_loss_real.backward(one)\n",
    "\n",
    "                # Train with fake images\n",
    "                fake_images = self.G(labels)\n",
    "                d_loss_fake = self.D(fake_images,labels)\n",
    "                d_loss_fake = d_loss_fake.mean(0).view(1)\n",
    "                d_loss_fake.backward(mone)\n",
    "\n",
    "                d_loss = d_loss_fake - d_loss_real\n",
    "                Wasserstein_D = d_loss_real - d_loss_fake\n",
    "                self.d_optimizer.step()\n",
    "#                 print(f'  Discriminator iteration: {d_iter}/{self.critic_iter}, loss_fake: {d_loss_fake.data}, loss_real: {d_loss_real.data}')\n",
    "\n",
    "\n",
    "\n",
    "            # Generator update\n",
    "            for p in self.D.parameters():\n",
    "                p.requires_grad = False  # to avoid computation\n",
    "\n",
    "            self.G.zero_grad()\n",
    "\n",
    "            # Train generator\n",
    "            # Compute loss with fake images\n",
    "            fake_images = self.G(labels)\n",
    "            g_loss = self.D(fake_images,labels)\n",
    "            g_loss = g_loss.mean().mean(0).view(1)\n",
    "            g_loss.backward(one)\n",
    "            g_cost = -g_loss\n",
    "            self.g_optimizer.step()\n",
    "#             print(f'Generator iteration: {g_iter}/{self.generator_iters}, g_loss: {g_loss.data}')\n",
    "\n",
    "            # Saving model and sampling images every 1000th generator iterations\n",
    "            if (g_iter) % SAVE_PER_TIMES == 0:\n",
    "                self.save_model()\n",
    "                \n",
    "                if not os.path.exists('training_result_images/'):\n",
    "                    os.makedirs('training_result_images/')\n",
    "                fig, axes = plt.subplots(1, 5, figsize=(15, 3))\n",
    "                samples = []\n",
    "                # Denormalize images and save them in grid 8x8\n",
    "                for i, (_, label) in enumerate(test_sample):\n",
    "                    sample = self.generate_image(label)\n",
    "                    mean = torch.tensor([0.5, 0.5, 0.5]).view(3, 1, 1).to(device)\n",
    "                    std = torch.tensor([0.5, 0.5, 0.5]).view(3, 1, 1).to(device)\n",
    "                    sample = sample * std + mean\n",
    "                    sample = sample.permute(1, 2, 0).cpu().numpy()\n",
    "                    axes[i].imshow(sample[..., :3])\n",
    "                    axes[i].set_title(wrap_label(label), fontsize=10)\n",
    "                    axes[i].axis('off')\n",
    "                plt.subplots_adjust(wspace=0.3, hspace=0.6)\n",
    "                plt.show()\n",
    "                \n",
    "                # Testing\n",
    "                time = t.time() - self.t_begin\n",
    "                #print(\"Inception score: {}\".format(inception_score))\n",
    "                print(\"Generator iter: {}\".format(g_iter))\n",
    "                print(\"Time {}\".format(time))\n",
    "\n",
    "                # Write to file inception_score, gen_iters, time\n",
    "                #output = str(g_iter) + \" \" + str(time) + \" \" + str(inception_score[0]) + \"\\n\"\n",
    "                #self.file.write(output)\n",
    "\n",
    "                # ============ TensorBoard logging ============#\n",
    "                # (1) Log the scalar values\n",
    "                info = {\n",
    "                    'Wasserstein distance': Wasserstein_D.data,\n",
    "                    'Loss D': d_loss.data,\n",
    "                    'Loss G': g_cost.data,\n",
    "                    'Loss D Real': d_loss_real.data,\n",
    "                    'Loss D Fake': d_loss_fake.data\n",
    "                }\n",
    "                print(info)\n",
    "\n",
    "        self.t_end = t.time()\n",
    "        print('Time of training-{}'.format((self.t_end - self.t_begin)))\n",
    "        #self.file.close()\n",
    "\n",
    "        # Save the trained parameters\n",
    "        self.save_model()\n",
    "\n",
    "#     def evaluate(self, test_loader, D_model_path, G_model_path):\n",
    "#         self.load_model(D_model_path, G_model_path)\n",
    "#         z = self.get_torch_variable(torch.randn(self.batch_size, 100, 1, 1))\n",
    "#         samples = self.G(z)\n",
    "#         samples = samples.mul(0.5).add(0.5)\n",
    "#         samples = samples.data.cpu()\n",
    "#         grid = utils.make_grid(samples)\n",
    "#         print(\"Grid of 8x8 images saved to 'dgan_model_image.png'.\")\n",
    "#         utils.save_image(grid, 'dgan_model_image.png')\n",
    "\n",
    "\n",
    "    def generate_image(self,label):\n",
    "#         print(label)\n",
    "        # Transformer le label en embedding\n",
    "        label_embedding = text_embedder([label]).squeeze(0).to(device)\n",
    "        label_embedding = label_embedding.view(1, -1)\n",
    "\n",
    "        # Générer l'image\n",
    "        with torch.no_grad():  # Pas besoin de calculer les gradients\n",
    "            fake_image = self.G(label_embedding).squeeze(0)\n",
    "\n",
    "        return fake_image\n",
    "\n",
    "\n",
    "    def save_model(self):\n",
    "        torch.save(self.G.state_dict(), f'./models/generator_{self.save_name}.pkl')\n",
    "        torch.save(self.D.state_dict(), f'./models/discriminator_{self.save_name}.pkl')\n",
    "        print(f'Models save to ./models/generator_{self.save_name}.pkl & ./models/discriminator_{self.save_name}.pkl ')\n",
    "\n",
    "    def load_model(self, model_filename):\n",
    "        D_model_filename = f\"./models/discriminator_{model_filename}.pkl\"\n",
    "        G_model_filename = f\"./models/generator_{model_filename}.pkl\"\n",
    "        D_model_path = os.path.join(os.getcwd(), D_model_filename)\n",
    "        G_model_path = os.path.join(os.getcwd(), G_model_filename)\n",
    "        self.D.load_state_dict(torch.load(D_model_path))\n",
    "        self.G.load_state_dict(torch.load(G_model_path))\n",
    "        print('Generator model loaded from {}.'.format(G_model_path))\n",
    "        print('Discriminator model loaded from {}-'.format(D_model_path))\n",
    "\n",
    "    def get_infinite_batches(self, data_loader):\n",
    "        while True:\n",
    "            for i, (images, labels) in enumerate(data_loader):\n",
    "                yield images, labels\n",
    "\n",
    "print(\"loaded\")"
   ]
  },
  {
   "cell_type": "code",
   "execution_count": null,
   "metadata": {
    "scrolled": true
   },
   "outputs": [
    {
     "name": "stdout",
     "output_type": "stream",
     "text": [
      "WGAN_CP init model.\n",
      "Models save to ./models/generator_only_clock_and_compass_2.pkl & ./models/discriminator_only_clock_and_compass_2.pkl \n"
     ]
    },
    {
     "data": {
      "image/png": "[encoded data removed]",
      "text/plain": [
       "<Figure size 1080x216 with 5 Axes>"
      ]
     },
     "metadata": {
      "needs_background": "light"
     },
     "output_type": "display_data"
    },
    {
     "name": "stdout",
     "output_type": "stream",
     "text": [
      "Generator iter: 0\n",
      "Time 0.636920690536499\n",
      "{'Wasserstein distance': tensor([-0.0155], device='cuda:0'), 'Loss D': tensor([0.0155], device='cuda:0'), 'Loss G': tensor([-0.0206], device='cuda:0'), 'Loss D Real': tensor([-0.0020], device='cuda:0'), 'Loss D Fake': tensor([0.0134], device='cuda:0')}\n",
      "Models save to ./models/generator_only_clock_and_compass_2.pkl & ./models/discriminator_only_clock_and_compass_2.pkl \n"
     ]
    },
    {
     "data": {
      "image/png": "[encoded data removed]",
      "text/plain": [
       "<Figure size 1080x216 with 5 Axes>"
      ]
     },
     "metadata": {
      "needs_background": "light"
     },
     "output_type": "display_data"
    },
    {
     "name": "stdout",
     "output_type": "stream",
     "text": [
      "Generator iter: 500\n",
      "Time 41.063782691955566\n",
      "{'Wasserstein distance': tensor([-22.0777], device='cuda:0'), 'Loss D': tensor([22.0777], device='cuda:0'), 'Loss G': tensor([-2.6571], device='cuda:0'), 'Loss D Real': tensor([-13.3554], device='cuda:0'), 'Loss D Fake': tensor([8.7224], device='cuda:0')}\n",
      "Models save to ./models/generator_only_clock_and_compass_2.pkl & ./models/discriminator_only_clock_and_compass_2.pkl \n"
     ]
    },
    {
     "data": {
      "image/png": "[encoded data removed]",
      "text/plain": [
       "<Figure size 1080x216 with 5 Axes>"
      ]
     },
     "metadata": {
      "needs_background": "light"
     },
     "output_type": "display_data"
    },
    {
     "name": "stdout",
     "output_type": "stream",
     "text": [
      "Generator iter: 1000\n",
      "Time 81.35776567459106\n",
      "{'Wasserstein distance': tensor([-21.3665], device='cuda:0'), 'Loss D': tensor([21.3665], device='cuda:0'), 'Loss G': tensor([-3.7598], device='cuda:0'), 'Loss D Real': tensor([-13.1686], device='cuda:0'), 'Loss D Fake': tensor([8.1978], device='cuda:0')}\n",
      "Models save to ./models/generator_only_clock_and_compass_2.pkl & ./models/discriminator_only_clock_and_compass_2.pkl \n"
     ]
    },
    {
     "data": {
      "image/png": "[encoded data removed]",
      "text/plain": [
       "<Figure size 1080x216 with 5 Axes>"
      ]
     },
     "metadata": {
      "needs_background": "light"
     },
     "output_type": "display_data"
    },
    {
     "name": "stdout",
     "output_type": "stream",
     "text": [
      "Generator iter: 1500\n",
      "Time 121.70080041885376\n",
      "{'Wasserstein distance': tensor([-19.0486], device='cuda:0'), 'Loss D': tensor([19.0486], device='cuda:0'), 'Loss G': tensor([-4.9801], device='cuda:0'), 'Loss D Real': tensor([-12.1418], device='cuda:0'), 'Loss D Fake': tensor([6.9068], device='cuda:0')}\n",
      "Models save to ./models/generator_only_clock_and_compass_2.pkl & ./models/discriminator_only_clock_and_compass_2.pkl \n"
     ]
    },
    {
     "data": {
      "image/png": "[encoded data removed]",
      "text/plain": [
       "<Figure size 1080x216 with 5 Axes>"
      ]
     },
     "metadata": {
      "needs_background": "light"
     },
     "output_type": "display_data"
    },
    {
     "name": "stdout",
     "output_type": "stream",
     "text": [
      "Generator iter: 2000\n",
      "Time 162.1307830810547\n",
      "{'Wasserstein distance': tensor([-18.2861], device='cuda:0'), 'Loss D': tensor([18.2861], device='cuda:0'), 'Loss G': tensor([-6.0306], device='cuda:0'), 'Loss D Real': tensor([-11.8305], device='cuda:0'), 'Loss D Fake': tensor([6.4556], device='cuda:0')}\n",
      "Models save to ./models/generator_only_clock_and_compass_2.pkl & ./models/discriminator_only_clock_and_compass_2.pkl \n"
     ]
    },
    {
     "data": {
      "image/png": "[encoded data removed]",
      "text/plain": [
       "<Figure size 1080x216 with 5 Axes>"
      ]
     },
     "metadata": {
      "needs_background": "light"
     },
     "output_type": "display_data"
    },
    {
     "name": "stdout",
     "output_type": "stream",
     "text": [
      "Generator iter: 2500\n",
      "Time 202.5298535823822\n",
      "{'Wasserstein distance': tensor([-19.6281], device='cuda:0'), 'Loss D': tensor([19.6281], device='cuda:0'), 'Loss G': tensor([-6.2285], device='cuda:0'), 'Loss D Real': tensor([-13.8747], device='cuda:0'), 'Loss D Fake': tensor([5.7534], device='cuda:0')}\n",
      "Models save to ./models/generator_only_clock_and_compass_2.pkl & ./models/discriminator_only_clock_and_compass_2.pkl \n"
     ]
    },
    {
     "data": {
      "image/png": "[encoded data removed]",
      "text/plain": [
       "<Figure size 1080x216 with 5 Axes>"
      ]
     },
     "metadata": {
      "needs_background": "light"
     },
     "output_type": "display_data"
    },
    {
     "name": "stdout",
     "output_type": "stream",
     "text": [
      "Generator iter: 3000\n",
      "Time 242.87849593162537\n",
      "{'Wasserstein distance': tensor([-16.5469], device='cuda:0'), 'Loss D': tensor([16.5469], device='cuda:0'), 'Loss G': tensor([-3.1115], device='cuda:0'), 'Loss D Real': tensor([-10.0477], device='cuda:0'), 'Loss D Fake': tensor([6.4992], device='cuda:0')}\n",
      "Models save to ./models/generator_only_clock_and_compass_2.pkl & ./models/discriminator_only_clock_and_compass_2.pkl \n"
     ]
    },
    {
     "data": {
      "image/png": "[encoded data removed]",
      "text/plain": [
       "<Figure size 1080x216 with 5 Axes>"
      ]
     },
     "metadata": {
      "needs_background": "light"
     },
     "output_type": "display_data"
    },
    {
     "name": "stdout",
     "output_type": "stream",
     "text": [
      "Generator iter: 3500\n",
      "Time 283.1874680519104\n",
      "{'Wasserstein distance': tensor([-15.1876], device='cuda:0'), 'Loss D': tensor([15.1876], device='cuda:0'), 'Loss G': tensor([-2.6902], device='cuda:0'), 'Loss D Real': tensor([-9.2503], device='cuda:0'), 'Loss D Fake': tensor([5.9373], device='cuda:0')}\n",
      "Models save to ./models/generator_only_clock_and_compass_2.pkl & ./models/discriminator_only_clock_and_compass_2.pkl \n"
     ]
    },
    {
     "data": {
      "image/png": "[encoded data removed]",
      "text/plain": [
       "<Figure size 1080x216 with 5 Axes>"
      ]
     },
     "metadata": {
      "needs_background": "light"
     },
     "output_type": "display_data"
    },
    {
     "name": "stdout",
     "output_type": "stream",
     "text": [
      "Generator iter: 4000\n",
      "Time 323.7474217414856\n",
      "{'Wasserstein distance': tensor([-14.6045], device='cuda:0'), 'Loss D': tensor([14.6045], device='cuda:0'), 'Loss G': tensor([-0.1308], device='cuda:0'), 'Loss D Real': tensor([-6.8518], device='cuda:0'), 'Loss D Fake': tensor([7.7526], device='cuda:0')}\n",
      "Models save to ./models/generator_only_clock_and_compass_2.pkl & ./models/discriminator_only_clock_and_compass_2.pkl \n"
     ]
    },
    {
     "data": {
      "image/png": "[encoded data removed]",
      "text/plain": [
       "<Figure size 1080x216 with 5 Axes>"
      ]
     },
     "metadata": {
      "needs_background": "light"
     },
     "output_type": "display_data"
    },
    {
     "name": "stdout",
     "output_type": "stream",
     "text": [
      "Generator iter: 4500\n",
      "Time 364.0720262527466\n",
      "{'Wasserstein distance': tensor([-14.3375], device='cuda:0'), 'Loss D': tensor([14.3375], device='cuda:0'), 'Loss G': tensor([-0.7783], device='cuda:0'), 'Loss D Real': tensor([-7.6840], device='cuda:0'), 'Loss D Fake': tensor([6.6534], device='cuda:0')}\n",
      "Models save to ./models/generator_only_clock_and_compass_2.pkl & ./models/discriminator_only_clock_and_compass_2.pkl \n"
     ]
    },
    {
     "data": {
      "image/png": "[encoded data removed]",
      "text/plain": [
       "<Figure size 1080x216 with 5 Axes>"
      ]
     },
     "metadata": {
      "needs_background": "light"
     },
     "output_type": "display_data"
    },
    {
     "name": "stdout",
     "output_type": "stream",
     "text": [
      "Generator iter: 5000\n",
      "Time 404.3992431163788\n",
      "{'Wasserstein distance': tensor([-15.9034], device='cuda:0'), 'Loss D': tensor([15.9034], device='cuda:0'), 'Loss G': tensor([-3.3253], device='cuda:0'), 'Loss D Real': tensor([-10.5701], device='cuda:0'), 'Loss D Fake': tensor([5.3333], device='cuda:0')}\n",
      "Models save to ./models/generator_only_clock_and_compass_2.pkl & ./models/discriminator_only_clock_and_compass_2.pkl \n"
     ]
    },
    {
     "data": {
      "image/png": "[encoded data removed]",
      "text/plain": [
       "<Figure size 1080x216 with 5 Axes>"
      ]
     },
     "metadata": {
      "needs_background": "light"
     },
     "output_type": "display_data"
    },
    {
     "name": "stdout",
     "output_type": "stream",
     "text": [
      "Generator iter: 5500\n",
      "Time 444.6675486564636\n",
      "{'Wasserstein distance': tensor([-16.3989], device='cuda:0'), 'Loss D': tensor([16.3989], device='cuda:0'), 'Loss G': tensor([-1.9836], device='cuda:0'), 'Loss D Real': tensor([-8.9667], device='cuda:0'), 'Loss D Fake': tensor([7.4323], device='cuda:0')}\n",
      "Models save to ./models/generator_only_clock_and_compass_2.pkl & ./models/discriminator_only_clock_and_compass_2.pkl \n"
     ]
    },
    {
     "data": {
      "image/png": "[encoded data removed]",
      "text/plain": [
       "<Figure size 1080x216 with 5 Axes>"
      ]
     },
     "metadata": {
      "needs_background": "light"
     },
     "output_type": "display_data"
    },
    {
     "name": "stdout",
     "output_type": "stream",
     "text": [
      "Generator iter: 6000\n",
      "Time 484.9675714969635\n",
      "{'Wasserstein distance': tensor([-13.6627], device='cuda:0'), 'Loss D': tensor([13.6627], device='cuda:0'), 'Loss G': tensor([-3.9339], device='cuda:0'), 'Loss D Real': tensor([-9.0046], device='cuda:0'), 'Loss D Fake': tensor([4.6581], device='cuda:0')}\n",
      "Models save to ./models/generator_only_clock_and_compass_2.pkl & ./models/discriminator_only_clock_and_compass_2.pkl \n"
     ]
    },
    {
     "data": {
      "image/png": "[encoded data removed]",
      "text/plain": [
       "<Figure size 1080x216 with 5 Axes>"
      ]
     },
     "metadata": {
      "needs_background": "light"
     },
     "output_type": "display_data"
    },
    {
     "name": "stdout",
     "output_type": "stream",
     "text": [
      "Generator iter: 6500\n",
      "Time 525.4271192550659\n",
      "{'Wasserstein distance': tensor([-14.2887], device='cuda:0'), 'Loss D': tensor([14.2887], device='cuda:0'), 'Loss G': tensor([-2.4286], device='cuda:0'), 'Loss D Real': tensor([-9.3086], device='cuda:0'), 'Loss D Fake': tensor([4.9801], device='cuda:0')}\n",
      "Models save to ./models/generator_only_clock_and_compass_2.pkl & ./models/discriminator_only_clock_and_compass_2.pkl \n"
     ]
    },
    {
     "data": {
      "image/png": "[encoded data removed]",
      "text/plain": [
       "<Figure size 1080x216 with 5 Axes>"
      ]
     },
     "metadata": {
      "needs_background": "light"
     },
     "output_type": "display_data"
    },
    {
     "name": "stdout",
     "output_type": "stream",
     "text": [
      "Generator iter: 7000\n",
      "Time 565.6374070644379\n",
      "{'Wasserstein distance': tensor([-15.3641], device='cuda:0'), 'Loss D': tensor([15.3641], device='cuda:0'), 'Loss G': tensor([-5.5970], device='cuda:0'), 'Loss D Real': tensor([-11.6456], device='cuda:0'), 'Loss D Fake': tensor([3.7185], device='cuda:0')}\n",
      "Models save to ./models/generator_only_clock_and_compass_2.pkl & ./models/discriminator_only_clock_and_compass_2.pkl \n"
     ]
    },
    {
     "data": {
      "image/png": "[encoded data removed]",
      "text/plain": [
       "<Figure size 1080x216 with 5 Axes>"
      ]
     },
     "metadata": {
      "needs_background": "light"
     },
     "output_type": "display_data"
    },
    {
     "name": "stdout",
     "output_type": "stream",
     "text": [
      "Generator iter: 7500\n",
      "Time 605.8291313648224\n",
      "{'Wasserstein distance': tensor([-12.4354], device='cuda:0'), 'Loss D': tensor([12.4354], device='cuda:0'), 'Loss G': tensor([-6.0453], device='cuda:0'), 'Loss D Real': tensor([-11.4550], device='cuda:0'), 'Loss D Fake': tensor([0.9804], device='cuda:0')}\n",
      "Models save to ./models/generator_only_clock_and_compass_2.pkl & ./models/discriminator_only_clock_and_compass_2.pkl \n"
     ]
    },
    {
     "data": {
      "image/png": "[encoded data removed]",
      "text/plain": [
       "<Figure size 1080x216 with 5 Axes>"
      ]
     },
     "metadata": {
      "needs_background": "light"
     },
     "output_type": "display_data"
    },
    {
     "name": "stdout",
     "output_type": "stream",
     "text": [
      "Generator iter: 8000\n",
      "Time 646.2541415691376\n",
      "{'Wasserstein distance': tensor([-13.7973], device='cuda:0'), 'Loss D': tensor([13.7973], device='cuda:0'), 'Loss G': tensor([-5.3878], device='cuda:0'), 'Loss D Real': tensor([-11.3752], device='cuda:0'), 'Loss D Fake': tensor([2.4220], device='cuda:0')}\n",
      "Models save to ./models/generator_only_clock_and_compass_2.pkl & ./models/discriminator_only_clock_and_compass_2.pkl \n"
     ]
    },
    {
     "data": {
      "image/png": "[encoded data removed]",
      "text/plain": [
       "<Figure size 1080x216 with 5 Axes>"
      ]
     },
     "metadata": {
      "needs_background": "light"
     },
     "output_type": "display_data"
    },
    {
     "name": "stdout",
     "output_type": "stream",
     "text": [
      "Generator iter: 8500\n",
      "Time 686.5245563983917\n",
      "{'Wasserstein distance': tensor([-11.9995], device='cuda:0'), 'Loss D': tensor([11.9995], device='cuda:0'), 'Loss G': tensor([-6.8807], device='cuda:0'), 'Loss D Real': tensor([-12.2587], device='cuda:0'), 'Loss D Fake': tensor([-0.2592], device='cuda:0')}\n",
      "Models save to ./models/generator_only_clock_and_compass_2.pkl & ./models/discriminator_only_clock_and_compass_2.pkl \n"
     ]
    },
    {
     "data": {
      "image/png": "[encoded data removed]",
      "text/plain": [
       "<Figure size 1080x216 with 5 Axes>"
      ]
     },
     "metadata": {
      "needs_background": "light"
     },
     "output_type": "display_data"
    },
    {
     "name": "stdout",
     "output_type": "stream",
     "text": [
      "Generator iter: 9000\n",
      "Time 726.8164401054382\n",
      "{'Wasserstein distance': tensor([-15.6149], device='cuda:0'), 'Loss D': tensor([15.6149], device='cuda:0'), 'Loss G': tensor([-3.6585], device='cuda:0'), 'Loss D Real': tensor([-11.7874], device='cuda:0'), 'Loss D Fake': tensor([3.8275], device='cuda:0')}\n",
      "Models save to ./models/generator_only_clock_and_compass_2.pkl & ./models/discriminator_only_clock_and_compass_2.pkl \n"
     ]
    },
    {
     "data": {
      "image/png": "[encoded data removed]",
      "text/plain": [
       "<Figure size 1080x216 with 5 Axes>"
      ]
     },
     "metadata": {
      "needs_background": "light"
     },
     "output_type": "display_data"
    },
    {
     "name": "stdout",
     "output_type": "stream",
     "text": [
      "Generator iter: 9500\n",
      "Time 767.0609276294708\n",
      "{'Wasserstein distance': tensor([-12.5815], device='cuda:0'), 'Loss D': tensor([12.5815], device='cuda:0'), 'Loss G': tensor([-6.7201], device='cuda:0'), 'Loss D Real': tensor([-12.5857], device='cuda:0'), 'Loss D Fake': tensor([-0.0042], device='cuda:0')}\n",
      "Models save to ./models/generator_only_clock_and_compass_2.pkl & ./models/discriminator_only_clock_and_compass_2.pkl \n"
     ]
    },
    {
     "data": {
      "image/png": "[encoded data removed]",
      "text/plain": [
       "<Figure size 1080x216 with 5 Axes>"
      ]
     },
     "metadata": {
      "needs_background": "light"
     },
     "output_type": "display_data"
    },
    {
     "name": "stdout",
     "output_type": "stream",
     "text": [
      "Generator iter: 10000\n",
      "Time 807.2655565738678\n",
      "{'Wasserstein distance': tensor([-11.0537], device='cuda:0'), 'Loss D': tensor([11.0537], device='cuda:0'), 'Loss G': tensor([-5.6898], device='cuda:0'), 'Loss D Real': tensor([-10.8693], device='cuda:0'), 'Loss D Fake': tensor([0.1844], device='cuda:0')}\n",
      "Models save to ./models/generator_only_clock_and_compass_2.pkl & ./models/discriminator_only_clock_and_compass_2.pkl \n"
     ]
    },
    {
     "data": {
      "image/png": "[encoded data removed]",
      "text/plain": [
       "<Figure size 1080x216 with 5 Axes>"
      ]
     },
     "metadata": {
      "needs_background": "light"
     },
     "output_type": "display_data"
    },
    {
     "name": "stdout",
     "output_type": "stream",
     "text": [
      "Generator iter: 10500\n",
      "Time 847.5487635135651\n",
      "{'Wasserstein distance': tensor([-12.7527], device='cuda:0'), 'Loss D': tensor([12.7527], device='cuda:0'), 'Loss G': tensor([-2.9830], device='cuda:0'), 'Loss D Real': tensor([-8.8803], device='cuda:0'), 'Loss D Fake': tensor([3.8725], device='cuda:0')}\n",
      "Models save to ./models/generator_only_clock_and_compass_2.pkl & ./models/discriminator_only_clock_and_compass_2.pkl \n"
     ]
    },
    {
     "data": {
      "image/png": "[encoded data removed]",
      "text/plain": [
       "<Figure size 1080x216 with 5 Axes>"
      ]
     },
     "metadata": {
      "needs_background": "light"
     },
     "output_type": "display_data"
    },
    {
     "name": "stdout",
     "output_type": "stream",
     "text": [
      "Generator iter: 11000\n",
      "Time 888.1867871284485\n",
      "{'Wasserstein distance': tensor([-12.9566], device='cuda:0'), 'Loss D': tensor([12.9566], device='cuda:0'), 'Loss G': tensor([-4.1746], device='cuda:0'), 'Loss D Real': tensor([-10.2178], device='cuda:0'), 'Loss D Fake': tensor([2.7388], device='cuda:0')}\n",
      "Models save to ./models/generator_only_clock_and_compass_2.pkl & ./models/discriminator_only_clock_and_compass_2.pkl \n"
     ]
    },
    {
     "data": {
      "image/png": "[encoded data removed]",
      "text/plain": [
       "<Figure size 1080x216 with 5 Axes>"
      ]
     },
     "metadata": {
      "needs_background": "light"
     },
     "output_type": "display_data"
    },
    {
     "name": "stdout",
     "output_type": "stream",
     "text": [
      "Generator iter: 11500\n",
      "Time 928.3692693710327\n",
      "{'Wasserstein distance': tensor([-13.1934], device='cuda:0'), 'Loss D': tensor([13.1934], device='cuda:0'), 'Loss G': tensor([-6.5072], device='cuda:0'), 'Loss D Real': tensor([-12.2317], device='cuda:0'), 'Loss D Fake': tensor([0.9617], device='cuda:0')}\n",
      "Models save to ./models/generator_only_clock_and_compass_2.pkl & ./models/discriminator_only_clock_and_compass_2.pkl \n"
     ]
    },
    {
     "data": {
      "image/png": "[encoded data removed]",
      "text/plain": [
       "<Figure size 1080x216 with 5 Axes>"
      ]
     },
     "metadata": {
      "needs_background": "light"
     },
     "output_type": "display_data"
    },
    {
     "name": "stdout",
     "output_type": "stream",
     "text": [
      "Generator iter: 12000\n",
      "Time 968.7802331447601\n",
      "{'Wasserstein distance': tensor([-7.6346], device='cuda:0'), 'Loss D': tensor([7.6346], device='cuda:0'), 'Loss G': tensor([2.6843], device='cuda:0'), 'Loss D Real': tensor([-0.7066], device='cuda:0'), 'Loss D Fake': tensor([6.9280], device='cuda:0')}\n",
      "Models save to ./models/generator_only_clock_and_compass_2.pkl & ./models/discriminator_only_clock_and_compass_2.pkl \n"
     ]
    },
    {
     "data": {
      "image/png": "[encoded data removed]",
      "text/plain": [
       "<Figure size 1080x216 with 5 Axes>"
      ]
     },
     "metadata": {
      "needs_background": "light"
     },
     "output_type": "display_data"
    },
    {
     "name": "stdout",
     "output_type": "stream",
     "text": [
      "Generator iter: 12500\n",
      "Time 1009.0617773532867\n",
      "{'Wasserstein distance': tensor([-13.4471], device='cuda:0'), 'Loss D': tensor([13.4471], device='cuda:0'), 'Loss G': tensor([0.0498], device='cuda:0'), 'Loss D Real': tensor([-7.3840], device='cuda:0'), 'Loss D Fake': tensor([6.0630], device='cuda:0')}\n",
      "Models save to ./models/generator_only_clock_and_compass_2.pkl & ./models/discriminator_only_clock_and_compass_2.pkl \n"
     ]
    },
    {
     "data": {
      "image/png": "[encoded data removed]",
      "text/plain": [
       "<Figure size 1080x216 with 5 Axes>"
      ]
     },
     "metadata": {
      "needs_background": "light"
     },
     "output_type": "display_data"
    },
    {
     "name": "stdout",
     "output_type": "stream",
     "text": [
      "Generator iter: 13000\n",
      "Time 1049.332006931305\n",
      "{'Wasserstein distance': tensor([-11.3347], device='cuda:0'), 'Loss D': tensor([11.3347], device='cuda:0'), 'Loss G': tensor([-1.9397], device='cuda:0'), 'Loss D Real': tensor([-6.0665], device='cuda:0'), 'Loss D Fake': tensor([5.2681], device='cuda:0')}\n",
      "Models save to ./models/generator_only_clock_and_compass_2.pkl & ./models/discriminator_only_clock_and_compass_2.pkl \n"
     ]
    },
    {
     "data": {
      "image/png": "[encoded data removed]",
      "text/plain": [
       "<Figure size 1080x216 with 5 Axes>"
      ]
     },
     "metadata": {
      "needs_background": "light"
     },
     "output_type": "display_data"
    },
    {
     "name": "stdout",
     "output_type": "stream",
     "text": [
      "Generator iter: 13500\n",
      "Time 1089.6778655052185\n",
      "{'Wasserstein distance': tensor([-11.8798], device='cuda:0'), 'Loss D': tensor([11.8798], device='cuda:0'), 'Loss G': tensor([-5.3647], device='cuda:0'), 'Loss D Real': tensor([-9.4638], device='cuda:0'), 'Loss D Fake': tensor([2.4160], device='cuda:0')}\n",
      "Models save to ./models/generator_only_clock_and_compass_2.pkl & ./models/discriminator_only_clock_and_compass_2.pkl \n"
     ]
    },
    {
     "data": {
      "image/png": "[encoded data removed]",
      "text/plain": [
       "<Figure size 1080x216 with 5 Axes>"
      ]
     },
     "metadata": {
      "needs_background": "light"
     },
     "output_type": "display_data"
    },
    {
     "name": "stdout",
     "output_type": "stream",
     "text": [
      "Generator iter: 14000\n",
      "Time 1130.132775068283\n",
      "{'Wasserstein distance': tensor([-11.7955], device='cuda:0'), 'Loss D': tensor([11.7955], device='cuda:0'), 'Loss G': tensor([1.7582], device='cuda:0'), 'Loss D Real': tensor([-6.6778], device='cuda:0'), 'Loss D Fake': tensor([5.1176], device='cuda:0')}\n"
     ]
    }
   ],
   "source": [
    "model = WGAN_CP(50000,'only_clock_and_compass_2')\n",
    "\n",
    "# model.load_model(\"only_clock_and_compass_2\")\n",
    "model.train(dataloader)\n",
    "print(\"fini\")\n",
    "\n",
    "\n",
    "\n"
   ]
  },
  {
   "cell_type": "code",
   "execution_count": null,
   "metadata": {},
   "outputs": [],
   "source": [
    "model = WGAN_CP(50000,'only_clock_and_compass_2')\n",
    "\n",
    "print(\"test\")\n",
    "model.load_model(\"only_clock_and_compass_2\")\n",
    "\n",
    "\n",
    "# Créer une grille de 6x5 pour afficher les images\n",
    "fig, axes = plt.subplots(6, 5, figsize=(15, 18))  # Ajuster la taille de la figure selon les besoins\n",
    "axes = axes.flatten()  # Aplatir le tableau d'axes pour un accès plus facile dans la boucle\n",
    "\n",
    "print(\"test\")\n",
    "for i in range(30):\n",
    "    label = f\"recovery compass {i}\"  # Étiquette adaptée pour votre cas d'usage\n",
    "    sample = model.generate_image(label)  # Générer l'image avec le modèle\n",
    "    \n",
    "    # Normaliser l'image\n",
    "    mean = torch.tensor([0.5, 0.5, 0.5]).view(3, 1, 1).to(device)\n",
    "    std = torch.tensor([0.5, 0.5, 0.5]).view(3, 1, 1).to(device)\n",
    "    sample = sample * std + mean\n",
    "    sample = sample.permute(1, 2, 0).cpu().numpy()  # Réarranger les axes pour matplotlib\n",
    "    \n",
    "    # Afficher l'image\n",
    "    axes[i].imshow(sample[..., :3])  # Assurez-vous que l'image est RGB\n",
    "    axes[i].set_title(label, fontsize=10)  # Titre personnalisé pour chaque image\n",
    "    axes[i].axis('off')  # Enlever les axes\n",
    "\n",
    "# Ajuster l'espacement entre les images\n",
    "plt.subplots_adjust(wspace=0.3, hspace=0.6)\n",
    "plt.show()"
   ]
  }
 ],
 "metadata": {
  "accelerator": "GPU",
  "colab": {
   "gpuType": "V100",
   "provenance": []
  },
  "kernelspec": {
   "display_name": "python-3.10",
   "language": "python",
   "name": "python-3.10"
  },
  "language_info": {
   "codemirror_mode": {
    "name": "ipython",
    "version": 3
   },
   "file_extension": ".py",
   "mimetype": "text/x-python",
   "name": "python",
   "nbconvert_exporter": "python",
   "pygments_lexer": "ipython3",
   "version": "3.8.5"
  },
  "widgets": {
   "application/vnd.jupyter.widget-state+json": {
    "00e59dcdaeaa4ab2ba5fbec0b6bf395f": {
     "model_module": "@jupyter-widgets/controls",
     "model_module_version": "1.5.0",
     "model_name": "FloatProgressModel",
     "state": {
      "_dom_classes": [],
      "_model_module": "@jupyter-widgets/controls",
      "_model_module_version": "1.5.0",
      "_model_name": "FloatProgressModel",
      "_view_count": null,
      "_view_module": "@jupyter-widgets/controls",
      "_view_module_version": "1.5.0",
      "_view_name": "ProgressView",
      "bar_style": "success",
      "description": "",
      "description_tooltip": null,
      "layout": "IPY_MODEL_bc028c0b5ef84087b05ab751e8188a0d",
      "max": 28,
      "min": 0,
      "orientation": "horizontal",
      "style": "IPY_MODEL_f86633529182492db15151fceb37bccb",
      "value": 28
     }
    },
    "092c74935e7a4ac9a185535d709cd9ad": {
     "model_module": "@jupyter-widgets/controls",
     "model_module_version": "1.5.0",
     "model_name": "DescriptionStyleModel",
     "state": {
      "_model_module": "@jupyter-widgets/controls",
      "_model_module_version": "1.5.0",
      "_model_name": "DescriptionStyleModel",
      "_view_count": null,
      "_view_module": "@jupyter-widgets/base",
      "_view_module_version": "1.2.0",
      "_view_name": "StyleView",
      "description_width": ""
     }
    },
    "28233c6c11184cff9a1d90202feedd88": {
     "model_module": "@jupyter-widgets/controls",
     "model_module_version": "1.5.0",
     "model_name": "FloatProgressModel",
     "state": {
      "_dom_classes": [],
      "_model_module": "@jupyter-widgets/controls",
      "_model_module_version": "1.5.0",
      "_model_name": "FloatProgressModel",
      "_view_count": null,
      "_view_module": "@jupyter-widgets/controls",
      "_view_module_version": "1.5.0",
      "_view_name": "ProgressView",
      "bar_style": "success",
      "description": "",
      "description_tooltip": null,
      "layout": "IPY_MODEL_80ec974da8b5452cbfe7c7b0bf3a03ac",
      "max": 466062,
      "min": 0,
      "orientation": "horizontal",
      "style": "IPY_MODEL_ec3adfcfa00a40e98e98ada23b9f8c79",
      "value": 466062
     }
    },
    "3501c0bde1954079b6ad6556668187ca": {
     "model_module": "@jupyter-widgets/controls",
     "model_module_version": "1.5.0",
     "model_name": "HTMLModel",
     "state": {
      "_dom_classes": [],
      "_model_module": "@jupyter-widgets/controls",
      "_model_module_version": "1.5.0",
      "_model_name": "HTMLModel",
      "_view_count": null,
      "_view_module": "@jupyter-widgets/controls",
      "_view_module_version": "1.5.0",
      "_view_name": "HTMLView",
      "description": "",
      "description_tooltip": null,
      "layout": "IPY_MODEL_c5ffe37ba08d44e0881dd625ee4b683d",
      "placeholder": "​",
      "style": "IPY_MODEL_9157ae62362e47cabadc6f614ed2695a",
      "value": "tokenizer.json: 100%"
     }
    },
    "3764cc3b6f8f4bc091b919fa49276fc4": {
     "model_module": "@jupyter-widgets/controls",
     "model_module_version": "1.5.0",
     "model_name": "HTMLModel",
     "state": {
      "_dom_classes": [],
      "_model_module": "@jupyter-widgets/controls",
      "_model_module_version": "1.5.0",
      "_model_name": "HTMLModel",
      "_view_count": null,
      "_view_module": "@jupyter-widgets/controls",
      "_view_module_version": "1.5.0",
      "_view_name": "HTMLView",
      "description": "",
      "description_tooltip": null,
      "layout": "IPY_MODEL_fc261bc3ba1d413b8f8efd5adcac71e6",
      "placeholder": "​",
      "style": "IPY_MODEL_daf5d4f525ef465b9c1d26a31aa59c02",
      "value": " 28.0/28.0 [00:00&lt;00:00, 1.90kB/s]"
     }
    },
    "3d0ee1b9ce07444ebc9a2f70b6480e65": {
     "model_module": "@jupyter-widgets/base",
     "model_module_version": "1.2.0",
     "model_name": "LayoutModel",
     "state": {
      "_model_module": "@jupyter-widgets/base",
      "_model_module_version": "1.2.0",
      "_model_name": "LayoutModel",
      "_view_count": null,
      "_view_module": "@jupyter-widgets/base",
      "_view_module_version": "1.2.0",
      "_view_name": "LayoutView",
      "align_content": null,
      "align_items": null,
      "align_self": null,
      "border": null,
      "bottom": null,
      "display": null,
      "flex": null,
      "flex_flow": null,
      "grid_area": null,
      "grid_auto_columns": null,
      "grid_auto_flow": null,
      "grid_auto_rows": null,
      "grid_column": null,
      "grid_gap": null,
      "grid_row": null,
      "grid_template_areas": null,
      "grid_template_columns": null,
      "grid_template_rows": null,
      "height": null,
      "justify_content": null,
      "justify_items": null,
      "left": null,
      "margin": null,
      "max_height": null,
      "max_width": null,
      "min_height": null,
      "min_width": null,
      "object_fit": null,
      "object_position": null,
      "order": null,
      "overflow": null,
      "overflow_x": null,
      "overflow_y": null,
      "padding": null,
      "right": null,
      "top": null,
      "visibility": null,
      "width": null
     }
    },
    "3f5285ca2efe40a69e07f5e31cc2c3c1": {
     "model_module": "@jupyter-widgets/controls",
     "model_module_version": "1.5.0",
     "model_name": "FloatProgressModel",
     "state": {
      "_dom_classes": [],
      "_model_module": "@jupyter-widgets/controls",
      "_model_module_version": "1.5.0",
      "_model_name": "FloatProgressModel",
      "_view_count": null,
      "_view_module": "@jupyter-widgets/controls",
      "_view_module_version": "1.5.0",
      "_view_name": "ProgressView",
      "bar_style": "success",
      "description": "",
      "description_tooltip": null,
      "layout": "IPY_MODEL_bffa6404a251479fb63915002a9e3ded",
      "max": 483,
      "min": 0,
      "orientation": "horizontal",
      "style": "IPY_MODEL_eb53ba5a6f7449f4b49f70531ac399ae",
      "value": 483
     }
    },
    "43bd0de55e2a4a418034f19d7dbbaf7b": {
     "model_module": "@jupyter-widgets/base",
     "model_module_version": "1.2.0",
     "model_name": "LayoutModel",
     "state": {
      "_model_module": "@jupyter-widgets/base",
      "_model_module_version": "1.2.0",
      "_model_name": "LayoutModel",
      "_view_count": null,
      "_view_module": "@jupyter-widgets/base",
      "_view_module_version": "1.2.0",
      "_view_name": "LayoutView",
      "align_content": null,
      "align_items": null,
      "align_self": null,
      "border": null,
      "bottom": null,
      "display": null,
      "flex": null,
      "flex_flow": null,
      "grid_area": null,
      "grid_auto_columns": null,
      "grid_auto_flow": null,
      "grid_auto_rows": null,
      "grid_column": null,
      "grid_gap": null,
      "grid_row": null,
      "grid_template_areas": null,
      "grid_template_columns": null,
      "grid_template_rows": null,
      "height": null,
      "justify_content": null,
      "justify_items": null,
      "left": null,
      "margin": null,
      "max_height": null,
      "max_width": null,
      "min_height": null,
      "min_width": null,
      "object_fit": null,
      "object_position": null,
      "order": null,
      "overflow": null,
      "overflow_x": null,
      "overflow_y": null,
      "padding": null,
      "right": null,
      "top": null,
      "visibility": null,
      "width": null
     }
    },
    "49f02285c9ba45f5917058bee1045415": {
     "model_module": "@jupyter-widgets/base",
     "model_module_version": "1.2.0",
     "model_name": "LayoutModel",
     "state": {
      "_model_module": "@jupyter-widgets/base",
      "_model_module_version": "1.2.0",
      "_model_name": "LayoutModel",
      "_view_count": null,
      "_view_module": "@jupyter-widgets/base",
      "_view_module_version": "1.2.0",
      "_view_name": "LayoutView",
      "align_content": null,
      "align_items": null,
      "align_self": null,
      "border": null,
      "bottom": null,
      "display": null,
      "flex": null,
      "flex_flow": null,
      "grid_area": null,
      "grid_auto_columns": null,
      "grid_auto_flow": null,
      "grid_auto_rows": null,
      "grid_column": null,
      "grid_gap": null,
      "grid_row": null,
      "grid_template_areas": null,
      "grid_template_columns": null,
      "grid_template_rows": null,
      "height": null,
      "justify_content": null,
      "justify_items": null,
      "left": null,
      "margin": null,
      "max_height": null,
      "max_width": null,
      "min_height": null,
      "min_width": null,
      "object_fit": null,
      "object_position": null,
      "order": null,
      "overflow": null,
      "overflow_x": null,
      "overflow_y": null,
      "padding": null,
      "right": null,
      "top": null,
      "visibility": null,
      "width": null
     }
    },
    "525e7c8a7eba4af7b3f64eaeb26e8a97": {
     "model_module": "@jupyter-widgets/controls",
     "model_module_version": "1.5.0",
     "model_name": "HTMLModel",
     "state": {
      "_dom_classes": [],
      "_model_module": "@jupyter-widgets/controls",
      "_model_module_version": "1.5.0",
      "_model_name": "HTMLModel",
      "_view_count": null,
      "_view_module": "@jupyter-widgets/controls",
      "_view_module_version": "1.5.0",
      "_view_name": "HTMLView",
      "description": "",
      "description_tooltip": null,
      "layout": "IPY_MODEL_fca5b5e4105743888a2470e62695d165",
      "placeholder": "​",
      "style": "IPY_MODEL_e86ec2dbb5f145e8ab14f84d869c75d2",
      "value": "tokenizer_config.json: 100%"
     }
    },
    "535abda3a1c748a2a3c8f14170c5e09c": {
     "model_module": "@jupyter-widgets/controls",
     "model_module_version": "1.5.0",
     "model_name": "HBoxModel",
     "state": {
      "_dom_classes": [],
      "_model_module": "@jupyter-widgets/controls",
      "_model_module_version": "1.5.0",
      "_model_name": "HBoxModel",
      "_view_count": null,
      "_view_module": "@jupyter-widgets/controls",
      "_view_module_version": "1.5.0",
      "_view_name": "HBoxView",
      "box_style": "",
      "children": [
       "IPY_MODEL_525e7c8a7eba4af7b3f64eaeb26e8a97",
       "IPY_MODEL_00e59dcdaeaa4ab2ba5fbec0b6bf395f",
       "IPY_MODEL_3764cc3b6f8f4bc091b919fa49276fc4"
      ],
      "layout": "IPY_MODEL_3d0ee1b9ce07444ebc9a2f70b6480e65"
     }
    },
    "5ad407489dcd488e9a3e93d47c2d739d": {
     "model_module": "@jupyter-widgets/base",
     "model_module_version": "1.2.0",
     "model_name": "LayoutModel",
     "state": {
      "_model_module": "@jupyter-widgets/base",
      "_model_module_version": "1.2.0",
      "_model_name": "LayoutModel",
      "_view_count": null,
      "_view_module": "@jupyter-widgets/base",
      "_view_module_version": "1.2.0",
      "_view_name": "LayoutView",
      "align_content": null,
      "align_items": null,
      "align_self": null,
      "border": null,
      "bottom": null,
      "display": null,
      "flex": null,
      "flex_flow": null,
      "grid_area": null,
      "grid_auto_columns": null,
      "grid_auto_flow": null,
      "grid_auto_rows": null,
      "grid_column": null,
      "grid_gap": null,
      "grid_row": null,
      "grid_template_areas": null,
      "grid_template_columns": null,
      "grid_template_rows": null,
      "height": null,
      "justify_content": null,
      "justify_items": null,
      "left": null,
      "margin": null,
      "max_height": null,
      "max_width": null,
      "min_height": null,
      "min_width": null,
      "object_fit": null,
      "object_position": null,
      "order": null,
      "overflow": null,
      "overflow_x": null,
      "overflow_y": null,
      "padding": null,
      "right": null,
      "top": null,
      "visibility": null,
      "width": null
     }
    },
    "5ce4f464eb094b16bf79eeeb3a4956e4": {
     "model_module": "@jupyter-widgets/controls",
     "model_module_version": "1.5.0",
     "model_name": "HTMLModel",
     "state": {
      "_dom_classes": [],
      "_model_module": "@jupyter-widgets/controls",
      "_model_module_version": "1.5.0",
      "_model_name": "HTMLModel",
      "_view_count": null,
      "_view_module": "@jupyter-widgets/controls",
      "_view_module_version": "1.5.0",
      "_view_name": "HTMLView",
      "description": "",
      "description_tooltip": null,
      "layout": "IPY_MODEL_49f02285c9ba45f5917058bee1045415",
      "placeholder": "​",
      "style": "IPY_MODEL_092c74935e7a4ac9a185535d709cd9ad",
      "value": " 466k/466k [00:00&lt;00:00, 17.6MB/s]"
     }
    },
    "73fde457d05e450baa516d5730a64d0f": {
     "model_module": "@jupyter-widgets/base",
     "model_module_version": "1.2.0",
     "model_name": "LayoutModel",
     "state": {
      "_model_module": "@jupyter-widgets/base",
      "_model_module_version": "1.2.0",
      "_model_name": "LayoutModel",
      "_view_count": null,
      "_view_module": "@jupyter-widgets/base",
      "_view_module_version": "1.2.0",
      "_view_name": "LayoutView",
      "align_content": null,
      "align_items": null,
      "align_self": null,
      "border": null,
      "bottom": null,
      "display": null,
      "flex": null,
      "flex_flow": null,
      "grid_area": null,
      "grid_auto_columns": null,
      "grid_auto_flow": null,
      "grid_auto_rows": null,
      "grid_column": null,
      "grid_gap": null,
      "grid_row": null,
      "grid_template_areas": null,
      "grid_template_columns": null,
      "grid_template_rows": null,
      "height": null,
      "justify_content": null,
      "justify_items": null,
      "left": null,
      "margin": null,
      "max_height": null,
      "max_width": null,
      "min_height": null,
      "min_width": null,
      "object_fit": null,
      "object_position": null,
      "order": null,
      "overflow": null,
      "overflow_x": null,
      "overflow_y": null,
      "padding": null,
      "right": null,
      "top": null,
      "visibility": null,
      "width": null
     }
    },
    "7c369fa2802345408265b856264319de": {
     "model_module": "@jupyter-widgets/base",
     "model_module_version": "1.2.0",
     "model_name": "LayoutModel",
     "state": {
      "_model_module": "@jupyter-widgets/base",
      "_model_module_version": "1.2.0",
      "_model_name": "LayoutModel",
      "_view_count": null,
      "_view_module": "@jupyter-widgets/base",
      "_view_module_version": "1.2.0",
      "_view_name": "LayoutView",
      "align_content": null,
      "align_items": null,
      "align_self": null,
      "border": null,
      "bottom": null,
      "display": null,
      "flex": null,
      "flex_flow": null,
      "grid_area": null,
      "grid_auto_columns": null,
      "grid_auto_flow": null,
      "grid_auto_rows": null,
      "grid_column": null,
      "grid_gap": null,
      "grid_row": null,
      "grid_template_areas": null,
      "grid_template_columns": null,
      "grid_template_rows": null,
      "height": null,
      "justify_content": null,
      "justify_items": null,
      "left": null,
      "margin": null,
      "max_height": null,
      "max_width": null,
      "min_height": null,
      "min_width": null,
      "object_fit": null,
      "object_position": null,
      "order": null,
      "overflow": null,
      "overflow_x": null,
      "overflow_y": null,
      "padding": null,
      "right": null,
      "top": null,
      "visibility": null,
      "width": null
     }
    },
    "7fb5ddb7c7024b42971aa0c304621621": {
     "model_module": "@jupyter-widgets/controls",
     "model_module_version": "1.5.0",
     "model_name": "DescriptionStyleModel",
     "state": {
      "_model_module": "@jupyter-widgets/controls",
      "_model_module_version": "1.5.0",
      "_model_name": "DescriptionStyleModel",
      "_view_count": null,
      "_view_module": "@jupyter-widgets/base",
      "_view_module_version": "1.2.0",
      "_view_name": "StyleView",
      "description_width": ""
     }
    },
    "80ec974da8b5452cbfe7c7b0bf3a03ac": {
     "model_module": "@jupyter-widgets/base",
     "model_module_version": "1.2.0",
     "model_name": "LayoutModel",
     "state": {
      "_model_module": "@jupyter-widgets/base",
      "_model_module_version": "1.2.0",
      "_model_name": "LayoutModel",
      "_view_count": null,
      "_view_module": "@jupyter-widgets/base",
      "_view_module_version": "1.2.0",
      "_view_name": "LayoutView",
      "align_content": null,
      "align_items": null,
      "align_self": null,
      "border": null,
      "bottom": null,
      "display": null,
      "flex": null,
      "flex_flow": null,
      "grid_area": null,
      "grid_auto_columns": null,
      "grid_auto_flow": null,
      "grid_auto_rows": null,
      "grid_column": null,
      "grid_gap": null,
      "grid_row": null,
      "grid_template_areas": null,
      "grid_template_columns": null,
      "grid_template_rows": null,
      "height": null,
      "justify_content": null,
      "justify_items": null,
      "left": null,
      "margin": null,
      "max_height": null,
      "max_width": null,
      "min_height": null,
      "min_width": null,
      "object_fit": null,
      "object_position": null,
      "order": null,
      "overflow": null,
      "overflow_x": null,
      "overflow_y": null,
      "padding": null,
      "right": null,
      "top": null,
      "visibility": null,
      "width": null
     }
    },
    "875b125909124befacf3be402b2a6a91": {
     "model_module": "@jupyter-widgets/controls",
     "model_module_version": "1.5.0",
     "model_name": "FloatProgressModel",
     "state": {
      "_dom_classes": [],
      "_model_module": "@jupyter-widgets/controls",
      "_model_module_version": "1.5.0",
      "_model_name": "FloatProgressModel",
      "_view_count": null,
      "_view_module": "@jupyter-widgets/controls",
      "_view_module_version": "1.5.0",
      "_view_name": "ProgressView",
      "bar_style": "success",
      "description": "",
      "description_tooltip": null,
      "layout": "IPY_MODEL_73fde457d05e450baa516d5730a64d0f",
      "max": 231508,
      "min": 0,
      "orientation": "horizontal",
      "style": "IPY_MODEL_ee74395ec2e44cd3ae653c3a066963fe",
      "value": 231508
     }
    },
    "8a7ed5c893644e599ced9a34d2fe1c94": {
     "model_module": "@jupyter-widgets/controls",
     "model_module_version": "1.5.0",
     "model_name": "HTMLModel",
     "state": {
      "_dom_classes": [],
      "_model_module": "@jupyter-widgets/controls",
      "_model_module_version": "1.5.0",
      "_model_name": "HTMLModel",
      "_view_count": null,
      "_view_module": "@jupyter-widgets/controls",
      "_view_module_version": "1.5.0",
      "_view_name": "HTMLView",
      "description": "",
      "description_tooltip": null,
      "layout": "IPY_MODEL_95b7ca3165c7462195b714cc54993411",
      "placeholder": "​",
      "style": "IPY_MODEL_bb015c7c8f224109b5f3e28524dd6e05",
      "value": " 232k/232k [00:00&lt;00:00, 5.62MB/s]"
     }
    },
    "9157ae62362e47cabadc6f614ed2695a": {
     "model_module": "@jupyter-widgets/controls",
     "model_module_version": "1.5.0",
     "model_name": "DescriptionStyleModel",
     "state": {
      "_model_module": "@jupyter-widgets/controls",
      "_model_module_version": "1.5.0",
      "_model_name": "DescriptionStyleModel",
      "_view_count": null,
      "_view_module": "@jupyter-widgets/base",
      "_view_module_version": "1.2.0",
      "_view_name": "StyleView",
      "description_width": ""
     }
    },
    "95b7ca3165c7462195b714cc54993411": {
     "model_module": "@jupyter-widgets/base",
     "model_module_version": "1.2.0",
     "model_name": "LayoutModel",
     "state": {
      "_model_module": "@jupyter-widgets/base",
      "_model_module_version": "1.2.0",
      "_model_name": "LayoutModel",
      "_view_count": null,
      "_view_module": "@jupyter-widgets/base",
      "_view_module_version": "1.2.0",
      "_view_name": "LayoutView",
      "align_content": null,
      "align_items": null,
      "align_self": null,
      "border": null,
      "bottom": null,
      "display": null,
      "flex": null,
      "flex_flow": null,
      "grid_area": null,
      "grid_auto_columns": null,
      "grid_auto_flow": null,
      "grid_auto_rows": null,
      "grid_column": null,
      "grid_gap": null,
      "grid_row": null,
      "grid_template_areas": null,
      "grid_template_columns": null,
      "grid_template_rows": null,
      "height": null,
      "justify_content": null,
      "justify_items": null,
      "left": null,
      "margin": null,
      "max_height": null,
      "max_width": null,
      "min_height": null,
      "min_width": null,
      "object_fit": null,
      "object_position": null,
      "order": null,
      "overflow": null,
      "overflow_x": null,
      "overflow_y": null,
      "padding": null,
      "right": null,
      "top": null,
      "visibility": null,
      "width": null
     }
    },
    "99b134f8bba841298bb8d66a9235b09f": {
     "model_module": "@jupyter-widgets/base",
     "model_module_version": "1.2.0",
     "model_name": "LayoutModel",
     "state": {
      "_model_module": "@jupyter-widgets/base",
      "_model_module_version": "1.2.0",
      "_model_name": "LayoutModel",
      "_view_count": null,
      "_view_module": "@jupyter-widgets/base",
      "_view_module_version": "1.2.0",
      "_view_name": "LayoutView",
      "align_content": null,
      "align_items": null,
      "align_self": null,
      "border": null,
      "bottom": null,
      "display": null,
      "flex": null,
      "flex_flow": null,
      "grid_area": null,
      "grid_auto_columns": null,
      "grid_auto_flow": null,
      "grid_auto_rows": null,
      "grid_column": null,
      "grid_gap": null,
      "grid_row": null,
      "grid_template_areas": null,
      "grid_template_columns": null,
      "grid_template_rows": null,
      "height": null,
      "justify_content": null,
      "justify_items": null,
      "left": null,
      "margin": null,
      "max_height": null,
      "max_width": null,
      "min_height": null,
      "min_width": null,
      "object_fit": null,
      "object_position": null,
      "order": null,
      "overflow": null,
      "overflow_x": null,
      "overflow_y": null,
      "padding": null,
      "right": null,
      "top": null,
      "visibility": null,
      "width": null
     }
    },
    "9a8df78f5ec6407ebb100dbc4572ddcc": {
     "model_module": "@jupyter-widgets/controls",
     "model_module_version": "1.5.0",
     "model_name": "HTMLModel",
     "state": {
      "_dom_classes": [],
      "_model_module": "@jupyter-widgets/controls",
      "_model_module_version": "1.5.0",
      "_model_name": "HTMLModel",
      "_view_count": null,
      "_view_module": "@jupyter-widgets/controls",
      "_view_module_version": "1.5.0",
      "_view_name": "HTMLView",
      "description": "",
      "description_tooltip": null,
      "layout": "IPY_MODEL_c4c1e887d18e4e70afdc9f26b772e9aa",
      "placeholder": "​",
      "style": "IPY_MODEL_9d0cb452db844f35b471024bc6daf9ed",
      "value": "vocab.txt: 100%"
     }
    },
    "9d0cb452db844f35b471024bc6daf9ed": {
     "model_module": "@jupyter-widgets/controls",
     "model_module_version": "1.5.0",
     "model_name": "DescriptionStyleModel",
     "state": {
      "_model_module": "@jupyter-widgets/controls",
      "_model_module_version": "1.5.0",
      "_model_name": "DescriptionStyleModel",
      "_view_count": null,
      "_view_module": "@jupyter-widgets/base",
      "_view_module_version": "1.2.0",
      "_view_name": "StyleView",
      "description_width": ""
     }
    },
    "9f8298fe35db4599a5182a2ff4e7fada": {
     "model_module": "@jupyter-widgets/controls",
     "model_module_version": "1.5.0",
     "model_name": "HBoxModel",
     "state": {
      "_dom_classes": [],
      "_model_module": "@jupyter-widgets/controls",
      "_model_module_version": "1.5.0",
      "_model_name": "HBoxModel",
      "_view_count": null,
      "_view_module": "@jupyter-widgets/controls",
      "_view_module_version": "1.5.0",
      "_view_name": "HBoxView",
      "box_style": "",
      "children": [
       "IPY_MODEL_9a8df78f5ec6407ebb100dbc4572ddcc",
       "IPY_MODEL_875b125909124befacf3be402b2a6a91",
       "IPY_MODEL_8a7ed5c893644e599ced9a34d2fe1c94"
      ],
      "layout": "IPY_MODEL_43bd0de55e2a4a418034f19d7dbbaf7b"
     }
    },
    "bb015c7c8f224109b5f3e28524dd6e05": {
     "model_module": "@jupyter-widgets/controls",
     "model_module_version": "1.5.0",
     "model_name": "DescriptionStyleModel",
     "state": {
      "_model_module": "@jupyter-widgets/controls",
      "_model_module_version": "1.5.0",
      "_model_name": "DescriptionStyleModel",
      "_view_count": null,
      "_view_module": "@jupyter-widgets/base",
      "_view_module_version": "1.2.0",
      "_view_name": "StyleView",
      "description_width": ""
     }
    },
    "bc028c0b5ef84087b05ab751e8188a0d": {
     "model_module": "@jupyter-widgets/base",
     "model_module_version": "1.2.0",
     "model_name": "LayoutModel",
     "state": {
      "_model_module": "@jupyter-widgets/base",
      "_model_module_version": "1.2.0",
      "_model_name": "LayoutModel",
      "_view_count": null,
      "_view_module": "@jupyter-widgets/base",
      "_view_module_version": "1.2.0",
      "_view_name": "LayoutView",
      "align_content": null,
      "align_items": null,
      "align_self": null,
      "border": null,
      "bottom": null,
      "display": null,
      "flex": null,
      "flex_flow": null,
      "grid_area": null,
      "grid_auto_columns": null,
      "grid_auto_flow": null,
      "grid_auto_rows": null,
      "grid_column": null,
      "grid_gap": null,
      "grid_row": null,
      "grid_template_areas": null,
      "grid_template_columns": null,
      "grid_template_rows": null,
      "height": null,
      "justify_content": null,
      "justify_items": null,
      "left": null,
      "margin": null,
      "max_height": null,
      "max_width": null,
      "min_height": null,
      "min_width": null,
      "object_fit": null,
      "object_position": null,
      "order": null,
      "overflow": null,
      "overflow_x": null,
      "overflow_y": null,
      "padding": null,
      "right": null,
      "top": null,
      "visibility": null,
      "width": null
     }
    },
    "bc1945333a2540c9b1f86322f36cdea8": {
     "model_module": "@jupyter-widgets/controls",
     "model_module_version": "1.5.0",
     "model_name": "HBoxModel",
     "state": {
      "_dom_classes": [],
      "_model_module": "@jupyter-widgets/controls",
      "_model_module_version": "1.5.0",
      "_model_name": "HBoxModel",
      "_view_count": null,
      "_view_module": "@jupyter-widgets/controls",
      "_view_module_version": "1.5.0",
      "_view_name": "HBoxView",
      "box_style": "",
      "children": [
       "IPY_MODEL_3501c0bde1954079b6ad6556668187ca",
       "IPY_MODEL_28233c6c11184cff9a1d90202feedd88",
       "IPY_MODEL_5ce4f464eb094b16bf79eeeb3a4956e4"
      ],
      "layout": "IPY_MODEL_7c369fa2802345408265b856264319de"
     }
    },
    "bffa6404a251479fb63915002a9e3ded": {
     "model_module": "@jupyter-widgets/base",
     "model_module_version": "1.2.0",
     "model_name": "LayoutModel",
     "state": {
      "_model_module": "@jupyter-widgets/base",
      "_model_module_version": "1.2.0",
      "_model_name": "LayoutModel",
      "_view_count": null,
      "_view_module": "@jupyter-widgets/base",
      "_view_module_version": "1.2.0",
      "_view_name": "LayoutView",
      "align_content": null,
      "align_items": null,
      "align_self": null,
      "border": null,
      "bottom": null,
      "display": null,
      "flex": null,
      "flex_flow": null,
      "grid_area": null,
      "grid_auto_columns": null,
      "grid_auto_flow": null,
      "grid_auto_rows": null,
      "grid_column": null,
      "grid_gap": null,
      "grid_row": null,
      "grid_template_areas": null,
      "grid_template_columns": null,
      "grid_template_rows": null,
      "height": null,
      "justify_content": null,
      "justify_items": null,
      "left": null,
      "margin": null,
      "max_height": null,
      "max_width": null,
      "min_height": null,
      "min_width": null,
      "object_fit": null,
      "object_position": null,
      "order": null,
      "overflow": null,
      "overflow_x": null,
      "overflow_y": null,
      "padding": null,
      "right": null,
      "top": null,
      "visibility": null,
      "width": null
     }
    },
    "c11231aa7a664131b2add66822a566c7": {
     "model_module": "@jupyter-widgets/controls",
     "model_module_version": "1.5.0",
     "model_name": "DescriptionStyleModel",
     "state": {
      "_model_module": "@jupyter-widgets/controls",
      "_model_module_version": "1.5.0",
      "_model_name": "DescriptionStyleModel",
      "_view_count": null,
      "_view_module": "@jupyter-widgets/base",
      "_view_module_version": "1.2.0",
      "_view_name": "StyleView",
      "description_width": ""
     }
    },
    "c4c1e887d18e4e70afdc9f26b772e9aa": {
     "model_module": "@jupyter-widgets/base",
     "model_module_version": "1.2.0",
     "model_name": "LayoutModel",
     "state": {
      "_model_module": "@jupyter-widgets/base",
      "_model_module_version": "1.2.0",
      "_model_name": "LayoutModel",
      "_view_count": null,
      "_view_module": "@jupyter-widgets/base",
      "_view_module_version": "1.2.0",
      "_view_name": "LayoutView",
      "align_content": null,
      "align_items": null,
      "align_self": null,
      "border": null,
      "bottom": null,
      "display": null,
      "flex": null,
      "flex_flow": null,
      "grid_area": null,
      "grid_auto_columns": null,
      "grid_auto_flow": null,
      "grid_auto_rows": null,
      "grid_column": null,
      "grid_gap": null,
      "grid_row": null,
      "grid_template_areas": null,
      "grid_template_columns": null,
      "grid_template_rows": null,
      "height": null,
      "justify_content": null,
      "justify_items": null,
      "left": null,
      "margin": null,
      "max_height": null,
      "max_width": null,
      "min_height": null,
      "min_width": null,
      "object_fit": null,
      "object_position": null,
      "order": null,
      "overflow": null,
      "overflow_x": null,
      "overflow_y": null,
      "padding": null,
      "right": null,
      "top": null,
      "visibility": null,
      "width": null
     }
    },
    "c4f93c3b085146ebb376c77a39081681": {
     "model_module": "@jupyter-widgets/base",
     "model_module_version": "1.2.0",
     "model_name": "LayoutModel",
     "state": {
      "_model_module": "@jupyter-widgets/base",
      "_model_module_version": "1.2.0",
      "_model_name": "LayoutModel",
      "_view_count": null,
      "_view_module": "@jupyter-widgets/base",
      "_view_module_version": "1.2.0",
      "_view_name": "LayoutView",
      "align_content": null,
      "align_items": null,
      "align_self": null,
      "border": null,
      "bottom": null,
      "display": null,
      "flex": null,
      "flex_flow": null,
      "grid_area": null,
      "grid_auto_columns": null,
      "grid_auto_flow": null,
      "grid_auto_rows": null,
      "grid_column": null,
      "grid_gap": null,
      "grid_row": null,
      "grid_template_areas": null,
      "grid_template_columns": null,
      "grid_template_rows": null,
      "height": null,
      "justify_content": null,
      "justify_items": null,
      "left": null,
      "margin": null,
      "max_height": null,
      "max_width": null,
      "min_height": null,
      "min_width": null,
      "object_fit": null,
      "object_position": null,
      "order": null,
      "overflow": null,
      "overflow_x": null,
      "overflow_y": null,
      "padding": null,
      "right": null,
      "top": null,
      "visibility": null,
      "width": null
     }
    },
    "c5ffe37ba08d44e0881dd625ee4b683d": {
     "model_module": "@jupyter-widgets/base",
     "model_module_version": "1.2.0",
     "model_name": "LayoutModel",
     "state": {
      "_model_module": "@jupyter-widgets/base",
      "_model_module_version": "1.2.0",
      "_model_name": "LayoutModel",
      "_view_count": null,
      "_view_module": "@jupyter-widgets/base",
      "_view_module_version": "1.2.0",
      "_view_name": "LayoutView",
      "align_content": null,
      "align_items": null,
      "align_self": null,
      "border": null,
      "bottom": null,
      "display": null,
      "flex": null,
      "flex_flow": null,
      "grid_area": null,
      "grid_auto_columns": null,
      "grid_auto_flow": null,
      "grid_auto_rows": null,
      "grid_column": null,
      "grid_gap": null,
      "grid_row": null,
      "grid_template_areas": null,
      "grid_template_columns": null,
      "grid_template_rows": null,
      "height": null,
      "justify_content": null,
      "justify_items": null,
      "left": null,
      "margin": null,
      "max_height": null,
      "max_width": null,
      "min_height": null,
      "min_width": null,
      "object_fit": null,
      "object_position": null,
      "order": null,
      "overflow": null,
      "overflow_x": null,
      "overflow_y": null,
      "padding": null,
      "right": null,
      "top": null,
      "visibility": null,
      "width": null
     }
    },
    "cb436f75037b45a6a6095a5c3bd7944f": {
     "model_module": "@jupyter-widgets/controls",
     "model_module_version": "1.5.0",
     "model_name": "HTMLModel",
     "state": {
      "_dom_classes": [],
      "_model_module": "@jupyter-widgets/controls",
      "_model_module_version": "1.5.0",
      "_model_name": "HTMLModel",
      "_view_count": null,
      "_view_module": "@jupyter-widgets/controls",
      "_view_module_version": "1.5.0",
      "_view_name": "HTMLView",
      "description": "",
      "description_tooltip": null,
      "layout": "IPY_MODEL_99b134f8bba841298bb8d66a9235b09f",
      "placeholder": "​",
      "style": "IPY_MODEL_7fb5ddb7c7024b42971aa0c304621621",
      "value": " 483/483 [00:00&lt;00:00, 29.9kB/s]"
     }
    },
    "daf5d4f525ef465b9c1d26a31aa59c02": {
     "model_module": "@jupyter-widgets/controls",
     "model_module_version": "1.5.0",
     "model_name": "DescriptionStyleModel",
     "state": {
      "_model_module": "@jupyter-widgets/controls",
      "_model_module_version": "1.5.0",
      "_model_name": "DescriptionStyleModel",
      "_view_count": null,
      "_view_module": "@jupyter-widgets/base",
      "_view_module_version": "1.2.0",
      "_view_name": "StyleView",
      "description_width": ""
     }
    },
    "e86ec2dbb5f145e8ab14f84d869c75d2": {
     "model_module": "@jupyter-widgets/controls",
     "model_module_version": "1.5.0",
     "model_name": "DescriptionStyleModel",
     "state": {
      "_model_module": "@jupyter-widgets/controls",
      "_model_module_version": "1.5.0",
      "_model_name": "DescriptionStyleModel",
      "_view_count": null,
      "_view_module": "@jupyter-widgets/base",
      "_view_module_version": "1.2.0",
      "_view_name": "StyleView",
      "description_width": ""
     }
    },
    "eb53ba5a6f7449f4b49f70531ac399ae": {
     "model_module": "@jupyter-widgets/controls",
     "model_module_version": "1.5.0",
     "model_name": "ProgressStyleModel",
     "state": {
      "_model_module": "@jupyter-widgets/controls",
      "_model_module_version": "1.5.0",
      "_model_name": "ProgressStyleModel",
      "_view_count": null,
      "_view_module": "@jupyter-widgets/base",
      "_view_module_version": "1.2.0",
      "_view_name": "StyleView",
      "bar_color": null,
      "description_width": ""
     }
    },
    "ec3adfcfa00a40e98e98ada23b9f8c79": {
     "model_module": "@jupyter-widgets/controls",
     "model_module_version": "1.5.0",
     "model_name": "ProgressStyleModel",
     "state": {
      "_model_module": "@jupyter-widgets/controls",
      "_model_module_version": "1.5.0",
      "_model_name": "ProgressStyleModel",
      "_view_count": null,
      "_view_module": "@jupyter-widgets/base",
      "_view_module_version": "1.2.0",
      "_view_name": "StyleView",
      "bar_color": null,
      "description_width": ""
     }
    },
    "ee68495ed71440478744b5453bbf7b93": {
     "model_module": "@jupyter-widgets/controls",
     "model_module_version": "1.5.0",
     "model_name": "HBoxModel",
     "state": {
      "_dom_classes": [],
      "_model_module": "@jupyter-widgets/controls",
      "_model_module_version": "1.5.0",
      "_model_name": "HBoxModel",
      "_view_count": null,
      "_view_module": "@jupyter-widgets/controls",
      "_view_module_version": "1.5.0",
      "_view_name": "HBoxView",
      "box_style": "",
      "children": [
       "IPY_MODEL_fb1fef198809455ba9d10a48292b7097",
       "IPY_MODEL_3f5285ca2efe40a69e07f5e31cc2c3c1",
       "IPY_MODEL_cb436f75037b45a6a6095a5c3bd7944f"
      ],
      "layout": "IPY_MODEL_c4f93c3b085146ebb376c77a39081681"
     }
    },
    "ee74395ec2e44cd3ae653c3a066963fe": {
     "model_module": "@jupyter-widgets/controls",
     "model_module_version": "1.5.0",
     "model_name": "ProgressStyleModel",
     "state": {
      "_model_module": "@jupyter-widgets/controls",
      "_model_module_version": "1.5.0",
      "_model_name": "ProgressStyleModel",
      "_view_count": null,
      "_view_module": "@jupyter-widgets/base",
      "_view_module_version": "1.2.0",
      "_view_name": "StyleView",
      "bar_color": null,
      "description_width": ""
     }
    },
    "f86633529182492db15151fceb37bccb": {
     "model_module": "@jupyter-widgets/controls",
     "model_module_version": "1.5.0",
     "model_name": "ProgressStyleModel",
     "state": {
      "_model_module": "@jupyter-widgets/controls",
      "_model_module_version": "1.5.0",
      "_model_name": "ProgressStyleModel",
      "_view_count": null,
      "_view_module": "@jupyter-widgets/base",
      "_view_module_version": "1.2.0",
      "_view_name": "StyleView",
      "bar_color": null,
      "description_width": ""
     }
    },
    "fb1fef198809455ba9d10a48292b7097": {
     "model_module": "@jupyter-widgets/controls",
     "model_module_version": "1.5.0",
     "model_name": "HTMLModel",
     "state": {
      "_dom_classes": [],
      "_model_module": "@jupyter-widgets/controls",
      "_model_module_version": "1.5.0",
      "_model_name": "HTMLModel",
      "_view_count": null,
      "_view_module": "@jupyter-widgets/controls",
      "_view_module_version": "1.5.0",
      "_view_name": "HTMLView",
      "description": "",
      "description_tooltip": null,
      "layout": "IPY_MODEL_5ad407489dcd488e9a3e93d47c2d739d",
      "placeholder": "​",
      "style": "IPY_MODEL_c11231aa7a664131b2add66822a566c7",
      "value": "config.json: 100%"
     }
    },
    "fc261bc3ba1d413b8f8efd5adcac71e6": {
     "model_module": "@jupyter-widgets/base",
     "model_module_version": "1.2.0",
     "model_name": "LayoutModel",
     "state": {
      "_model_module": "@jupyter-widgets/base",
      "_model_module_version": "1.2.0",
      "_model_name": "LayoutModel",
      "_view_count": null,
      "_view_module": "@jupyter-widgets/base",
      "_view_module_version": "1.2.0",
      "_view_name": "LayoutView",
      "align_content": null,
      "align_items": null,
      "align_self": null,
      "border": null,
      "bottom": null,
      "display": null,
      "flex": null,
      "flex_flow": null,
      "grid_area": null,
      "grid_auto_columns": null,
      "grid_auto_flow": null,
      "grid_auto_rows": null,
      "grid_column": null,
      "grid_gap": null,
      "grid_row": null,
      "grid_template_areas": null,
      "grid_template_columns": null,
      "grid_template_rows": null,
      "height": null,
      "justify_content": null,
      "justify_items": null,
      "left": null,
      "margin": null,
      "max_height": null,
      "max_width": null,
      "min_height": null,
      "min_width": null,
      "object_fit": null,
      "object_position": null,
      "order": null,
      "overflow": null,
      "overflow_x": null,
      "overflow_y": null,
      "padding": null,
      "right": null,
      "top": null,
      "visibility": null,
      "width": null
     }
    },
    "fca5b5e4105743888a2470e62695d165": {
     "model_module": "@jupyter-widgets/base",
     "model_module_version": "1.2.0",
     "model_name": "LayoutModel",
     "state": {
      "_model_module": "@jupyter-widgets/base",
      "_model_module_version": "1.2.0",
      "_model_name": "LayoutModel",
      "_view_count": null,
      "_view_module": "@jupyter-widgets/base",
      "_view_module_version": "1.2.0",
      "_view_name": "LayoutView",
      "align_content": null,
      "align_items": null,
      "align_self": null,
      "border": null,
      "bottom": null,
      "display": null,
      "flex": null,
      "flex_flow": null,
      "grid_area": null,
      "grid_auto_columns": null,
      "grid_auto_flow": null,
      "grid_auto_rows": null,
      "grid_column": null,
      "grid_gap": null,
      "grid_row": null,
      "grid_template_areas": null,
      "grid_template_columns": null,
      "grid_template_rows": null,
      "height": null,
      "justify_content": null,
      "justify_items": null,
      "left": null,
      "margin": null,
      "max_height": null,
      "max_width": null,
      "min_height": null,
      "min_width": null,
      "object_fit": null,
      "object_position": null,
      "order": null,
      "overflow": null,
      "overflow_x": null,
      "overflow_y": null,
      "padding": null,
      "right": null,
      "top": null,
      "visibility": null,
      "width": null
     }
    }
   }
  }
 },
 "nbformat": 4,
 "nbformat_minor": 1
}
